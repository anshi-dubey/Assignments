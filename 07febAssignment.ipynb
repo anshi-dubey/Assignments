{
 "cells": [
  {
   "cell_type": "raw",
   "id": "84ce6e5b",
   "metadata": {},
   "source": [
    "Q1. You are writing code for a company. The requirement of the company is that you create a python\n",
    "function that will check whether the password entered by the user is correct or not. The function should take the password as input and return the string “Valid Password” if the entered password follows the below-given password guidelines else it should return “Invalid Password”.\n",
    "\n",
    "\n",
    "Note: 1. The Password should contain at least two uppercase letters and at least two lowercase letters.\n",
    "\n",
    "2. The Password should contain at least a number and three special characters.\n",
    "\n",
    "3. The length of the password should be 10 characters long.\n"
   ]
  },
  {
   "cell_type": "code",
   "execution_count": 2,
   "id": "31291665",
   "metadata": {},
   "outputs": [
    {
     "name": "stdout",
     "output_type": "stream",
     "text": [
      "ENTER NEW PASSWORD: AAnshuaks8888%%%\n"
     ]
    },
    {
     "data": {
      "text/plain": [
       "'Valid'"
      ]
     },
     "execution_count": 2,
     "metadata": {},
     "output_type": "execute_result"
    }
   ],
   "source": [
    "def passwd(string):\n",
    "    temp=string\n",
    "    count_up=0\n",
    "    count_lower=0\n",
    "    count_special=0\n",
    "    count_numb=0\n",
    "    for i in range(len(string)):\n",
    "        if string[i].isupper():\n",
    "            count_up=count_up+1\n",
    "        elif string[i].islower():\n",
    "            count_lower+=1\n",
    "        elif string[i].isdigit():\n",
    "            count_numb+=1\n",
    "        else:\n",
    "            count_special+=1\n",
    "\n",
    "    s1= True if len(string)>=10 else print(\"The length of the password should be 10 characters long.\")\n",
    "    s2=True if count_lower>=2 else print(\"The Password should contain at least two lowercase letters\") \n",
    "    s3=True if count_up>=2 else print(\"The Password should contain at least two uppercase letters\") \n",
    "    s4=True if count_numb>=1 else print(\"The Password should contain at least a number\" )\n",
    "    s5=True  if count_special>=3 else print(\"The Password should contain at least three special characters.\")\n",
    "\n",
    "    return \"Valid\" if (s1 and s2 and s3 and s3 and s4 and s5)== True else \"Invalid\"\n",
    "    \n",
    "    \n",
    "inp=input(\"ENTER NEW PASSWORD: \")\n",
    "passwd(inp)"
   ]
  },
  {
   "cell_type": "raw",
   "id": "0cb825e5",
   "metadata": {},
   "source": [
    "Q2. Solve the below-given questions using at least one of the following: \n",
    "\n",
    "1. Lambda function\n",
    "2. Filter function\n",
    "3. Zap function\n",
    "4. List Comprehension\n",
    "\n",
    "a--> Check if the string starts with a particular letter\n",
    "b--> Check if the string is numeric\n",
    "c--> Sort a list of tuples having fruit names and their quantity. [(\"mango\",99),(\"orange\",80), (\"grapes\", 1000)]\n",
    "d--> Find the squares of numbers from 1 to 10\n",
    "e--> Find the cube root of numbers from 1 to 10\n",
    "f--> Check if a given number is even\n",
    "g--> Filter odd numbers from the given list. \n",
    "          [1,2,3,4,5,6,7,8,9,10]\n",
    "h--> Sort a list of integers into positive and negative integers lists.\n",
    "          [1,2,3,4,5,6,-1,-2,-3,-4,-5,0]"
   ]
  },
  {
   "cell_type": "code",
   "execution_count": 8,
   "id": "ceea632c",
   "metadata": {},
   "outputs": [
    {
     "name": "stdout",
     "output_type": "stream",
     "text": [
      "Check if the string starts with: \"P\" \n",
      "Enter String: Particular \n",
      "YES the given string starts with: \"P\"\n"
     ]
    }
   ],
   "source": [
    "# --> Check if the string starts with a particular letter\n",
    "print(\"Check if the string starts with: \\\"P\\\" \")\n",
    "input1=input(\"Enter String: \")\n",
    "if input1[0]=='P' or input1[0]=='p':\n",
    "    print(\"YES the given string starts with: \\\"P\\\"\")\n",
    "else:\n",
    "    print(\"YES the given string starts with: \\\"P\\\"\")"
   ]
  },
  {
   "cell_type": "code",
   "execution_count": 9,
   "id": "360ae2a8",
   "metadata": {},
   "outputs": [
    {
     "name": "stdout",
     "output_type": "stream",
     "text": [
      "Enter String: 12333\n",
      "String is Numeric\n"
     ]
    }
   ],
   "source": [
    "# Check if the string is numeric\n",
    "input2=input(\"Enter String: \")\n",
    "if input2.isnumeric():\n",
    "    print(\"String is Numeric\")\n",
    "else:\n",
    "    print(\"String is Not Numeric\")"
   ]
  },
  {
   "cell_type": "code",
   "execution_count": 30,
   "id": "578c6ed0",
   "metadata": {},
   "outputs": [
    {
     "name": "stdout",
     "output_type": "stream",
     "text": [
      "[('orange', 80), ('mango', 99), ('grapes', 1000)]\n"
     ]
    }
   ],
   "source": [
    "#Sort a list of tuples having fruit names and their quantity. [(\"mango\",99),(\"orange\",80), (\"grapes\", 1000)]\n",
    "\n",
    "fruits=[(\"mango\",99),(\"orange\",80), (\"grapes\", 1000)]\n",
    "fruits.sort(key=lambda x:x[1])\n",
    "print(fruits)  \n"
   ]
  },
  {
   "cell_type": "code",
   "execution_count": 36,
   "id": "8e5fdca0",
   "metadata": {},
   "outputs": [
    {
     "name": "stdout",
     "output_type": "stream",
     "text": [
      "[1, 4, 9, 16, 25, 36, 49, 64, 81, 100]\n"
     ]
    }
   ],
   "source": [
    "# Find the squares of numbers from 1 to 10\n",
    "sq=[i*i for i in range(1,11)]\n",
    "print(sq)"
   ]
  },
  {
   "cell_type": "code",
   "execution_count": 38,
   "id": "81a6ed8a",
   "metadata": {},
   "outputs": [
    {
     "name": "stdout",
     "output_type": "stream",
     "text": [
      "[1, 8, 27, 64, 125, 216, 343, 512, 729, 1000]\n"
     ]
    }
   ],
   "source": [
    "# Find the cube root of numbers from 1 to 10\n",
    "cube=[i*i*i for i in range(1,11)]\n",
    "print(cube)"
   ]
  },
  {
   "cell_type": "code",
   "execution_count": 1,
   "id": "3c86bd08",
   "metadata": {},
   "outputs": [
    {
     "name": "stdout",
     "output_type": "stream",
     "text": [
      "ENTER A NUMBER: 22\n"
     ]
    },
    {
     "data": {
      "text/plain": [
       "'Given Number is Even'"
      ]
     },
     "execution_count": 1,
     "metadata": {},
     "output_type": "execute_result"
    }
   ],
   "source": [
    "# Check if a given number is even\n",
    "input3=int(input(\"ENTER A NUMBER: \"))\n",
    "even='Given Number is Even' if input3 %2==0 else 'Given Number is Not Even'\n",
    "even"
   ]
  },
  {
   "cell_type": "code",
   "execution_count": 12,
   "id": "76f1d5c2",
   "metadata": {},
   "outputs": [
    {
     "name": "stdout",
     "output_type": "stream",
     "text": [
      "[1, 3, 5, 7, 9]\n"
     ]
    }
   ],
   "source": [
    "# --> Filter odd numbers from the given list. \n",
    "#           [1,2,3,4,5,6,7,8,9,10]\n",
    "\n",
    "given_list=[1,2,3,4,5,6,7,8,9,10]\n",
    "odd=list(filter(lambda x:x%2!=0,given_list))\n",
    "print(odd)\n"
   ]
  },
  {
   "cell_type": "code",
   "execution_count": 8,
   "id": "f42cbbea",
   "metadata": {},
   "outputs": [
    {
     "name": "stdout",
     "output_type": "stream",
     "text": [
      "[-5, -4, -3, -2, -1, 0, 1, 2, 3, 4, 5, 6]\n"
     ]
    }
   ],
   "source": [
    "# --> Sort a list of integers into positive and negative integers lists.\n",
    "#           [1,2,3,4,5,6,-1,-2,-3,-4,-5,0]\n",
    "# syntax:---->    list.sort(reverse=True|False, key=myFunc)\n",
    "\n",
    "given_list2=[1,2,3,4,5,6,-1,-2,-3,-4,-5,0]\n",
    "result= given_list2.sort()\n",
    "intlist = list(map(int, given_list2))\n",
    "print(intlist)"
   ]
  }
 ],
 "metadata": {
  "kernelspec": {
   "display_name": "Python 3 (ipykernel)",
   "language": "python",
   "name": "python3"
  },
  "language_info": {
   "codemirror_mode": {
    "name": "ipython",
    "version": 3
   },
   "file_extension": ".py",
   "mimetype": "text/x-python",
   "name": "python",
   "nbconvert_exporter": "python",
   "pygments_lexer": "ipython3",
   "version": "3.9.2"
  }
 },
 "nbformat": 4,
 "nbformat_minor": 5
}
