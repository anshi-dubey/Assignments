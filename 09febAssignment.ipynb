{
 "cells": [
  {
   "cell_type": "raw",
   "id": "dcb4b067",
   "metadata": {},
   "source": [
    "Q1) Create a vehicle class with an init method having instance variables as name_of_vehicle, max_speed\n",
    "and average_of_vehicle. \n"
   ]
  },
  {
   "cell_type": "code",
   "execution_count": 1,
   "id": "5d5c5b42",
   "metadata": {},
   "outputs": [
    {
     "name": "stdout",
     "output_type": "stream",
     "text": [
      "('tata motors', 46, 23)\n"
     ]
    }
   ],
   "source": [
    "class Vehicle():\n",
    "    def __init__(self,name,max_speed,avg_vehicle):\n",
    "        self.name_of_vehicle=name\n",
    "        self.max_speed=max_speed\n",
    "        self.average_of_vehicle=avg_vehicle\n",
    "    def details(self):\n",
    "        return self.name_of_vehicle,self.max_speed,self.average_of_vehicle\n",
    "TATA=Vehicle(\"tata motors\",46,23)\n",
    "print(TATA.details())        "
   ]
  },
  {
   "cell_type": "raw",
   "id": "231b14e6",
   "metadata": {},
   "source": [
    "Q2.Create a child class car from the vehicle class created in Que 1, which will inherit the vehicle class.Create a method named seating_capacity which takes capacity as an argument and returns the name of the vehicle and its seating capacity."
   ]
  },
  {
   "cell_type": "code",
   "execution_count": 2,
   "id": "c6bb7a28",
   "metadata": {},
   "outputs": [
    {
     "data": {
      "text/plain": [
       "('tata', 8)"
      ]
     },
     "execution_count": 2,
     "metadata": {},
     "output_type": "execute_result"
    }
   ],
   "source": [
    "class Car(Vehicle):\n",
    "    def seating_capacity(self,capacity):\n",
    "        self.capacity=capacity\n",
    "        return self.name_of_vehicle,self.capacity\n",
    "TATA_CAR=Car(\"tata\",35,23)\n",
    "TATA_CAR.seating_capacity(8)\n"
   ]
  },
  {
   "cell_type": "raw",
   "id": "bd7a288b",
   "metadata": {},
   "source": [
    "Q3. What is multiple inheritance? Write a python code to demonstrate multiple inheritance."
   ]
  },
  {
   "cell_type": "code",
   "execution_count": 3,
   "id": "c584db88",
   "metadata": {},
   "outputs": [
    {
     "name": "stdout",
     "output_type": "stream",
     "text": [
      "('RAJESH', 'Mamta')\n",
      "father name is Akhil\n"
     ]
    }
   ],
   "source": [
    "'''-->Multiple Inheritance:\n",
    "Multiple level inheritance enables one derived class to inherit properties from more than one base class.\n",
    "'''\n",
    "class Father:\n",
    "    def det(self):\n",
    "        print(\"father name is Akhil\")\n",
    "class Mother:\n",
    "    def m_name(self):\n",
    "        self.mname='Mamta'\n",
    "        return self.mname\n",
    "    \n",
    "class Son(Father, Mother):\n",
    "    def __init__(self,name):\n",
    "        self.nme=name\n",
    "    def details(self):\n",
    "        return self.nme,self.m_name()\n",
    "object=Son('RAJESH')\n",
    "print(object.details())\n",
    "object.det()\n"
   ]
  },
  {
   "cell_type": "raw",
   "id": "e9f83b2f",
   "metadata": {},
   "source": [
    "Q4. What are getter and setter in python? Create a class and create a getter and a setter method in this class.\n",
    "The main purpose of using getters and setters in object-oriented programs is to ensure data encapsulation and use getters & setters to add validation logic around getting and setting a value.\n",
    "To avoid direct access of a class field i.e. private variables cannot be accessed directly or modified by external user.\n",
    "\n",
    "getter and setter can be achieved by three ways:--\n",
    "Using normal function to achieve getters and setters behaviour\n",
    "Using property() function to achieve getters and setters behaviour\n",
    "Using @property decorators to achieve getters and setters behaviour\n",
    "\n"
   ]
  },
  {
   "cell_type": "code",
   "execution_count": 4,
   "id": "c5669b6b",
   "metadata": {},
   "outputs": [
    {
     "name": "stdout",
     "output_type": "stream",
     "text": [
      "12\n",
      "33\n",
      "27\n",
      "34\n",
      "33\n"
     ]
    }
   ],
   "source": [
    "# Using normal function to achieve getters and setters behaviour\n",
    "class update_age:\n",
    "    def __init__(self,age):\n",
    "        self.__age=age\n",
    "#         direct not accessable\n",
    "    def get_Age(self):\n",
    "        return self.__age\n",
    "    def set_Age(self,new_age):\n",
    "        self.__age=new_age\n",
    "ob1=update_age(12)\n",
    "# print(ob1.__age) throw error\n",
    "print(ob1.get_Age())\n",
    "ob1.set_Age(33)\n",
    "print(ob1.get_Age())\n",
    "\n",
    "# Using property() function to achieve getters and setters behaviour\n",
    "class update_age2:\n",
    "    def __init__(self,age):\n",
    "        self.__age=age\n",
    "#direct not accessable\n",
    "    def get_Age(self):\n",
    "        return self.__age\n",
    "    def set_Age(self,new_age):\n",
    "        self.__age=new_age\n",
    "        \n",
    "    age=property(get_Age,set_Age)\n",
    "    \n",
    "ob2=update_age2(27)\n",
    "# print(ob1.__age) throw error\n",
    "print(ob2.get_Age())\n",
    "ob2.age=34\n",
    "print(ob2.age)\n",
    "    \n",
    "# Using @property decorators to achieve getters and setters behaviour\n",
    "\n",
    "class update_age3:\n",
    "    def __init__(self,age):\n",
    "        self._age=age\n",
    "#direct not accessable\n",
    "    @property\n",
    "    def get_Age(self):\n",
    "        return self._age\n",
    "    def set_Age(self,new_age):\n",
    "        self._age=new_age\n",
    "ob3=update_age3(12)\n",
    "# print(ob3._age) throw error\n",
    "# print(ob3.get_Age())\n",
    "ob3.age=33\n",
    "print(ob3.age)"
   ]
  },
  {
   "cell_type": "raw",
   "id": "73a52ff9",
   "metadata": {},
   "source": [
    "Q5.What is method overriding in python? Write a python code to demonstrate method overriding."
   ]
  },
  {
   "cell_type": "code",
   "execution_count": 5,
   "id": "de7cfd8e",
   "metadata": {},
   "outputs": [
    {
     "name": "stdout",
     "output_type": "stream",
     "text": [
      "Modified feature_1 of class A by class B\n"
     ]
    }
   ],
   "source": [
    "'''\n",
    "Method overriding is an example of run time polymorphism. In this, the specific implementation of the method that is already provided by the parent class is provided by the child class.\n",
    "It is used to change the behavior of existing methods and there is a need for at least two classes for method overriding.\n",
    "In method overriding, inheritance always required as it is done between parent class(superclass) and child class(child class) methods.\n",
    "'''\n",
    "class A:\n",
    " \n",
    "    def fun1(self):\n",
    "        print('feature_1 of class A')\n",
    "         \n",
    "    def fun2(self):\n",
    "        print('feature_2 of class A')\n",
    "     \n",
    " \n",
    "class B(A):\n",
    "     \n",
    "    # Modified function that is already exist in class A\n",
    "    def fun1(self):\n",
    "        print('Modified feature_1 of class A by class B')   \n",
    "         \n",
    "    def fun3(self):\n",
    "        print('feature_3 of class B')\n",
    "         \n",
    " \n",
    "# Create instance\n",
    "obj = B()\n",
    "     \n",
    "# Call the override function\n",
    "obj.fun1()\n"
   ]
  }
 ],
 "metadata": {
  "kernelspec": {
   "display_name": "Python 3 (ipykernel)",
   "language": "python",
   "name": "python3"
  },
  "language_info": {
   "codemirror_mode": {
    "name": "ipython",
    "version": 3
   },
   "file_extension": ".py",
   "mimetype": "text/x-python",
   "name": "python",
   "nbconvert_exporter": "python",
   "pygments_lexer": "ipython3",
   "version": "3.9.2"
  }
 },
 "nbformat": 4,
 "nbformat_minor": 5
}
