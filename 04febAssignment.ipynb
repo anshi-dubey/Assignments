{
 "cells": [
  {
   "cell_type": "raw",
   "id": "bd4f0078",
   "metadata": {},
   "source": [
    "Q1. Create a python program to sort the given list of tuples based on integer value using a\n",
    "lambda function.\n",
    "[('Sachin Tendulkar', 34357), ('Ricky Ponting', 27483), ('Jack Kallis', 25534), ('Virat Kohli', 24936)]"
   ]
  },
  {
   "cell_type": "code",
   "execution_count": 1,
   "id": "abe7fac2",
   "metadata": {},
   "outputs": [
    {
     "name": "stdout",
     "output_type": "stream",
     "text": [
      "[('Virat Kohli', 24936), ('Jack Kallis', 25534), ('Ricky Ponting', 27483), ('Sachin Tendulkar', 34357)]\n"
     ]
    }
   ],
   "source": [
    "list1=[('Sachin Tendulkar', 34357), ('Ricky Ponting', 27483), ('Jack Kallis', 25534), ('Virat Kohli', 24936)]\n",
    "list1.sort(key=lambda x:x[1])\n",
    "print(list1)"
   ]
  },
  {
   "cell_type": "raw",
   "id": "5e5f6824",
   "metadata": {},
   "source": [
    "Q2. Write a Python Program to find the squares of all the numbers in the given list of integers using\n",
    "lambda and map functions.\n",
    "[1, 2, 3, 4, 5, 6, 7, 8, 9, 10]"
   ]
  },
  {
   "cell_type": "code",
   "execution_count": 2,
   "id": "d50df6b0",
   "metadata": {},
   "outputs": [
    {
     "data": {
      "text/plain": [
       "[1, 4, 9, 16, 25, 36, 49, 64, 81, 100]"
      ]
     },
     "execution_count": 2,
     "metadata": {},
     "output_type": "execute_result"
    }
   ],
   "source": [
    "list2=[1, 2, 3, 4, 5, 6, 7, 8, 9, 10]\n",
    "list(map((lambda x:x**2),list2))"
   ]
  },
  {
   "cell_type": "raw",
   "id": "255e60e6",
   "metadata": {},
   "source": [
    "Q3. Write a python program to convert the given list of integers into a tuple of strings. Use map and\n",
    "lambda functions\n",
    "Given String: [1, 2, 3, 4, 5, 6, 7, 8, 9, 10]\n",
    "Expected output: ('1', '2', '3', '4', '5', '6', '7', '8', '9', '10')"
   ]
  },
  {
   "cell_type": "code",
   "execution_count": 3,
   "id": "6ae61389",
   "metadata": {},
   "outputs": [
    {
     "name": "stdout",
     "output_type": "stream",
     "text": [
      "('1', '2', '3', '4', '5', '6', '7', '8', '9', '10')\n"
     ]
    }
   ],
   "source": [
    "list3=[1, 2, 3, 4, 5, 6, 7, 8, 9, 10]\n",
    "strTuple=map(lambda x: f\"{x}\",list3)\n",
    "print(tuple(strTuple))"
   ]
  },
  {
   "cell_type": "raw",
   "id": "533edc8b",
   "metadata": {},
   "source": [
    "# Q4. Write a python program using reduce function to compute the product of a list containing numbers\n",
    "from 1 to 25."
   ]
  },
  {
   "cell_type": "code",
   "execution_count": 4,
   "id": "07bc00f7",
   "metadata": {},
   "outputs": [
    {
     "name": "stdout",
     "output_type": "stream",
     "text": [
      "[15511210043330985984000000]\n"
     ]
    }
   ],
   "source": [
    "from functools import reduce \n",
    "list4=[i for  i in range(1,26)]\n",
    "result4=[reduce(lambda x,y:x*y,list4)]\n",
    "print(result4)"
   ]
  },
  {
   "cell_type": "raw",
   "id": "ea0b7d2a",
   "metadata": {},
   "source": [
    "Q5. Write a python program to filter the numbers in a given list that are divisible by 2 and 3 using the\n",
    "filter function.\n",
    "[2, 3, 6, 9, 27, 60, 90, 120, 55, 46]"
   ]
  },
  {
   "cell_type": "code",
   "execution_count": 5,
   "id": "c460d33d",
   "metadata": {},
   "outputs": [
    {
     "name": "stdout",
     "output_type": "stream",
     "text": [
      "Result is: (6, 60, 90, 120)\n"
     ]
    }
   ],
   "source": [
    "list5=[2, 3, 6, 9, 27, 60, 90, 120, 55, 46]\n",
    "result5=filter(lambda x:x%2==0 and x%3==0 ,list5)\n",
    "print(\"Result is:\",tuple(result5))"
   ]
  },
  {
   "cell_type": "raw",
   "id": "a0b5843d",
   "metadata": {},
   "source": [
    "# Q6. Write a python program to find palindromes in the given list of strings using lambda and filter\n",
    "function.\n",
    "['python', 'php', 'aba', 'radar', 'level']"
   ]
  },
  {
   "cell_type": "code",
   "execution_count": 6,
   "id": "d4c137f0",
   "metadata": {
    "scrolled": true
   },
   "outputs": [
    {
     "name": "stdout",
     "output_type": "stream",
     "text": [
      "python :not palindromes\n",
      "php :palindromes\n",
      "aba :palindromes\n",
      "radar :palindromes\n",
      "level :palindromes\n",
      "()\n"
     ]
    }
   ],
   "source": [
    "list6=['python', 'php', 'aba', 'radar', 'level']\n",
    "result6=filter(lambda x: print(x,\":palindromes\") if x[::-1]==x else print(x,\":not palindromes\") ,list6)\n",
    "print(tuple(result6))"
   ]
  }
 ],
 "metadata": {
  "kernelspec": {
   "display_name": "Python 3 (ipykernel)",
   "language": "python",
   "name": "python3"
  },
  "language_info": {
   "codemirror_mode": {
    "name": "ipython",
    "version": 3
   },
   "file_extension": ".py",
   "mimetype": "text/x-python",
   "name": "python",
   "nbconvert_exporter": "python",
   "pygments_lexer": "ipython3",
   "version": "3.9.2"
  }
 },
 "nbformat": 4,
 "nbformat_minor": 5
}
