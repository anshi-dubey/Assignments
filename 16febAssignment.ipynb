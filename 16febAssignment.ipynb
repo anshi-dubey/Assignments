{
 "cells": [
  {
   "cell_type": "raw",
   "id": "ef630b54",
   "metadata": {},
   "source": [
    "Q1. What is a database? Differentiate between SQL and NoSQL databases.\n",
    "\n",
    "ans: \n",
    "A database is a systematic collection of data. It enables the storage, organization, and retrieval of data in various formats. There are two main types of databases:\n",
    "\n",
    "SQL databases: These are relational databases that use structured query language (SQL) for defining and manipulating the data. They are table-based and follow a predefined schema. Examples include MySQL, PostgreSQL, and SQLite.\n",
    "\n",
    "NoSQL databases: These are non-relational databases that do not require a fixed schema. They are designed to store and manage large sets of unstructured data. NoSQL databases can be document-based, key-value pairs, wide-column stores, or graph databases. \n",
    "    Examples include MongoDB, Cassandra, and Redis."
   ]
  },
  {
   "cell_type": "raw",
   "id": "edc426ff",
   "metadata": {},
   "source": [
    "Q2. What is DDL? Explain why CREATE, DROP, ALTER, and TRUNCATE are used with an example.\n",
    "\n",
    "ans:\n",
    "DDL (Data Definition Language) is a subset of SQL statements used to define the database schema or structure. These statements are used to define and modify the structure of database objects. Examples of DDL commands include:\n",
    "\n",
    "CREATE: It is used to create a new table or database.\n",
    "Example: CREATE TABLE Employees (id INT, name VARCHAR(100), age INT);\n",
    "\n",
    "DROP: It is used to delete an entire table or database.\n",
    "Example: DROP TABLE Employees;\n",
    "\n",
    "ALTER: It is used to modify the structure of an existing table.\n",
    "Example: ALTER TABLE Employees ADD COLUMN salary INT;\n",
    "\n",
    "TRUNCATE: It is used to remove all records from a table, but the table structure remains intact.\n",
    "Example: TRUNCATE TABLE Employees;"
   ]
  },
  {
   "cell_type": "raw",
   "id": "a004f5ec",
   "metadata": {},
   "source": [
    "Q3. What is DML? Explain INSERT, UPDATE, and DELETE with an example.\n",
    "\n",
    "ans:\n",
    "DML (Data Manipulation Language) is used to manipulate the data in the database. It is used to insert, update, retrieve, and delete data from the database. Examples include:\n",
    "\n",
    "INSERT: It is used to insert new records into a table.\n",
    "Example: INSERT INTO Employees (id, name, age) VALUES (1, 'John Doe', 30);\n",
    "\n",
    "UPDATE: It is used to modify existing records in a table.\n",
    "Example: UPDATE Employees SET age = 31 WHERE id = 1;\n",
    "\n",
    "DELETE: It is used to remove records from a table.\n",
    "Example: DELETE FROM Employees WHERE id = 1;"
   ]
  },
  {
   "cell_type": "raw",
   "id": "351fb6ea",
   "metadata": {},
   "source": [
    "Q4. What is DQL? Explain SELECT with an example.\n",
    "\n",
    "ans:\n",
    "DQL (Data Query Language) is used to retrieve data from the database. It is primarily concerned with querying the database to retrieve specific information. The most common DQL command is:\n",
    "\n",
    "SELECT: It is used to retrieve data from a database.\n",
    "Example: SELECT * FROM Employees WHERE age > 25;"
   ]
  },
  {
   "cell_type": "raw",
   "id": "72644715",
   "metadata": {},
   "source": [
    "Q5. Explain Primary Key and Foreign Key.\n",
    "\n",
    "ans:\n",
    "Primary Key: A primary key is a unique identifier for each record in a table. It ensures that each record in the table can be uniquely identified. Primary keys must contain unique values and cannot contain NULL values.\n",
    "\n",
    "Foreign Key: A foreign key is a field in a table that is a primary key in another table. It establishes a link between the data in two tables, creating a relationship between them. This key helps maintain referential integrity between the related tables."
   ]
  },
  {
   "cell_type": "code",
   "execution_count": 11,
   "id": "0453a2d3",
   "metadata": {},
   "outputs": [
    {
     "data": {
      "text/plain": [
       "'\\nQ6. Write a python code to connect MySQL to python. Explain the cursor() and execute() method.\\n\\nans:\\n\\ncursor(): This method is used to create a cursor object, which is used to interact with the MySQL database.\\n\\nexecute(): This method is used to execute a specified SQL query. It takes the SQL query as an argument and performs the specified operation on the database.\\n\\n\\nimport mysql.connector\\n\\n# Establish connection\\nmydb = mysql.connector.connect(\\n  host=\"hostname\",\\n  user=\"root\",\\n  password=\"pswd\",\\n  database=\"demo\"\\n)\\n\\n# Create a cursor object\\nmycursor = mydb.cursor()\\n\\n# Execute a query\\nmycursor.execute(\"SELECT * FROM your_table\")\\n\\n# Fetch the result\\n\\nresult = mycursor.fetchall()\\nfor x in result:\\n  print(x)\\n\\n# Close the connection\\nmydb.close()\\n'"
      ]
     },
     "execution_count": 11,
     "metadata": {},
     "output_type": "execute_result"
    }
   ],
   "source": [
    "'''\n",
    "Q6. Write a python code to connect MySQL to python. Explain the cursor() and execute() method.\n",
    "\n",
    "ans:\n",
    "\n",
    "cursor(): This method is used to create a cursor object, which is used to interact with the MySQL database.\n",
    "\n",
    "execute(): This method is used to execute a specified SQL query. It takes the SQL query as an argument and performs the specified operation on the database.\n",
    "\n",
    "\n",
    "import mysql.connector\n",
    "\n",
    "# Establish connection\n",
    "mydb = mysql.connector.connect(\n",
    "  host=\"hostname\",\n",
    "  user=\"root\",\n",
    "  password=\"pswd\",\n",
    "  database=\"demo\"\n",
    ")\n",
    "\n",
    "# Create a cursor object\n",
    "mycursor = mydb.cursor()\n",
    "\n",
    "# Execute a query\n",
    "mycursor.execute(\"SELECT * FROM your_table\")\n",
    "\n",
    "# Fetch the result\n",
    "\n",
    "result = mycursor.fetchall()\n",
    "for x in result:\n",
    "  print(x)\n",
    "\n",
    "# Close the connection\n",
    "mydb.close()\n",
    "'''\n",
    "\n"
   ]
  },
  {
   "cell_type": "raw",
   "id": "fe919973",
   "metadata": {},
   "source": [
    "Q7. Give the order of execution of SQL clauses in an SQL query.\n",
    "\n",
    "ans: \n",
    "The general order of execution of SQL clauses in a query is as follows:\n",
    "\n",
    "1} FROM\n",
    "2}WHERE\n",
    "3}GROUP BY\n",
    "4}HAVING\n",
    "5}SELECT\n",
    "6}ORDER BY\n",
    "7}LIMIT\n",
    "some clauses might not be present in every query, and their order might be different based on the specific requirements of the query.\n",
    "\n"
   ]
  },
  {
   "cell_type": "code",
   "execution_count": null,
   "id": "cbb578a6",
   "metadata": {},
   "outputs": [],
   "source": []
  },
  {
   "cell_type": "code",
   "execution_count": null,
   "id": "43c2f8a9",
   "metadata": {},
   "outputs": [],
   "source": []
  }
 ],
 "metadata": {
  "kernelspec": {
   "display_name": "Python 3 (ipykernel)",
   "language": "python",
   "name": "python3"
  },
  "language_info": {
   "codemirror_mode": {
    "name": "ipython",
    "version": 3
   },
   "file_extension": ".py",
   "mimetype": "text/x-python",
   "name": "python",
   "nbconvert_exporter": "python",
   "pygments_lexer": "ipython3",
   "version": "3.9.2"
  }
 },
 "nbformat": 4,
 "nbformat_minor": 5
}
