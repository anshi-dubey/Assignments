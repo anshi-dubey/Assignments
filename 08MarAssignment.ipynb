{
 "cells": [
  {
   "cell_type": "markdown",
   "id": "f6d466be",
   "metadata": {},
   "source": [
    "Q1. What is the Probability density function?\n",
    "\n",
    "ans:\n",
    "The Probability Density Function (PDF) is a fundamental concept in probability theory and statistics. It describes the likelihood of a continuous random variable taking on a particular value or falling within a certain range of values. In simpler terms, the PDF provides a mathematical description of the probability distribution of a continuous random variable.\n",
    "\n",
    "Mathematically, the probability density function \\( f(x) \\) of a continuous random variable \\( X \\) is a function that satisfies the following properties:\n",
    "\n",
    "1) $f(x) \\geq 0$    (non-negativity)\n",
    "2. The total area under the curve of the PDF over the entire range of possible values equals 1 (normalization condition)\n",
    "3. The probability of the random variable falling within a specific interval is given by the area under the PDF curve over that interval.\n",
    "\n",
    "2) The PDF is often denoted as f(x)  or  p(x) , where x represents the possible values of the random variable  X.\n",
    "\n",
    "3) The PDF is crucial for understanding and analyzing continuous probability distributions, such as the normal distribution, exponential distribution, and many others. It allows us to compute probabilities associated with different events or outcomes and make statistical inferences based on these probabilities.\n",
    "\n",
    "For example, in the case of the normal distribution, the PDF takes the form of the well-known bell-shaped curve, and it describes the likelihood of observing different values of a normally distributed variable.\n",
    "\n",
    "In summary, the Probability Density Function provides a formal mathematical framework for describing the probability distribution of continuous random variables, enabling the analysis and understanding of various statistical phenomena."
   ]
  },
  {
   "cell_type": "markdown",
   "id": "6662cf6b",
   "metadata": {},
   "source": [
    "Q2. What are the types of Probability distribution?\n",
    "\n",
    "ans:\n",
    "There are several types of probability distributions, each of which describes the likelihood of different outcomes of a random variable. The choice of distribution depends on the characteristics of the data and the context of the problem being analyzed. Some common types of probability distributions include:\n",
    "\n",
    "1. **Uniform Distribution**: In a uniform distribution, all outcomes within a given range have equal probabilities. For example, rolling a fair six-sided die would follow a uniform distribution because each outcome (1, 2, 3, 4, 5, or 6) has an equal chance of occurring.\n",
    "\n",
    "2. **Normal Distribution (Gaussian Distribution)**: The normal distribution is perhaps the most well-known probability distribution. It is characterized by a symmetric bell-shaped curve and is parameterized by its mean and standard deviation. Many natural phenomena follow approximately normal distributions, such as heights or weights of people in a population.\n",
    "\n",
    "3. **Binomial Distribution**: The binomial distribution describes the number of successes in a fixed number of independent Bernoulli trials, where each trial has a constant probability of success. It is characterized by two parameters: the number of trials  n  and the probability of success  p  in each trial. For example, flipping a coin multiple times and counting the number of heads would follow a binomial distribution.\n",
    "\n",
    "4. **Poisson Distribution**: The Poisson distribution models the number of events that occur in a fixed interval of time or space. It is characterized by a single parameter, the average rate of occurrence lambda . The Poisson distribution is often used to model rare events, such as the number of calls received by a call center in an hour.\n",
    "\n",
    "5. **Exponential Distribution**: The exponential distribution describes the time between events in a Poisson process, where events occur independently at a constant average rate. It is characterized by a single parameter, the rate parameter  lambda , which represents the average number of events per unit of time. The exponential distribution is commonly used in reliability analysis and queuing theory.\n",
    "\n",
    "6. **Gamma Distribution**: The gamma distribution is a generalization of the exponential distribution and can be used to model the time until  k  events occur in a Poisson process. It is characterized by two parameters: a shape parameter k and a scale parameter theta\n",
    "\n",
    "These are just a few examples of probability distributions, and there are many others that are used in various fields of study, such as the chi-squared distribution, t-distribution, and F-distribution. The choice of distribution depends on the specific characteristics of the data and the assumptions underlying the statistical analysis."
   ]
  },
  {
   "cell_type": "markdown",
   "id": "65b22f12",
   "metadata": {},
   "source": [
    "Q3. Write a Python function to calculate the probability density function of a normal distribution with\n",
    "given mean and standard deviation at a given point.\n",
    "\n",
    "ans:\n",
    "\n",
    "You can use the formula for the probability density function (PDF) of the normal distribution to create a Python function. The PDF of the normal distribution is given by:\n",
    "$$ f(x) = \\frac{1}{\\sqrt{2\\pi\\sigma^2}} e^{-\\frac{(x - \\mu)^2}{2\\sigma^2}} $$\n",
    "\n",
    "Where:\n",
    "- $\\mu$ is the mean of the normal distribution.\n",
    "- $\\sigma$ is the standard deviation of the normal distribution.\n",
    "- \\( e \\) is the base of the natural logarithm.\n",
    "- \\( x \\) is the point at which you want to calculate the PDF.\n",
    "\n"
   ]
  },
  {
   "cell_type": "code",
   "execution_count": 2,
   "id": "cc283254",
   "metadata": {},
   "outputs": [
    {
     "name": "stdout",
     "output_type": "stream",
     "text": [
      "PDF at x = 0 : 0.3989422804014327\n"
     ]
    }
   ],
   "source": [
    "# here's a Python function to calculate the PDF of a normal distribution:\n",
    "\n",
    "import math\n",
    "\n",
    "def normal_pdf(x, mean, std_dev):\n",
    "    \"\"\"\n",
    "    Calculate the probability density function (PDF) of a normal distribution.\n",
    "\n",
    "    Parameters:\n",
    "    x (float): The point at which to evaluate the PDF.\n",
    "    mean (float): The mean of the normal distribution.\n",
    "    std_dev (float): The standard deviation of the normal distribution.\n",
    "\n",
    "    Returns:\n",
    "    float: The value of the PDF at the given point x.\n",
    "    \"\"\"\n",
    "    coefficient = 1 / math.sqrt(2 * math.pi * std_dev ** 2)\n",
    "    exponent = -((x - mean) ** 2) / (2 * std_dev ** 2)\n",
    "    pdf_value = coefficient * math.exp(exponent)\n",
    "    return pdf_value\n",
    "\n",
    "# Example usage:\n",
    "mean = 0\n",
    "std_dev = 1\n",
    "x = 0\n",
    "pdf_at_x = normal_pdf(x, mean, std_dev)\n",
    "print(\"PDF at x =\", x, \":\", pdf_at_x)\n"
   ]
  },
  {
   "cell_type": "markdown",
   "id": "1786134a",
   "metadata": {},
   "source": [
    "Q4. What are the properties of Binomial distribution? Give two examples of events where binomial\n",
    "distribution can be applied."
   ]
  },
  {
   "cell_type": "markdown",
   "id": "99431ce7",
   "metadata": {},
   "source": [
    "The binomial distribution is a discrete probability distribution that describes the number of successes in a fixed number of independent Bernoulli trials, where each trial has a constant probability of success \\( p \\) and failure \\( q = 1 - p \\). The properties of the binomial distribution include:\n",
    "\n",
    "1. **Fixed Number of Trials**: The number of trials, denoted as \\( n \\), is fixed and predetermined.\n",
    "2. **Two Possible Outcomes**: Each trial results in one of two possible outcomes: success or failure.\n",
    "3. **Independence**: The trials are independent of each other, meaning the outcome of one trial does not affect the outcome of another.\n",
    "4. **Constant Probability of Success**: The probability of success \\( p \\) remains constant for each trial.\n",
    "5. **Discrete Distribution**: The binomial distribution is a discrete distribution, meaning it describes a finite number of possible outcomes.\n",
    "\n",
    "The probability mass function (PMF) of the binomial distribution is given by: \n",
    "$$ P(X = k) = \\binom{n}{k} p^k q^{n-k} $$\n",
    "\n",
    "\n",
    "\n",
    "\n",
    "\n",
    "Where:\n",
    "- \\( X \\) is the random variable representing the number of successes.\n",
    "- \\( k \\) is the number of successes.\n",
    "- \\( n \\) is the number of trials.\n",
    "- \\( p \\) is the probability of success on each trial.\n",
    "- \\( q = 1 - p \\) is the probability of failure on each trial.\n",
    "- $\\binom{n}{k}$ represents the binomial coefficient, also known as \"n choose k\".\n",
    "\n",
    "Examples of events where the binomial distribution can be applied include:\n",
    "\n",
    "1. **Coin Flipping**: The number of heads obtained when flipping a coin multiple times follows a binomial distribution. Each flip is a Bernoulli trial with two possible outcomes (heads or tails), and the probability of getting heads (success) remains constant for each flip.\n",
    "   \n",
    "2. **Product Quality Control**: Consider a manufacturing process where each product is independently inspected for defects, and each product has a certain probability of being defective. The number of defective products in a sample of a fixed size follows a binomial distribution, with each inspection being a Bernoulli trial and the probability of defectiveness remaining constant."
   ]
  },
  {
   "cell_type": "markdown",
   "id": "faa90ed3",
   "metadata": {},
   "source": [
    "Q5. Generate a random sample of size 1000 from a binomial distribution with probability of success 0.4\n",
    "and plot a histogram of the results using matplotlib"
   ]
  },
  {
   "cell_type": "code",
   "execution_count": 4,
   "id": "f54e3cc3",
   "metadata": {},
   "outputs": [
    {
     "data": {
      "image/png": "[encoded data removed]",
      "text/plain": [
       "<Figure size 640x480 with 1 Axes>"
      ]
     },
     "metadata": {},
     "output_type": "display_data"
    }
   ],
   "source": [
    "\n",
    "import numpy as np\n",
    "import matplotlib.pyplot as plt\n",
    "\n",
    "# Generate random sample from binomial distribution\n",
    "n = 1000  # Sample size\n",
    "p = 0.4   # Probability of success\n",
    "sample = np.random.binomial(n=1, p=p, size=n)\n",
    "\n",
    "# Plot histogram\n",
    "plt.hist(sample, bins=[0, 1, 2], align='left', edgecolor='black')\n",
    "plt.title('Histogram of Binomial Distribution')\n",
    "plt.xlabel('Number of Successes')\n",
    "plt.ylabel('Frequency')\n",
    "plt.xticks([0, 1], ['Failure', 'Success'])\n",
    "plt.grid(axis='y', linestyle='--', alpha=0.7)\n",
    "plt.show()"
   ]
  },
  {
   "cell_type": "markdown",
   "id": "787c2cf0",
   "metadata": {},
   "source": [
    " Q6. Write a Python function to calculate the cumulative distribution function of a Poisson distribution\n",
    "with given mean at a given point.\n",
    "\n",
    "ans:\n",
    "To calculate the cumulative distribution function (CDF) of a Poisson distribution at a given point, you can sum the probabilities of all Poisson random variables up to that point. The formula for the CDF of a Poisson distribution is:\n",
    "\n",
    "\n",
    "$$ F(k; \\lambda) = \\sum_{i=0}^{k} \\left[ \\frac{e^{-\\lambda} \\lambda^i}{i!} \\right] $$\n",
    "\n",
    "\n",
    "\n",
    "\n",
    "\n",
    "Where:\n",
    "F(k;λ) is the cumulative probability up to the point k.\n",
    "λ is the mean of the Poisson distribution.\n",
    "e is the base of the natural logarithm.\n"
   ]
  },
  {
   "cell_type": "code",
   "execution_count": 6,
   "id": "862b28e7",
   "metadata": {},
   "outputs": [
    {
     "name": "stdout",
     "output_type": "stream",
     "text": [
      "CDF at x = 5 : 0.8576135530957782\n"
     ]
    }
   ],
   "source": [
    "# Here's a Python function to calculate the CDF of a Poisson distribution:\n",
    "import math\n",
    "\n",
    "def poisson_cdf(x, mean):\n",
    "    \"\"\"\n",
    "    Calculate the cumulative distribution function (CDF) of a Poisson distribution.\n",
    "\n",
    "    Parameters:\n",
    "    x (int): The point at which to evaluate the CDF.\n",
    "    mean (float): The mean of the Poisson distribution.\n",
    "\n",
    "    Returns:\n",
    "    float: The value of the CDF at the given point x.\n",
    "    \"\"\"\n",
    "    cdf = 0\n",
    "    for k in range(int(x) + 1):\n",
    "        cdf += (math.exp(-mean) * mean**k) / math.factorial(k)\n",
    "    return cdf\n",
    "\n",
    "# Example usage:\n",
    "mean = 3.5\n",
    "x = 5\n",
    "cdf_at_x = poisson_cdf(x, mean)\n",
    "print(\"CDF at x =\", x, \":\", cdf_at_x)\n"
   ]
  },
  {
   "cell_type": "markdown",
   "id": "49cc1d2c",
   "metadata": {},
   "source": [
    "Q7. How Binomial distribution different from Poisson distribution?\n",
    "\n",
    "ans:\n",
    "\n",
    "The Binomial distribution and the Poisson distribution are both probability distributions used to model the number of successes in a series of independent trials. However, they have different characteristics and are used in different contexts. Here are the main differences between the two distributions:\n",
    "\n",
    "1. **Number of Trials**:\n",
    "   - **Binomial Distribution**: The Binomial distribution describes the number of successes in a fixed number of independent trials, denoted by \\( n \\). Each trial has two possible outcomes: success or failure.\n",
    "   - **Poisson Distribution**: The Poisson distribution describes the number of events that occur in a fixed interval of time or space. The number of trials is not fixed but can be thought of as occurring in an unlimited number of trials with a very small probability of success in each trial.\n",
    "\n",
    "2. **Trial Characteristics**:\n",
    "   - **Binomial Distribution**: In the Binomial distribution, each trial is characterized by a constant probability of success, denoted by \\( p \\).\n",
    "   - **Poisson Distribution**: In the Poisson distribution, there is no notion of individual trials with success or failure. Instead, the events occur randomly and independently of each other in time or space, with a constant average rate of occurrence, denoted by \\( \\lambda \\).\n",
    "\n",
    "3. **Outcome Types**:\n",
    "   - **Binomial Distribution**: The Binomial distribution is discrete and describes the number of successes (which can be any integer between 0 and \\( n \\)).\n",
    "   - **Poisson Distribution**: The Poisson distribution is also discrete and describes the number of events (which can be any non-negative integer).\n",
    "\n",
    "4. **Applications**:\n",
    "   - **Binomial Distribution**: The Binomial distribution is commonly used in situations where there are a fixed number of trials, such as flipping a coin a certain number of times, performing a fixed number of independent experiments, or counting the number of successes in a sample of a fixed size.\n",
    "   - **Poisson Distribution**: The Poisson distribution is often used to model rare events or occurrences over time or space, such as the number of phone calls received by a call center in an hour, the number of accidents at an intersection in a day, or the number of mutations in a DNA sequence.\n",
    "\n",
    "In summary, while both the Binomial and Poisson distributions describe the number of successes or events in independent trials, they differ in terms of the fixed number of trials, the characteristics of each trial, the types of outcomes, and their applications."
   ]
  },
  {
   "cell_type": "markdown",
   "id": "ad953941",
   "metadata": {},
   "source": [
    "Q8. Generate a random sample of size 1000 from a Poisson distribution with mean 5 and calculate the sample mean and variance."
   ]
  },
  {
   "cell_type": "code",
   "execution_count": 7,
   "id": "761ecb1e",
   "metadata": {
    "scrolled": true
   },
   "outputs": [
    {
     "data": {
      "image/png": "[encoded data removed]",
      "text/plain": [
       "<Figure size 640x480 with 1 Axes>"
      ]
     },
     "metadata": {},
     "output_type": "display_data"
    }
   ],
   "source": [
    "\n",
    "import numpy as np\n",
    "import matplotlib.pyplot as plt\n",
    "\n",
    "# Generate random sample from binomial distribution\n",
    "n = 1000  # Sample size\n",
    "p = 0.4   # Probability of success\n",
    "sample = np.random.binomial(n=1, p=p, size=n)\n",
    "\n",
    "# Plot histogram\n",
    "plt.hist(sample, bins=[0, 1, 2], align='left', edgecolor='black')\n",
    "plt.title('Histogram of Binomial Distribution')\n",
    "plt.xlabel('Number of Successes')\n",
    "plt.ylabel('Frequency')\n",
    "plt.xticks([0, 1], ['Failure', 'Success'])\n",
    "plt.grid(axis='y', linestyle='--', alpha=0.7)\n",
    "plt.show()\n",
    "\n"
   ]
  },
  {
   "cell_type": "markdown",
   "id": "447fbeb7",
   "metadata": {},
   "source": [
    "Q9. How mean and variance are related in Binomial distribution and Poisson distribution?\n",
    "\n",
    "ans:\n",
    "\n",
    "In both the Binomial distribution and the Poisson distribution, the mean and variance are closely related, but their specific relationships differ slightly due to the different characteristics of these distributions.\n",
    "\n",
    "**Binomial Distribution**:\n",
    "- Mean: In a Binomial distribution, the mean is equal to the product of the number of trials \\( n \\) and the probability of success \\( p \\). Mathematically, $$ \\mu = np $$\n",
    ".\n",
    "- Variance: The variance of a Binomial distribution is equal to the product of the number of trials \\( n \\), the probability of success \\( p \\), and the probability of failure \\( q \\). Mathematically, $$\\sigma^2 = npq$$.\n",
    "\n",
    "In summary, in a Binomial distribution, the variance is directly proportional to the mean and is influenced by the number of trials and the probability of success.\n",
    "\n",
    "**Poisson Distribution**:\n",
    "- Mean: In a Poisson distribution, the mean is equal to the rate parameter $\\lambda$, which represents the average rate of occurrence of events. Mathematically, $$\\mu = \\lambda$$\n",
    "- Variance: The variance of a Poisson distribution is also equal to the rate parameter $\\lambda$. Mathematically, $$\\sigma^2 = npq$$\n",
    "\n",
    "In summary, in a Poisson distribution, the variance is equal to the mean and is solely determined by the rate parameter $\\lambda$.\n",
    "\n",
    "**Relation**:\n",
    "- In both distributions, the variance is directly related to the mean, but their specific mathematical relationships differ.\n",
    "- For the Binomial distribution, the variance is influenced by both the number of trials and the probability of success, whereas for the Poisson distribution, the variance is solely determined by the rate parameter.\n",
    "- However, as the number of trials \\( n \\) in the Binomial distribution becomes large and the probability of success \\( p \\) becomes small while keeping the product \\( np \\) constant, the Binomial distribution approaches the Poisson distribution, and the variance becomes approximately equal to the mean. This is known as the Poisson limit of the Binomial distribution."
   ]
  },
  {
   "cell_type": "markdown",
   "id": "719ce2e3",
   "metadata": {},
   "source": [
    "\n",
    "Q10. In normal distribution with respect to mean position, where does the least frequent data appear?\n",
    "\n",
    "ans: \n",
    "In a normal distribution, also known as a Gaussian distribution, the least frequent data points appear at the tails of the distribution, farthest from the mean position. \n",
    "The normal distribution is symmetric around its mean, with the highest frequency of data points occurring at the mean. As you move away from the mean in either direction, the frequency of data points gradually decreases. The tails of the distribution represent the extreme values, which occur with the lowest frequency.\n",
    "Therefore, the least frequent data points in a normal distribution appear at the tails, which are the positions farthest from the mean."
   ]
  },
  {
   "cell_type": "code",
   "execution_count": null,
   "id": "1f8f45ad",
   "metadata": {},
   "outputs": [],
   "source": []
  }
 ],
 "metadata": {
  "kernelspec": {
   "display_name": "Python 3 (ipykernel)",
   "language": "python",
   "name": "python3"
  },
  "language_info": {
   "codemirror_mode": {
    "name": "ipython",
    "version": 3
   },
   "file_extension": ".py",
   "mimetype": "text/x-python",
   "name": "python",
   "nbconvert_exporter": "python",
   "pygments_lexer": "ipython3",
   "version": "3.9.2"
  }
 },
 "nbformat": 4,
 "nbformat_minor": 5
}
