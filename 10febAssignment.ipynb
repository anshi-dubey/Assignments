{
 "cells": [
  {
   "cell_type": "raw",
   "id": "c54ac967",
   "metadata": {},
   "source": [
    "Q1. Which function is used to open a file? What are the different modes of opening a file? Explain each mode of file opening."
   ]
  },
  {
   "cell_type": "code",
   "execution_count": 1,
   "id": "b27b7b10",
   "metadata": {},
   "outputs": [
    {
     "data": {
      "text/plain": [
       "'we use open() function to open a file. The different modes of opening a file\\nare:-\\nr : open an existing file for a read operation.\\nw : open an existing file for a write operation. If the file already contains\\n    some data then it will be overridden but if the file is not present then\\n    it creates the file as well.\\na : open an existing file for append operation. It won’t override existing \\n    data.\\nr+: To read and write data into the file. The previous data in the file\\n    will be overridden.\\nw+: To write and read data. It will override existing data.\\na+: To append and read data from the file. It won’t override existing data.\\n'"
      ]
     },
     "execution_count": 1,
     "metadata": {},
     "output_type": "execute_result"
    }
   ],
   "source": [
    "'''we use open() function to open a file. The different modes of opening a file\n",
    "are:-\n",
    "r : open an existing file for a read operation.\n",
    "w : open an existing file for a write operation. If the file already contains\n",
    "    some data then it will be overridden but if the file is not present then\n",
    "    it creates the file as well.\n",
    "a : open an existing file for append operation. It won’t override existing \n",
    "    data.\n",
    "r+: To read and write data into the file. The previous data in the file\n",
    "    will be overridden.\n",
    "w+: To write and read data. It will override existing data.\n",
    "a+: To append and read data from the file. It won’t override existing data.\n",
    "'''"
   ]
  },
  {
   "cell_type": "raw",
   "id": "4e2cf661",
   "metadata": {},
   "source": [
    "Q2. Why close() function is used? Why is it important to close a file?"
   ]
  },
  {
   "cell_type": "code",
   "execution_count": null,
   "id": "173772a0",
   "metadata": {},
   "outputs": [],
   "source": [
    "'''The close() method closes an open file.it important to close a file in\n",
    "some cases, due to buffering, changes made to a file may not show until you\n",
    "close the file.It prevent the possiblities of losing data '''"
   ]
  },
  {
   "cell_type": "raw",
   "id": "da501cfb",
   "metadata": {},
   "source": [
    "Q3. Write a python program to create a text file. Write ‘I want to become a Data Scientist’ in that file. Then close the file. Open this file and read the content of the file.  "
   ]
  },
  {
   "cell_type": "code",
   "execution_count": 19,
   "id": "47e779fb",
   "metadata": {},
   "outputs": [
    {
     "name": "stdout",
     "output_type": "stream",
     "text": [
      "I want to become a Data Scientist\n"
     ]
    }
   ],
   "source": [
    "h=open(\"demo.txt\",'w')\n",
    "h.write('I want to become a Data Scientist')\n",
    "h.close()\n",
    "with open(\"demo.txt\",'r') as f:\n",
    "    print(f.read())\n",
    "    \n"
   ]
  },
  {
   "cell_type": "raw",
   "id": "6526226c",
   "metadata": {},
   "source": [
    "Q4. Explain the following with python code: read(), readline() and readlines().\n",
    " -> read(n):if n is passed then read n character, if n is not passed then the read method reads the entire contents of a file and returns it as a string. \n",
    " -> readline(n):if n is passed then read n character, if n is not passed then the readline method reads a single line from a file and returns it as a string.\n",
    " -> readlines():The readlines method reads the entire contents of a file and returns it as a list of strings, where each element of the list is a single line of the file."
   ]
  },
  {
   "cell_type": "code",
   "execution_count": 18,
   "id": "d0982108",
   "metadata": {},
   "outputs": [
    {
     "name": "stdout",
     "output_type": "stream",
     "text": [
      "Lorem Ipsum is simpl\n",
      "y dummy text of the printing and typesetting \n",
      "    industry. Lorem Ipsum has been the industry's standard dummy text ever \n",
      "    since the 1500s, when an unknown printer took a galley of type and \n",
      "    sc\n",
      "['rambled it to make a type specimen book. It has survived not only five \\n', '    centuries, but also the leap into electronic typesetting, remaining\\n', '    essentially unchanged. It was popularised in the 1960s with the release of\\n', '    Letraset sheets containing Lorem Ipsum passages, and more recently with \\n', '    desktop publishing software like Aldus PageMaker including versions of \\n', '    Lorem Ipsum.']\n"
     ]
    }
   ],
   "source": [
    "with open('demo1.txt','w+') as f:\n",
    "    data='''Lorem Ipsum is simply dummy text of the printing and typesetting \n",
    "    industry. Lorem Ipsum has been the industry's standard dummy text ever \n",
    "    since the 1500s, when an unknown printer took a galley of type and \n",
    "    scrambled it to make a type specimen book. It has survived not only five \n",
    "    centuries, but also the leap into electronic typesetting, remaining\n",
    "    essentially unchanged. It was popularised in the 1960s with the release of\n",
    "    Letraset sheets containing Lorem Ipsum passages, and more recently with \n",
    "    desktop publishing software like Aldus PageMaker including versions of \n",
    "    Lorem Ipsum.'''\n",
    "    f.write(data)\n",
    "f1=open('demo1.txt','r')\n",
    "print(f1.readline(20))\n",
    "print(f1.read(200))\n",
    "print(f1.readlines())\n",
    "f1.close()"
   ]
  },
  {
   "cell_type": "raw",
   "id": "083c8378",
   "metadata": {},
   "source": [
    "Q5. Explain why with statement is used with open(). What is the advantage of using with statement and open() together?\n"
   ]
  },
  {
   "cell_type": "code",
   "execution_count": null,
   "id": "c4490efb",
   "metadata": {},
   "outputs": [],
   "source": [
    "'''\n",
    "Unlike open() where you have to close the file with the close() method, the\n",
    "with statement closes the file for you without you telling it to. This is \n",
    "because the with statement calls 2 built-in methods behind the scene \n",
    "– __enter()__ and __exit()__.\n",
    "The __exit()__ method closes the file when the operation you specify is done.'''"
   ]
  },
  {
   "cell_type": "raw",
   "id": "82dd392a",
   "metadata": {},
   "source": [
    "Q6. Explain the write() and writelines() functions. Give a suitable example"
   ]
  },
  {
   "cell_type": "code",
   "execution_count": 1,
   "id": "bc934064",
   "metadata": {},
   "outputs": [
    {
     "data": {
      "text/plain": [
       "'The write() function will write the content in the file without adding any\\nextra characters and does not add a newline character(\\n) to the end of the \\nstring. The write() function returns None.\\n\\nwritelines() function writes the content of a list to a file and add a newline \\ncharacter(\\n) to  the end of the string.\\n\\n'"
      ]
     },
     "execution_count": 1,
     "metadata": {},
     "output_type": "execute_result"
    }
   ],
   "source": [
    "'''The write() function will write the content in the file without adding any\n",
    "extra characters and does not add a newline character(\\n) to the end of the \n",
    "string. The write() function returns None.\n",
    "\n",
    "writelines() function writes the content of a list to a file and add a newline \n",
    "character(\\n) to  the end of the string.\n",
    "\n",
    "'''"
   ]
  },
  {
   "cell_type": "code",
   "execution_count": null,
   "id": "aacd8ad7",
   "metadata": {},
   "outputs": [],
   "source": []
  }
 ],
 "metadata": {
  "kernelspec": {
   "display_name": "Python 3 (ipykernel)",
   "language": "python",
   "name": "python3"
  },
  "language_info": {
   "codemirror_mode": {
    "name": "ipython",
    "version": 3
   },
   "file_extension": ".py",
   "mimetype": "text/x-python",
   "name": "python",
   "nbconvert_exporter": "python",
   "pygments_lexer": "ipython3",
   "version": "3.9.2"
  }
 },
 "nbformat": 4,
 "nbformat_minor": 5
}
