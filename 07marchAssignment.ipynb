{
 "cells": [
  {
   "cell_type": "markdown",
   "id": "d88b0a4d",
   "metadata": {},
   "source": [
    " Q1. What are the three measures of central tendency?"
   ]
  },
  {
   "cell_type": "markdown",
   "id": "f70064de",
   "metadata": {},
   "source": [
    "ANS:\n",
    "The three measures of central tendency are:\n",
    "\n",
    "1. **Mean**: The arithmetic average of a dataset, calculated by summing all values and dividing by the total number of values.\n",
    "\n",
    "2. **Median**: The middle value in a dataset when the values are arranged in ascending or descending order. If there is an even number of values, the median is the average of the two middle values.\n",
    "\n",
    "3. **Mode**: The value that appears most frequently in a dataset. A dataset may have one mode (unimodal), two modes (bimodal), or more than two modes (multimodal), or it may have no mode if all values are unique.\n",
    "\n",
    "These measures are used to represent the typical or central value of a dataset and provide insights into its distribution. Each measure has its strengths and weaknesses depending on the nature of the data and the analysis context."
   ]
  },
  {
   "cell_type": "markdown",
   "id": "00d4f865",
   "metadata": {},
   "source": [
    "Q2. What is the difference between the mean, median, and mode? How are they used to measure the central tendency of a dataset?"
   ]
  },
  {
   "cell_type": "markdown",
   "id": "d5600cbc",
   "metadata": {},
   "source": [
    "ANS: The mean, median, and mode are three different measures of central tendency used to describe the typical or central value of a dataset. Here's how they differ and how they are used:\n",
    "\n",
    "1. **Mean**:\n",
    "   - The mean is the arithmetic average of a dataset. It is calculated by summing all the values in the dataset and then        dividing by the total number of values.\n",
    "   - It is sensitive to extreme values or outliers in the dataset, as each value contributes to the calculation of the           mean.\n",
    "   - The mean is commonly used when the dataset is symmetrically distributed and does not have extreme values that could        significantly skew the average.\n",
    "\n",
    "2. **Median**:\n",
    "   - The median is the middle value in a dataset when the values are arranged in ascending or descending order.\n",
    "   - It is less sensitive to extreme values or outliers compared to the mean because it is not influenced by the exact          values of outliers.\n",
    "   - The median is particularly useful when the dataset has skewed distributions or contains outliers that could distort        the mean.\n",
    "\n",
    "3. **Mode**:\n",
    "   - The mode is the value that appears most frequently in a dataset.\n",
    "   - Unlike the mean and median, the mode does not require numerical data and can be used for categorical or discrete data.\n",
    "   - The mode is useful for identifying the most common or prevalent value(s) in a dataset.\n",
    "\n",
    "**Usage**:\n",
    "- **Mean**: The mean is widely used in statistical analysis and is often the default measure of central tendency. It provides a single representative value for the dataset.\n",
    "- **Median**: The median is used when the dataset has skewed distributions, outliers, or ordinal data. It provides a robust measure of central tendency that is less influenced by extreme values.\n",
    "- **Mode**: The mode is used to identify the most common values in a dataset, particularly for categorical or nominal data.\n",
    "\n",
    "In summary, while all three measures provide insights into the central tendency of a dataset, the choice of which measure to use depends on the nature of the data, the presence of outliers, and the desired interpretation."
   ]
  },
  {
   "cell_type": "markdown",
   "id": "9a136b1c",
   "metadata": {},
   "source": [
    "Q3. Measure the three measures of central tendency for the given height data: [178,177,176,177,178.2,178,175,179,180,175,178.9,176.2,177,172.5,178,176.5]"
   ]
  },
  {
   "cell_type": "code",
   "execution_count": 1,
   "id": "b2ccfb65",
   "metadata": {},
   "outputs": [
    {
     "name": "stdout",
     "output_type": "stream",
     "text": [
      "------ central tendencies of given data are------ \n",
      "mean:  177.01875\n",
      "median:  177.0\n",
      "mode:   178.0\n"
     ]
    }
   ],
   "source": [
    "import numpy as np\n",
    "import statistics as st\n",
    "given =np.array([178,177,176,177,178.2,178,175,179,180,175,178.9,176.2,177,172.5,178,176.5])\n",
    "print(\"------ central tendencies of given data are------ \")\n",
    "print(\"mean: \",np.mean(given))\n",
    "print(\"median: \",np.median(given))\n",
    "print(\"mode:  \",st.mode(given))"
   ]
  },
  {
   "cell_type": "markdown",
   "id": "ade965d1",
   "metadata": {},
   "source": [
    "Q4. Find the standard deviation for the given data: [178,177,176,177,178.2,178,175,179,180,175,178.9,176.2,177,172.5,178,176.5]"
   ]
  },
  {
   "cell_type": "code",
   "execution_count": 2,
   "id": "9b1e9ac8",
   "metadata": {},
   "outputs": [
    {
     "name": "stdout",
     "output_type": "stream",
     "text": [
      "variance:  3.199023437500001\n",
      "standard deviation:  1.7885814036548633\n"
     ]
    }
   ],
   "source": [
    "given2=np.array( [178,177,176,177,178.2,178,175,179,180,175,178.9,176.2,177,172.5,178,176.5])\n",
    "\n",
    "print(\"variance: \",np.var(given))\n",
    "print(\"standard deviation: \",np.std(given))\n"
   ]
  },
  {
   "cell_type": "markdown",
   "id": "18a1a260",
   "metadata": {},
   "source": [
    "Q5. How are measures of dispersion such as range, variance, and standard deviation used to describe the spread of a dataset? Provide an example."
   ]
  },
  {
   "cell_type": "markdown",
   "id": "8d38c439",
   "metadata": {},
   "source": [
    "ANS: Measures of dispersion such as range, variance, and standard deviation are used to quantify the spread or variability within a dataset. Each of these measures provides different insights into the extent to which the data points deviate from the central tendency (such as the mean or median) of the dataset.\n",
    "\n",
    "1. **Range**: The range is the simplest measure of dispersion and is calculated by subtracting the minimum value from the maximum value in the dataset. It gives a rough idea of how widely the data is spread out. However, it doesn't take into account the distribution of values between the minimum and maximum.\n",
    "\n",
    "   For example, let's say we have a dataset of exam scores: {70, 75, 80, 85, 90}. The range would be 90 - 70 = 20.\n",
    "\n",
    "2. **Variance**: Variance measures how much the values in a dataset deviate from the mean. It's calculated by taking the average of the squared differences between each data point and the mean. A higher variance indicates greater variability in the data.\n",
    "\n",
    "   Using the same dataset of exam scores {70, 75, 80, 85, 90}, first, we calculate the mean: (70 + 75 + 80 + 85 + 90) / 5 = 80. Then, we calculate the squared differences from the mean: (70-80)^2 + (75-80)^2 + (80-80)^2 + (85-80)^2 + (90-80)^2 = 250. Finally, we divide by the number of data points to get the variance: 250 / 5 = 50.\n",
    "\n",
    "3. **Standard Deviation**: The standard deviation is the square root of the variance. It measures the average amount of variability or dispersion of data points from the mean. A higher standard deviation indicates greater variability.\n",
    "\n",
    "   Continuing with the example, the standard deviation would be the square root of the variance we calculated earlier, which is √50 ≈ 7.07.\n",
    "\n",
    "In summary, range gives a basic idea of the spread, while variance and standard deviation provide more detailed information about how the data points are distributed around the mean. They are all useful in different contexts for understanding the variability within a dataset."
   ]
  },
  {
   "cell_type": "markdown",
   "id": "bfd891a6",
   "metadata": {},
   "source": [
    "Q6. What is a Venn diagram?"
   ]
  },
  {
   "cell_type": "markdown",
   "id": "d97d7dd8",
   "metadata": {},
   "source": [
    "ANS: A Venn diagram is a graphical representation of sets using circles or other shapes that overlap to show the relationships between different sets or groups. The basic idea behind a Venn diagram is to visually represent the intersection, union, and complement of sets.\n",
    "\n",
    "In a Venn diagram:\n",
    "\n",
    "1. Each set is represented by a circle or a closed curve.\n",
    "2. Overlapping regions between circles represent elements that are common to the sets involved.\n",
    "3. Non-overlapping regions represent elements that are unique to each set.\n",
    "\n",
    "Venn diagrams are commonly used in mathematics, logic, statistics, and various other fields to illustrate relationships between different categories or groups. They can be simple, with only two sets, or more complex, with multiple sets.\n"
   ]
  },
  {
   "cell_type": "markdown",
   "id": "77b310b8",
   "metadata": {},
   "source": [
    "Q7. For the two given sets A = (2,3,4,5,6,7) & B = (0,2,6,8,10).\n",
    "Find:\n",
    "\n",
    "(i)A intersection B=()\n",
    "\n",
    "(ii) A ⋃ B"
   ]
  },
  {
   "cell_type": "markdown",
   "id": "e7d33569",
   "metadata": {},
   "source": [
    "ANS: '''\n",
    "(i) A intersection B=(2,6)\n",
    "(ii) A ⋃ B=(0,2,3,4,5,6,7,8,10)\n",
    "\n",
    "'''"
   ]
  },
  {
   "cell_type": "markdown",
   "id": "163e1773",
   "metadata": {},
   "source": [
    "Q8. What do you understand about skewness in data?"
   ]
  },
  {
   "cell_type": "markdown",
   "id": "d2b6c9be",
   "metadata": {},
   "source": [
    "ANS: skewness in data is used to measure in descriptve stats that characterics the asymmetry of a probability distribution.\n",
    "skewed data is shifted to one side. A distribution which is deviated from a symmetrical probability distributed ie normal distributed exhibits skewness. \n",
    "normal distributed :- mean=median-mode=0\n",
    "there are two type of skewed distributed data\n",
    "1) left skewed or negative skewed : long tail on left. more values are plotted on the right side of the graph.\n",
    "    the mean of the data is less than median ie mode > median > mean and mean, median and mode are positive.\n",
    "    \n",
    "2) right skewed or positive skewed : long tail on right. more values are plotted on the left side of the graph.\n",
    "    the mean of the data is more than median ie mean > median > mode and mean, median and mode are positive."
   ]
  },
  {
   "cell_type": "markdown",
   "id": "f2d2788c",
   "metadata": {},
   "source": [
    "Q9. If a data is right skewed then what will be the position of median with respect to mean?"
   ]
  },
  {
   "cell_type": "markdown",
   "id": "b0f0a678",
   "metadata": {},
   "source": [
    "ANS: In right skewed or positive skewed distribution long tail on right. more values are plotted on the left side of the graph.\n",
    " the mean of the data is more than median ie mean > median > mode where  mean, median and mode are positive."
   ]
  },
  {
   "cell_type": "markdown",
   "id": "d7e72e62",
   "metadata": {},
   "source": [
    "Q10. Explain the difference between covariance and correlation. How are these measures used in statistical analysis?"
   ]
  },
  {
   "cell_type": "markdown",
   "id": "31165d39",
   "metadata": {},
   "source": [
    "ANS: Covariance and correlation are both measures used to describe the relationship between two variables in a dataset. \n",
    "While they are related, they have distinct differences in terms of their interpretation and usage in statistical analysis.\n",
    "\n",
    "1. **Covariance**:\n",
    "   - Covariance measures the extent to which two variables change together. In other words, it quantifies the degree to \n",
    "     which two variables tend to move in the same direction.\n",
    "   - It is calculated by taking the average of the product of the differences of each variable from their respective means.\n",
    "   - Covariance can take on any value, positive, negative, or zero.\n",
    "   - However, the magnitude of covariance is not standardized, so it's challenging to interpret the strength of the \n",
    "     relationship between variables solely based on the covariance value.\n",
    "\n",
    "2. **Correlation**:\n",
    "   - Correlation is a standardized measure of the linear relationship between two variables. It indicates both the strength \n",
    "    and direction of the relationship.\n",
    "   - Correlation values range between -1 and +1. A correlation of +1 indicates a perfect positive linear relationship, \n",
    "    a correlation of -1 indicates a perfect negative linear relationship, and a correlation of 0 indicates no linear relationship.\n",
    "   - Correlation is calculated by dividing the covariance by the product of the standard deviations of the two variables.\n",
    "   - Unlike covariance, correlation allows for easier comparison between different pairs of variables since it's standardized.\n",
    "\n",
    "In statistical analysis:\n",
    "- Covariance is used to determine the direction of the relationship between two variables. For example, a positive covariance \n",
    "    indicates that as one variable increases, the other tends to increase as well, while a negative covariance indicates \n",
    "    that as one variable increases, the other tends to decrease.\n",
    "- Correlation is used to assess both the direction and strength of the relationship between two variables. It provides more\n",
    "    meaningful insights into the relationship compared to covariance because it is standardized and bounded between -1 and +1. \n",
    "    Additionally, correlation is widely used in fields such as economics, finance, and social sciences to analyze relationships between variables and make predictions."
   ]
  },
  {
   "cell_type": "markdown",
   "id": "794433de",
   "metadata": {},
   "source": [
    "What is the formula for calculating the sample mean? Provide an example calculation for a dataset."
   ]
  },
  {
   "cell_type": "markdown",
   "id": "e72cb660",
   "metadata": {},
   "source": [
    "ANS: The formula for calculating the sample mean, denoted as,bar{x}, is the sum of all the values in the dataset divided by the total number of values in the dataset n:\n",
    "\n",
    "bar{x} = summation of x / total number of observation (n)\n",
    "\n",
    "Where:\n",
    "bar{x} is the sample mean\n",
    "\n",
    "\n",
    "Now, let's illustrate this with an example dataset:\n",
    "\n",
    "Example dataset: {2, 4, 6, 8, 10}\n",
    "\n",
    "To calculate the sample mean, we sum up all the values in the dataset and then divide by the total number of values:\n",
    "\n",
    "bar{x} = {2 + 4 + 6 + 8 + 10}\\{5} \n",
    "\n",
    "bar{x} = {30}\\{5} \n",
    "\n",
    "bar{x} = 6 \n",
    "\n",
    "So, the sample mean of the given dataset is 6."
   ]
  },
  {
   "cell_type": "markdown",
   "id": "99071cd7",
   "metadata": {},
   "source": [
    "Q12. For a normal distribution data what is the relationship between its measure of central tendency?"
   ]
  },
  {
   "cell_type": "markdown",
   "id": "5cd1437d",
   "metadata": {},
   "source": [
    " ANS:  For a normal distribution data  the relationship between its measure of central tendency is mean=median=mode"
   ]
  },
  {
   "cell_type": "markdown",
   "id": "5302290c",
   "metadata": {},
   "source": [
    "Q13. How is covariance different from correlation?"
   ]
  },
  {
   "cell_type": "markdown",
   "id": "6d93956b",
   "metadata": {},
   "source": [
    "ANS:  Covariance and correlation are both measures of the relationship between two variables, but they differ in their interpretation \n",
    "and scale:\n",
    "\n",
    "1. **Interpretation**:\n",
    "   - **Covariance**: Covariance measures the extent to which two variables change together. A positive covariance indicates\n",
    "    that as one variable increases, the other tends to increase as well, and vice versa for negative covariance. However, \n",
    "    the magnitude of covariance is not standardized, making it difficult to interpret the strength of the relationship.\n",
    "   - **Correlation**: Correlation measures the strength and direction of the linear relationship between two variables.\n",
    "    A correlation of +1 indicates a perfect positive linear relationship, a correlation of -1 indicates a perfect negative \n",
    "    linear relationship, and a correlation of 0 indicates no linear relationship. Unlike covariance, correlation is             standardized,allowing for easier comparison between different pairs of variables.\n",
    "\n",
    "2. **Scale**:\n",
    "   - **Covariance**: Covariance can take on any value, positive, negative, or zero, depending on the relationship between         the variables. However, the magnitude of covariance is influenced by the scales of the variables. Therefore, it's           challenging to compare covariances between different pairs of variables.\n",
    "   - **Correlation**: Correlation values range between -1 and +1, regardless of the scales of the variables. This                 standardization makes correlation a more interpretable measure of the relationship between variables, as it provides       insights into both the direction and strength of the relationship without being influenced by the scales.\n",
    "\n",
    "In summary, while both covariance and correlation measure the relationship between two variables, correlation provides a more standardized and interpretable measure compared to covariance, making it widely used in statistical analysis and interpretation."
   ]
  },
  {
   "cell_type": "markdown",
   "id": "30974ba9",
   "metadata": {},
   "source": [
    "Q14. How do outliers affect measures of central tendency and dispersion? Provide an example."
   ]
  },
  {
   "cell_type": "markdown",
   "id": "4f849d7c",
   "metadata": {},
   "source": [
    "ANS:  Outliers can have a significant impact on measures of central tendency and dispersion:\n",
    "\n",
    "1. **Measures of Central Tendency**:\n",
    "   - Outliers can distort the mean (average) of a dataset. Since the mean is calculated by summing all values and dividing     by the total number of values, outliers with extreme values can pull the mean towards them, resulting in a misleading       representation of the typical value in the dataset.\n",
    "   - The median (middle value) is less affected by outliers compared to the mean. Outliers have little to no impact on the      median if they are not close to the median value.\n",
    "   - The mode (most frequent value) is generally not affected by outliers.\n",
    "\n",
    "2. **Measures of Dispersion**:\n",
    "   - Outliers can significantly impact measures of dispersion such as the range, variance, and standard deviation.\n",
    "   - The range, which is the difference between the maximum and minimum values in a dataset, can be greatly affected by          outliers, especially if they are far from the rest of the data.\n",
    "   - Variance and standard deviation are influenced by the squared differences between each data point and the mean.            Outliers, especially those far from the mean, can increase the variability and, consequently, inflate the variance and      standard deviation.\n",
    "\n",
    "Example:\n",
    "Consider a dataset representing the salaries of employees in a company:\n",
    " { 40,000, 45,000, 50,000, 55,000, 200,000 } \n",
    "\n",
    "- Mean: 80,000  (calculated by summing all values and dividing by 5)\n",
    "- Median:50,000  (the middle value)\n",
    "- Mode: 40,000, 45,000, 50,000, 55,000  (no single mode)\n",
    "- Range: 160,000  (200,000 - 40,000)\n",
    "- Variance: 26,000,000  (calculated using the formula for variance)\n",
    "- Standard Deviation: 5,099.02  (square root of the variance)\n",
    "\n",
    "You can see that the outlier (200,000) has significantly affected the mean, range, variance, and standard deviation, making these measures less representative of the typical salary in the dataset. However, the median and mode remain relatively unaffected."
   ]
  },
  {
   "cell_type": "code",
   "execution_count": null,
   "id": "be31ed2a",
   "metadata": {},
   "outputs": [],
   "source": []
  }
 ],
 "metadata": {
  "kernelspec": {
   "display_name": "Python 3 (ipykernel)",
   "language": "python",
   "name": "python3"
  },
  "language_info": {
   "codemirror_mode": {
    "name": "ipython",
    "version": 3
   },
   "file_extension": ".py",
   "mimetype": "text/x-python",
   "name": "python",
   "nbconvert_exporter": "python",
   "pygments_lexer": "ipython3",
   "version": "3.9.2"
  }
 },
 "nbformat": 4,
 "nbformat_minor": 5
}
