{
 "cells": [
  {
   "cell_type": "raw",
   "id": "7f364fa0",
   "metadata": {},
   "source": [
    "what is multithreading in python? why is it used? Name the module used to handle threads in python"
   ]
  },
  {
   "cell_type": "raw",
   "id": "88cd1979",
   "metadata": {},
   "source": [
    "A thread is the smallest unit of a program or process executed independently or scheduled by the Operating System.\n",
    "Multithreading is a threading technique in Python programming to run multiple threads concurrently by rapidly switching between threads with a CPU help (called context switching).\n",
    "\n",
    "There are two main modules of multithreading used to handle threads in Python.\n",
    "1) The thread module\n",
    "2) The threading module"
   ]
  },
  {
   "cell_type": "raw",
   "id": "0a3b9cda",
   "metadata": {},
   "source": [
    "why threading module used? write the use of the following functions\n",
    "activeCount()\n",
    "currentThread()\n",
    "enumerate()"
   ]
  },
  {
   "cell_type": "raw",
   "id": "dd34d0f6",
   "metadata": {},
   "source": [
    "-----------------------answer-----------------------\n",
    "The threading module exposes all the methods of the thread module and provides some additional methods −\n",
    "\n",
    "threading.activeCount() − Returns the number of thread objects that are active.\n",
    "\n",
    "threading.currentThread() − Returns the number of thread objects in the caller's thread control.\n",
    "\n",
    "threading.enumerate() − Returns a list of all thread objects that are currently active."
   ]
  },
  {
   "cell_type": "raw",
   "id": "80077d3c",
   "metadata": {},
   "source": [
    "3. Explain the following functions\n",
    " run()\n",
    " start()\n",
    " join()\n",
    " isAlive()"
   ]
  },
  {
   "cell_type": "raw",
   "id": "3b087eea",
   "metadata": {},
   "source": [
    "-----------------------answer-----------------------\n",
    "run() − The run() method is the entry point for a thread and is used to define a thread's activity and can be overridden by a class that extends the threads class.\t\n",
    "\n",
    "start() − The start() method starts a thread by calling the run method and is used to initiate the activity of a thread. And it calls only once for each thread so that the execution of the thread can begin.\n",
    "\n",
    "join([time]) − The join() waits for threads to terminate and is used to block the execution of another code until the thread terminates.\n",
    "\n",
    "isAlive() − The isAlive() method checks whether a thread is still executing.\n",
    "\n",
    "getName() − The getName() method returns the name of a thread.\n",
    "\n",
    "setName() − The setName() method sets the name of a thread."
   ]
  },
  {
   "cell_type": "raw",
   "id": "848486ff",
   "metadata": {},
   "source": [
    "4.Write a python program to create two threads. Thread one must print the list of squares and thread two must print the list of cubes"
   ]
  },
  {
   "cell_type": "code",
   "execution_count": 1,
   "id": "9c00ef98",
   "metadata": {},
   "outputs": [
    {
     "name": "stdout",
     "output_type": "stream",
     "text": [
      "1 Square: 1\n",
      "1 Cube: 1\n",
      "2 Cube: 8\n",
      "2 Square: 4\n",
      "3 Cube: 27\n",
      "3 Square: 9\n",
      "4 Cube: 64\n",
      "4 Square: 16\n",
      "55 Cube: 125\n",
      " Square: 25\n",
      "66 Cube: 216\n",
      " Square: 36\n",
      "7 Square: 49\n",
      "7 Cube: 343\n",
      "88 Square: 64\n",
      " Cube: 512\n",
      "99 Square: 81\n",
      " Cube: 729\n"
     ]
    }
   ],
   "source": [
    "import time\n",
    "import threading\n",
    "def square(n1):\n",
    "    for i in n1:\n",
    "        time.sleep(0.2)\n",
    "        \n",
    "        print(i,\"Square:\",i*i)\n",
    "def cube(n2):\n",
    "    for i in n2:\n",
    "        time.sleep(0.2)\n",
    "        print(i,\"Cube:\",i*i*i)\n",
    "num=[i for i in range(1,10)]\n",
    "t1=threading.Thread( target=square, args=(num,) )\n",
    "t2=threading.Thread( target=cube, args=(num,) ) \n",
    "t1.start()\n",
    "t2.start()\n",
    "t1.join()\n",
    "t2.join()"
   ]
  },
  {
   "cell_type": "raw",
   "id": "e5a656e2",
   "metadata": {},
   "source": [
    "5. State advantages and disadvantages of multithreading"
   ]
  },
  {
   "cell_type": "raw",
   "id": "5b11cba3",
   "metadata": {},
   "source": [
    "-----------------------answer-----------------------\n",
    "\n",
    "advantages of multithreading\n",
    "\n",
    "1) It ensures effective utilization of computer system resources.\n",
    "2) Multithreaded applications are more responsive.\n",
    "3) It shares resources and its state with sub-threads (child) which makes it more economical.\n",
    "4) It makes the multiprocessor architecture more effective due to similarity.\n",
    "5) It saves time by executing multiple threads at the same time.\n",
    "6) The system does not require too much memory to store multiple threads."
   ]
  },
  {
   "cell_type": "raw",
   "id": "e75d234b",
   "metadata": {},
   "source": [
    "6. Explain deadlocks and race conditions."
   ]
  },
  {
   "cell_type": "raw",
   "id": "6c874bf4",
   "metadata": {},
   "source": [
    "-----------------------answer-----------------------\n",
    "\n",
    "Race conditions can occur when two or more threads access a shared piece of data or resource.Frequently, they only occur rarely, and they can produce confusing results. And this makes them quite difficult to debug.\n",
    "\n",
    "deadlocks usually happen from one of two subtle things:\n",
    "\n",
    "1) An implementation bug where a Lock is not released properly\n",
    "2) A design issue where a utility function needs to be called by functions that might or might not already have the Lock"
   ]
  },
  {
   "cell_type": "code",
   "execution_count": null,
   "id": "3966227a",
   "metadata": {},
   "outputs": [],
   "source": []
  },
  {
   "cell_type": "code",
   "execution_count": null,
   "id": "ff88b27a",
   "metadata": {},
   "outputs": [],
   "source": []
  }
 ],
 "metadata": {
  "kernelspec": {
   "display_name": "Python 3 (ipykernel)",
   "language": "python",
   "name": "python3"
  },
  "language_info": {
   "codemirror_mode": {
    "name": "ipython",
    "version": 3
   },
   "file_extension": ".py",
   "mimetype": "text/x-python",
   "name": "python",
   "nbconvert_exporter": "python",
   "pygments_lexer": "ipython3",
   "version": "3.9.2"
  }
 },
 "nbformat": 4,
 "nbformat_minor": 5
}
