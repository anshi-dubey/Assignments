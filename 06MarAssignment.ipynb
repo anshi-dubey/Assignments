{
 "cells": [
  {
   "cell_type": "markdown",
   "id": "7d8529bb",
   "metadata": {},
   "source": [
    "Q1. What is Statistics?\n",
    "\n",
    "\n",
    "----------------------------------------------------------Answer----------------------------------------------------------\n",
    "\n",
    "\n",
    "Statistics is the study of data collection, analysis, perception, introduction, and organization. It is a method of gathering and summarizing results. Statistics is the branch of mathematics that is all about the gathering, observing, interpretation, presentation, and organization of data. In simpler words, it is a field to collect and summarize data."
   ]
  },
  {
   "cell_type": "markdown",
   "id": "3ba25b4f",
   "metadata": {},
   "source": [
    "Q2. Define the different types of statistics and give an example of when each type might be used.\n",
    "\n",
    "\n",
    "----------------------------------------------------------Answer----------------------------------------------------------\n",
    "\n",
    "\n",
    "there are two types of statistic.These are :\n",
    "--> descriptive statistics\n",
    "--> inferetial statistics\n",
    "\n",
    "----descriptive statistics----\n",
    "\n",
    "The data summarization is done from a populalation sample utilising several factors such as mean and standard deviation.\n",
    "-->it consist of organising and summarizing data.\n",
    "-->measure central tendency(mean,median,mode)\n",
    "-->measure of dispersion\n",
    "\n",
    "----inferetial statistics----\n",
    "\n",
    "utilising inferential statistics to convey the meaning of the collected data after it has been collected,evaluated and summarized that is after descriptive statistics.\n",
    "-->Inferential statistics consist analysis of data that you have measured to conclusion.\n",
    "-->Inferential statistics uses the probability principle to examine if patterns seen in a research sample\n"
   ]
  },
  {
   "cell_type": "markdown",
   "id": "91f612b0",
   "metadata": {},
   "source": [
    "Q3. What are the different types of data and how do they differ fQunrom each other? Provide an example of\n",
    "each type of data.\n",
    "\n",
    "\n",
    "----------------------------------------------------------Answer----------------------------------------------------------\n",
    "\n",
    "\n",
    "data is majorly divided in two parts\n",
    "a) Qualitative data : This data is descriptive.\n",
    "\n",
    "-->nominal data eg: gender(M/F),blood group,pincode etc\n",
    "-->ordinal data eg: customer rating (good,best,better,bad) etc\n",
    "\n",
    "b) Quantitative data : This is numerical information.\n",
    "\n",
    "-->discreate data eg: number of a bank account,number of a children in a family etc\n",
    "-->continuous data eg:weight,height,speed,temperature etc"
   ]
  },
  {
   "cell_type": "markdown",
   "id": "4f6c6170",
   "metadata": {},
   "source": [
    "Q4. Categorise the following datasets with respect to quantitative and qualitative data types:\n",
    "(i) Grading in exam: A+, A, B+, B, C+, C, D, E\n",
    "(ii) Colour of mangoes: yellow, green, orange, red\n",
    "(iii) Height data of a class: [178.9, 179, 179.5, 176, 177.2, 178.3, 175.8,...]\n",
    "(iv) Number of mangoes exported by a farm: [500, 600, 478, 672, ...]\n",
    "\n",
    "\n",
    "----------------------------------------------------------Answer----------------------------------------------------------\n",
    "\n",
    "\n",
    "(i) grading in exam--> qualitative data ( ordinal data )\n",
    "(ii) Colour of mangoes--> qualitative data ( cardinal data )\n",
    "(iii) Height data of a class--> quantitative data ( continuous data )\n",
    "(iv) Number of mangoes exported by a farm--> quantitative data ( continuous data )"
   ]
  },
  {
   "cell_type": "markdown",
   "id": "a2796054",
   "metadata": {},
   "source": [
    "Q5. Explain the concept of levels of measurement and give an example of a variable for each level.\n",
    "\n",
    "----------------------------------------------------------Answer----------------------------------------------------------\n",
    "\n",
    "\n",
    "ans: Levels of measurement, also called scales of measurement,tell you how precisely variables are recorded\n",
    "There are 4 levels of measurement:\n",
    "\n",
    "a> Nominal: the data can only be categorized\n",
    "b> Ordinal: the data can be categorized and ranked\n",
    "c> Interval: the data can be categorized, ranked, and evenly spaced\n",
    "d> Ratio: the data can be categorized, ranked, evenly spaced, and has a natural zero\n"
   ]
  },
  {
   "cell_type": "markdown",
   "id": "23309868",
   "metadata": {},
   "source": [
    "Q6. Why is it important to understand the level of measurement when analyzing data? Provide an example to illustrate your answer.\n",
    "\n",
    "\n",
    "----------------------------------------------------------Answer----------------------------------------------------------\n",
    "\n",
    "Knowing the level of measurement of your variables is important for two reasons. \n",
    "\n",
    "------------------------------The First reason is --------------------------\n",
    "\n",
    "Each of the levels of measurement provides a different level of detail.  Nominal provides the least amount of detail, ordinal provides the next highest amount of detail, and interval and ratio provide the most amount of detail.\n",
    "-----------For example, ----------\n",
    "In a nominal level variable, values are grouped into categories that have no meaningful order.  For example, gender and Members in the group are assigned a label in that group and there is no hierarchy.Typical descriptive statistics associated with nominal data are frequencies and percentages.\n",
    "\n",
    "Ordinal level variables are nominal level variables with a meaningful order.  For example, horse race winners can be assigned labels of first, second, third, fourth, etc. and these labels have an ordered relationship among them (i.e., first is higher than second, second is higher than third, and so on).  As with nominal level variables, ordinal level variables are typically described with frequencies and percentages.\n",
    "\n",
    "Interval and ratio level variables (also called continuous level variables) have the most detail associated with them.  Mathematical operations such as addition, subtraction, multiplication, and division can be accurately applied to the values of these variables.  An example variable would be the amount of milk used in cookie recipe (measured in cups).  This variable has arithmetic properties such that 2 cups of milk is exactly twice as much as 1 cup of milk.  Additionally, the difference between 1 and 2 cups of milk is exactly the same as the difference between 2 and 3 cups of milk.  Interval and ratio level variables are typically described using means and standard deviations.\n",
    "\n",
    "------------------------------The Second reason is--------------------------\n",
    "\n",
    "because different statistical tests are appropriate for variables with different levels of measurement. \n",
    "-----------For example, ----------\n",
    "chi-square tests of independence are most appropriate for nominal level data.  The Mann-Whitney U test is most appropriate for an ordinal level dependent variable and a nominal level independent variable.  An ANOVA is most appropriate for a continuous level dependent variable and a nominal level independent variable.  To learn which tests use what types of variable, please download the free whitepaper."
   ]
  },
  {
   "cell_type": "markdown",
   "id": "9cd435c3",
   "metadata": {},
   "source": [
    "Q7. How nominal data type is different from ordinal data type.\n",
    "\n",
    "\n",
    "----------------------------------------------------------Answer----------------------------------------------------------\n",
    "in nominal data type, data are categorized but not ranked ie no meaningful order\n",
    "in ordinal data type, data are catagorized and ranked ie with a meaningful order"
   ]
  },
  {
   "cell_type": "markdown",
   "id": "c9f8e3a0",
   "metadata": {},
   "source": [
    "Q8. Which type of plot can be used to display data in terms of range?\n",
    "\n",
    "\n",
    "----------------------------------------------------------Answer----------------------------------------------------------\n",
    "Barchart or histogram can be used to display data in terms of range\n"
   ]
  },
  {
   "cell_type": "markdown",
   "id": "0e716d5f",
   "metadata": {},
   "source": [
    "Q9. Describe the difference between descriptive and inferential statistics. Give an example of each\n",
    "type of statistics and explain how they are used.\n",
    "\n",
    "\n",
    "----------------------------------------------------------Answer----------------------------------------------------------\n",
    "descriptive statistics focus on describing the visible characteristics of a dataset (a population or sample).\n",
    "Meanwhile, inferential statistics focus on making predictions or generalizations about a larger dataset, based on a sample of those data.\n",
    "\n",
    "Descriptive statistics:\n",
    "\n",
    "-->Describe the features of populations and/or samples\n",
    "-->Organize and present data in a purely factual way\n",
    "-->Present final results visually, using tables, charts, or graphs\n",
    "-->Draw conclusions based on known data\n",
    "-->Use measures like central tendency, distribution, and variance\n",
    "\n",
    "\n",
    "Inferential statistics:\n",
    "\n",
    "-->Use samples to make generalizations about larger populations\n",
    "-->Help us to make estimates and predict future outcomes\n",
    "-->Present final results in the form of probabilities\n",
    "-->Draw conclusions that go beyond the available data\n",
    "-->Use techniques like hypothesis testing, confidence intervals, and regression and correlation analysis\n"
   ]
  },
  {
   "cell_type": "markdown",
   "id": "6ca10551",
   "metadata": {},
   "source": [
    "Q10. What are some common measures of central tendency and variability used in statistics? Explain\n",
    "how each measure can be used to describe a dataset.\n",
    "\n",
    "\n",
    "----------------------------------------------------------Answer----------------------------------------------------------\n",
    "\n",
    "Central tendency is the name for measurements that look at the typical central values within a dataset. This does not just refer to the central value within an entire dataset, which is called the median. Rather, it is a general term used to describe a variety of central measurements. For instance, it might include central measurements from different quartiles of a larger dataset. Common measures of central tendency include:\n",
    "\n",
    "-->The mean: The average value of all the data points.\n",
    "-->The median: The central or middle value in the dataset.\n",
    "-->The mode: The value that appears most often in the dataset.\n",
    "\n",
    "\n",
    "The variability, or dispersion, of a dataset, describes how values are distributed or spread out. Identifying variability relies on understanding the central tendency measurements of a dataset. However, like central tendency, variability is not just one measure. It is a term used to describe a range of measurements. \n",
    "\n",
    "Common measures of variability include are: \n",
    "\n",
    "-->Standard deviation: This shows us the amount of variation or dispersion. Low standard deviation implies that most values are close to the mean. High standard deviation suggests that the values are more broadly spread out.\n",
    "-->Minimum and maximum values: These are the highest and lowest values in a dataset or quartile. Using the example of our hair color dataset again, the minimum and maximum values are 13 and 130 respectively.\n",
    "Range: This measures the size of the distribution of values. This can be easily determined by subtracting the smallest value from the largest. So, in our hair color dataset, the range is 117 (130 minus 13).\n",
    "-->Kurtosis: This measures whether or not the tails of a given distribution contain extreme values (also known as outliers). If a tail lacks outliers, we can say that it has low kurtosis. If a dataset has a lot of outliers, we can say it has high kurtosis.\n",
    "-->Skewness: This is a measure of a dataset’s symmetry. If you were to plot a bell-curve and the right-hand tail was longer and fatter, we would call this positive skewness. If the left-hand tail is longer and fatter, we call this negative skewness. This is visible in the following image.\n"
   ]
  }
 ],
 "metadata": {
  "kernelspec": {
   "display_name": "Python 3 (ipykernel)",
   "language": "python",
   "name": "python3"
  },
  "language_info": {
   "codemirror_mode": {
    "name": "ipython",
    "version": 3
   },
   "file_extension": ".py",
   "mimetype": "text/x-python",
   "name": "python",
   "nbconvert_exporter": "python",
   "pygments_lexer": "ipython3",
   "version": "3.9.2"
  }
 },
 "nbformat": 4,
 "nbformat_minor": 5
}
