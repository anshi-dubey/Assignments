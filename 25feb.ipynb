{
 "cells": [
  {
   "cell_type": "code",
   "execution_count": 1,
   "id": "d8cf7356",
   "metadata": {},
   "outputs": [
    {
     "name": "stdout",
     "output_type": "stream",
     "text": [
      "        course_name  duration\n",
      "0      Data Science         2\n",
      "1  Machine Learning         3\n",
      "2          Big Data         6\n",
      "3     Data Engineer         4\n",
      "course_name    Machine Learning\n",
      "duration                      3\n",
      "Name: 1, dtype: object\n"
     ]
    }
   ],
   "source": [
    "'''Consider following code to answer further questions:\n",
    "import pandas as pd\n",
    "course_name = [‘Data Science’, ‘Machine Learning’, ‘Big Data’, ‘Data Engineer’]\n",
    "duration = [2,3,6,4]\n",
    "df = pd.DataFrame(data = {‘course_name’ : course_name, ‘duration’ : duration})\n",
    "Q1. Write a code to print the data present in the second row of the dataframe, df.'''\n",
    "import pandas as pd\n",
    "course_name = ['Data Science', 'Machine Learning', 'Big Data', 'Data Engineer']\n",
    "duration = [2,3,6,4]\n",
    "df = pd.DataFrame(data = {'course_name' : course_name, 'duration' : duration})\n",
    "print(df)\n",
    "print(df.iloc[1,:])"
   ]
  },
  {
   "cell_type": "code",
   "execution_count": 2,
   "id": "1bf06874",
   "metadata": {},
   "outputs": [
    {
     "data": {
      "text/plain": [
       "'\\nloc is purely labelled based indexing and pass the name of the row or column which we want to select. This method includes the last element of the range passed in it.\\n\\niloc is based on integer based indexing or purely indexed based indexing and pass an integer index in the method to select a specific row/column. This method does not include the last element of the range passed in it.\\n'"
      ]
     },
     "execution_count": 2,
     "metadata": {},
     "output_type": "execute_result"
    }
   ],
   "source": [
    "'''Q2. What is the difference between the functions loc and iloc in pandas.DataFrame?'''\n",
    "'''\n",
    "loc is purely labelled based indexing and pass the name of the row or column which we want to select. This method includes the last element of the range passed in it.\n",
    "\n",
    "iloc is based on integer based indexing or purely indexed based indexing and pass an integer index in the method to select a specific row/column. This method does not include the last element of the range passed in it.\n",
    "'''"
   ]
  },
  {
   "cell_type": "code",
   "execution_count": 3,
   "id": "a222dedb",
   "metadata": {},
   "outputs": [
    {
     "name": "stdout",
     "output_type": "stream",
     "text": [
      "   column_1  column_2  column_3  column_4  column_5  column_6\n",
      "3  0.760288  0.038272  0.184659  0.254976  0.760196  0.023499\n",
      "0       NaN       NaN       NaN       NaN       NaN       NaN\n",
      "1  0.725709  0.006737  0.802225  0.011313  0.249727  0.198795\n",
      "2  0.710104  0.236593  0.453805  0.306432  0.815716  0.072321\n",
      "\n",
      " using iloc accessing row of index number 2 (0,1,2) ie third row\n",
      "column_1    0.725709\n",
      "column_2    0.006737\n",
      "column_3    0.802225\n",
      "column_4    0.011313\n",
      "column_5    0.249727\n",
      "column_6    0.198795\n",
      "Name: 1, dtype: float64\n",
      "\n",
      " using loc accessing row labelled as 2 ie fourth row\n",
      "column_1    0.710104\n",
      "column_2    0.236593\n",
      "column_3    0.453805\n",
      "column_4    0.306432\n",
      "column_5    0.815716\n",
      "column_6    0.072321\n",
      "Name: 2, dtype: float64\n"
     ]
    },
    {
     "data": {
      "text/plain": [
       "'Yes, i do observe difference in both like using iloc function we accessed row with resect to its index and \\nusing loc function we accessed row with resect to its label'"
      ]
     },
     "execution_count": 3,
     "metadata": {},
     "output_type": "execute_result"
    }
   ],
   "source": [
    "'''\n",
    "Q3. Reindex the given dataframe using a variable, reindex = [3,0,1,2] and store it in the variable, new_df\n",
    "then find the output for both new_df.loc[2] and new_df.iloc[2].\n",
    "\n",
    "Did you observe any difference in both the outputs? If so then explain it.\n",
    "Consider the below code to answer further questions:\n",
    "import pandas as pd\n",
    "import numpy as np\n",
    "columns = ['column_1', 'column_2', 'column_3', 'column_4', 'column_5', 'column_6']\n",
    "indices = [1,2,3,4,5,6]\n",
    "#Creating a dataframe:\n",
    "df1 = pd.DataFrame(np.random.rand(6,6), columns = columns, index = indices)\n",
    "'''\n",
    "import pandas as pd\n",
    "import numpy as np\n",
    "columns = ['column_1', 'column_2', 'column_3', 'column_4', 'column_5', 'column_6']\n",
    "indices = [1,2,3,4,5,6]\n",
    "#Creating a dataframe:\n",
    "df1 = pd.DataFrame(np.random.rand(6,6), columns = columns, index = indices)\n",
    "reindex = [3,0,1,2]\n",
    "new_df=df1.reindex(index=reindex)\n",
    "print(new_df)\n",
    "print(\"\\n using iloc accessing row of index number 2 (0,1,2) ie third row\")\n",
    "print(new_df.iloc[2])\n",
    "print(\"\\n using loc accessing row labelled as 2 ie fourth row\")\n",
    "print(new_df.loc[2])\n",
    "'''Yes, i do observe difference in both like using iloc function we accessed row with resect to its index and \n",
    "using loc function we accessed row with resect to its label'''"
   ]
  },
  {
   "cell_type": "code",
   "execution_count": 4,
   "id": "58e5d642",
   "metadata": {},
   "outputs": [
    {
     "name": "stdout",
     "output_type": "stream",
     "text": [
      "   column_1  column_2  column_3  column_4  column_5  column_6\n",
      "1  0.725709  0.006737  0.802225  0.011313  0.249727  0.198795\n",
      "2  0.710104  0.236593  0.453805  0.306432  0.815716  0.072321\n",
      "3  0.760288  0.038272  0.184659  0.254976  0.760196  0.023499\n",
      "4  0.221524  0.781785  0.010487  0.921076  0.036444  0.318545\n",
      "5  0.237122  0.631666  0.148190  0.525901  0.210897  0.037122\n",
      "6  0.845219  0.727820  0.324909  0.113739  0.493636  0.932539\n",
      "Mean of  column_1 0.5833277315159191\n",
      "Mean of  column_2 0.4038121350192032\n",
      "Mean of  column_3 0.32071247705069683\n",
      "Mean of  column_4 0.35557275333660104\n",
      "Mean of  column_5 0.4277693243738298\n",
      "Mean of  column_6 0.26380339330812536\n",
      "Standard Deviation of Column, ‘column_2’:  0.35185576717171607\n"
     ]
    }
   ],
   "source": [
    "'''Q4. Write a code to find the following statistical measurements for the above dataframe df1:\n",
    "(i) mean of each and every column present in the dataframe.\n",
    "(ii) standard deviation of column, ‘column_2’'''\n",
    "print(df1)\n",
    "\n",
    "for col_labelled,col_iteams in df1.iteritems():\n",
    "    print('Mean of ',col_labelled,col_iteams.mean())\n",
    "    \n",
    "print('Standard Deviation of Column, ‘column_2’: ',df1.column_2.std())"
   ]
  },
  {
   "cell_type": "code",
   "execution_count": 5,
   "id": "30360fcb",
   "metadata": {},
   "outputs": [
    {
     "name": "stdout",
     "output_type": "stream",
     "text": [
      "   column_1  column_2  column_3  column_4  column_5  column_6\n",
      "1  0.725709  0.006737  0.802225  0.011313  0.249727  0.198795\n",
      "2  0.710104   string2  0.453805  0.306432  0.815716  0.072321\n",
      "3  0.760288  0.038272  0.184659  0.254976  0.760196  0.023499\n",
      "4  0.221524  0.781785  0.010487  0.921076  0.036444  0.318545\n",
      "5  0.237122  0.631666  0.148190  0.525901  0.210897  0.037122\n",
      "6  0.845219   0.72782  0.324909  0.113739  0.493636  0.932539\n"
     ]
    },
    {
     "data": {
      "text/plain": [
       "\"we are getting errors cuz unsupported operand type(s) for +: 'float' and 'str' which means the string literals in row 2 of column_2\\nis not supported statical function mean()\""
      ]
     },
     "execution_count": 5,
     "metadata": {},
     "output_type": "execute_result"
    }
   ],
   "source": [
    "'''Q5. Replace the data present in the second row of column, ‘column_2’ by a string variable then find the\n",
    "mean of column, column_2.\n",
    "If you are getting errors in executing it then explain why.\n",
    "[Hint: To replace the data use df1.loc[] and equate this to string data of your choice.]'''\n",
    "df1.loc[2,'column_2']='string2'\n",
    "print(df1)\n",
    "# print(df1.column_2.mean())\n",
    "'''we are getting errors cuz unsupported operand type(s) for +: 'float' and 'str' which means the string literals in row 2 of column_2\n",
    "is not supported statical function mean()'''"
   ]
  },
  {
   "cell_type": "code",
   "execution_count": 6,
   "id": "82d6c234",
   "metadata": {},
   "outputs": [
    {
     "data": {
      "text/plain": [
       "'\\nAnswer:-\\n\\nThe window functions in Pandas are used to perform some sort of calculations across a set of rows that are interrelated \\nwith the current row.\\n\\nThere are three types of windows functions :-\\n1)Aggregate (Rolling,GroupBy,Expanding)\\n2)Ranking (RowNo,Rank,DenseRank,Percent,N-Tile / qcut)\\n3)Value(Lag / Lead and First / Last/nth.)\\n'"
      ]
     },
     "execution_count": 6,
     "metadata": {},
     "output_type": "execute_result"
    }
   ],
   "source": [
    "'''Q6. What do you understand about the windows function in pandas and list the types of windows functions?'''\n",
    "'''\n",
    "Answer:-\n",
    "\n",
    "The window functions in Pandas are used to perform some sort of calculations across a set of rows that are interrelated \n",
    "with the current row.\n",
    "\n",
    "There are three types of windows functions :-\n",
    "1)Aggregate (Rolling,GroupBy,Expanding)\n",
    "2)Ranking (RowNo,Rank,DenseRank,Percent,N-Tile / qcut)\n",
    "3)Value(Lag / Lead and First / Last/nth.)\n",
    "'''"
   ]
  },
  {
   "cell_type": "code",
   "execution_count": 7,
   "id": "e77f9ef2",
   "metadata": {},
   "outputs": [
    {
     "name": "stdout",
     "output_type": "stream",
     "text": [
      "        date  Month  Year\n",
      "0 2023-10-06     10  2023\n"
     ]
    }
   ],
   "source": [
    "'''Q7. Write a code to print only the current month and year at the time of answering this question.\n",
    "[Hint: Use pandas.datetime function]'''\n",
    "\n",
    "df7=pd.DataFrame(['10-06-2023'],columns=['date'])\n",
    "df7['date']=pd.to_datetime(df7['date'])\n",
    "df7['Month']=df7['date'].dt.month\n",
    "df7['Year']=df7['date'].dt.year\n",
    "print(df7)\n",
    "# help(pd.to_datetime)"
   ]
  },
  {
   "cell_type": "code",
   "execution_count": 8,
   "id": "7d6c4081",
   "metadata": {},
   "outputs": [
    {
     "name": "stdout",
     "output_type": "stream",
     "text": [
      "enter date1 (in the format YYYY-MM-DD): 2011-10-10\n",
      "enter date2 (in the format YYYY-MM-DD): 2023-10-10\n",
      "       date1      date2\n",
      "1 2011-10-10 2023-10-10\n"
     ]
    },
    {
     "data": {
      "text/html": [
       "<div>\n",
       "<style scoped>\n",
       "    .dataframe tbody tr th:only-of-type {\n",
       "        vertical-align: middle;\n",
       "    }\n",
       "\n",
       "    .dataframe tbody tr th {\n",
       "        vertical-align: top;\n",
       "    }\n",
       "\n",
       "    .dataframe thead th {\n",
       "        text-align: right;\n",
       "    }\n",
       "</style>\n",
       "<table border=\"1\" class=\"dataframe\">\n",
       "  <thead>\n",
       "    <tr style=\"text-align: right;\">\n",
       "      <th></th>\n",
       "      <th>date1</th>\n",
       "      <th>date2</th>\n",
       "      <th>Diff_days</th>\n",
       "      <th>Diff_hours</th>\n",
       "      <th>Diff_minutes</th>\n",
       "    </tr>\n",
       "  </thead>\n",
       "  <tbody>\n",
       "    <tr>\n",
       "      <th>1</th>\n",
       "      <td>2011-10-10</td>\n",
       "      <td>2023-10-10</td>\n",
       "      <td>4383 days</td>\n",
       "      <td>105192.0</td>\n",
       "      <td>6311520.0</td>\n",
       "    </tr>\n",
       "  </tbody>\n",
       "</table>\n",
       "</div>"
      ],
      "text/plain": [
       "       date1      date2 Diff_days  Diff_hours  Diff_minutes\n",
       "1 2011-10-10 2023-10-10 4383 days    105192.0     6311520.0"
      ]
     },
     "execution_count": 8,
     "metadata": {},
     "output_type": "execute_result"
    }
   ],
   "source": [
    "'''Q8. Write a Python program that takes in two dates as input (in the format YYYY-MM-DD) and\n",
    "calculates the difference between them in days, hours, and minutes using Pandas time delta. The\n",
    "program should prompt the user to enter the dates and display the result.'''\n",
    "\n",
    "date1=pd.Timestamp(input(\"enter date1 (in the format YYYY-MM-DD): \"))\n",
    "date2=pd.Timestamp(input(\"enter date2 (in the format YYYY-MM-DD): \"))\n",
    "df8=pd.DataFrame({'date1':date1,'date2':date2},index=[1])\n",
    "# df8['date1']=pd.Timestamp(df8['date1'])\n",
    "# df8['date2']=pd.Timestamp(df8['date2'])\n",
    "print(df8)\n",
    "df8['Diff_days']=df8['date2']-df8['date1']\n",
    "df8['Diff_hours']=(df8['date2']-df8['date1'])/pd.Timedelta(hours=1)\n",
    "df8['Diff_minutes']=(df8['date2']-df8['date1'])/pd.Timedelta(minutes=1)\n",
    "\n",
    "\n",
    "\n",
    "df8"
   ]
  },
  {
   "cell_type": "markdown",
   "id": "3754f66d",
   "metadata": {},
   "source": [
    "'''Q9. Write a Python program that reads a CSV file containing categorical data and converts a specified\n",
    "column to a categorical data type. The program should prompt the user to enter the file path, column\n",
    "name, and category order, and then display the sorted data.'''\n"
   ]
  },
  {
   "cell_type": "code",
   "execution_count": 9,
   "id": "9073bfa4",
   "metadata": {},
   "outputs": [
    {
     "name": "stdout",
     "output_type": "stream",
     "text": [
      "Enter the file path (CSV): friends.csv\n",
      "Enter the column name to convert: gender\n",
      "Enter the category order (comma-separated): female,male\n",
      "   Unnamed: 0 name  marks     city  gender\n",
      "1           1  DEF     13  kolkata  female\n",
      "3           3  JKL     13   Mumbai  female\n",
      "0           0  ABC     12    delhi    male\n",
      "2           2  GHI     22     pune    male\n",
      "4           4  MNO     12  ayodhya    male\n"
     ]
    }
   ],
   "source": [
    "import pandas as pd\n",
    "\n",
    "def convert_to_categorical(file_path, column_name, category_order):\n",
    "    # Read CSV file into a DataFrame\n",
    "    df = pd.read_csv(file_path)\n",
    "\n",
    "    # Convert specified column to categorical type with custom category order\n",
    "    df[column_name] = pd.Categorical(df[column_name], categories=category_order, ordered=True)\n",
    "\n",
    "    # Sort the DataFrame based on the specified column\n",
    "    df_sorted = df.sort_values(by=[column_name])\n",
    "\n",
    "    # Display the sorted data\n",
    "    print(df_sorted)\n",
    "\n",
    "if __name__ == \"__main__\":\n",
    "    # Prompt the user to enter file path, column name, and category order\n",
    "    file_path = input(\"Enter the file path (CSV): \")\n",
    "    column_name = input(\"Enter the column name to convert: \")\n",
    "    category_order_str = input(\"Enter the category order (comma-separated): \")\n",
    "\n",
    "    # Convert category order string to a list\n",
    "    category_order = [category.strip() for category in category_order_str.split(',')]\n",
    "\n",
    "    # Call the function\n",
    "    convert_to_categorical(file_path, column_name, category_order)\n"
   ]
  },
  {
   "cell_type": "markdown",
   "id": "a08abe28",
   "metadata": {},
   "source": [
    "'''Q10. Write a Python program that reads a CSV file containing sales data for different products and\n",
    "visualizes the data using a stacked bar chart to show the sales of each product category over time. The\n",
    "program should prompt the user to enter the file path and display the chart.'''"
   ]
  },
  {
   "cell_type": "code",
   "execution_count": 10,
   "id": "3bb663e1",
   "metadata": {},
   "outputs": [
    {
     "data": {
      "text/plain": [
       "<Figure size 1000x600 with 0 Axes>"
      ]
     },
     "metadata": {},
     "output_type": "display_data"
    },
    {
     "data": {
      "image/png": "[encoded data removed]",
      "text/plain": [
       "<Figure size 640x480 with 1 Axes>"
      ]
     },
     "metadata": {},
     "output_type": "display_data"
    }
   ],
   "source": [
    "import pandas as pd\n",
    "import matplotlib.pyplot as plt\n",
    "\n",
    "def visualize_sales_data(file_path):\n",
    "    # Read CSV file into a DataFrame\n",
    "    df = pd.read_csv(file_path)\n",
    "\n",
    "    # Assuming the CSV file has columns like 'Date', 'Product Category', 'Sales'\n",
    "    # Adjust column names accordingly based on your actual data\n",
    "    df['Date'] = pd.to_datetime(df['Date'])\n",
    "\n",
    "    # Pivot the data to create a DataFrame suitable for a stacked bar chart\n",
    "    pivot_df = df.pivot_table(index='Date', columns='Product Category', values='Sales', aggfunc='sum', fill_value=0)\n",
    "\n",
    "    # Create a stacked bar chart\n",
    "    plt.figure(figsize=(10, 6))\n",
    "    pivot_df.plot(kind='bar', stacked=True)\n",
    "    \n",
    "    # Customize the plot\n",
    "    plt.title('Sales Data by Product Category Over Time')\n",
    "    plt.xlabel('Date')\n",
    "    plt.ylabel('Sales')\n",
    "    plt.legend(title='Product Category')\n",
    "    plt.show()\n",
    "\n",
    "if __name__ == \"__main__\":\n",
    "    # Assume the sales_data.csv file is in the same directory as the script\n",
    "    file_path = \"sales_data.csv\"\n",
    "\n",
    "    # Call the function to visualize sales data\n",
    "    visualize_sales_data(file_path)\n"
   ]
  },
  {
   "cell_type": "markdown",
   "id": "cf016bd2",
   "metadata": {},
   "source": [
    "'''\n",
    "Q11. You are given a CSV file containing student data that includes the student ID and their test score. Write\n",
    "a Python program that reads the CSV file, calculates the mean, median, and mode of the test scores, and\n",
    "displays the results in a table.\n",
    "The program should do the following:---\n",
    "-> Prompt the user to enter the file path of the CSV file containing the student data\n",
    "-> Read the CSV file into a Pandas DataFrame\n",
    "-> Calculate the mean, median, and mode of the test scores using Pandas tools\n",
    "-> Display the mean, median, and mode in a table.\n",
    "\n",
    "Assume the CSV file contains the following columns\n",
    "-> Student ID: The ID of the student\n",
    "-> Test Score: The score of the student's test.\n",
    "\n",
    "Example usage of the program:\n",
    "Enter the file path of the CSV file containing the student data: student_data.csv\n",
    "+-----------+--------+\n",
    "| Statistic | Value |\n",
    "+-----------+--------+\n",
    "| Mean | 79.6 |\n",
    "| Median | 82 |\n",
    "| Mode | 85, 90 |\n",
    "+-----------+--------+\n",
    "Assume that the CSV file student_data.csv contains the following data:\n",
    "Student ID,Test Score\n",
    "1,85\n",
    "2,90\n",
    "3,80\n",
    "4,75\n",
    "5,85\n",
    "6,82\n",
    "7,78\n",
    "8,85\n",
    "9,90\n",
    "10,85\n",
    "The program should calculate the mean, median, and mode of the test scores and display the results\n",
    "in a table.'''"
   ]
  },
  {
   "cell_type": "code",
   "execution_count": 12,
   "id": "dfa5d7ad",
   "metadata": {},
   "outputs": [
    {
     "name": "stdout",
     "output_type": "stream",
     "text": [
      "Enter the file path of the CSV file containing the student data: student_data.csv \n"
     ]
    },
    {
     "data": {
      "text/html": [
       "<div>\n",
       "<style scoped>\n",
       "    .dataframe tbody tr th:only-of-type {\n",
       "        vertical-align: middle;\n",
       "    }\n",
       "\n",
       "    .dataframe tbody tr th {\n",
       "        vertical-align: top;\n",
       "    }\n",
       "\n",
       "    .dataframe thead th {\n",
       "        text-align: right;\n",
       "    }\n",
       "</style>\n",
       "<table border=\"1\" class=\"dataframe\">\n",
       "  <thead>\n",
       "    <tr style=\"text-align: right;\">\n",
       "      <th></th>\n",
       "      <th>Statistic</th>\n",
       "      <th>Value</th>\n",
       "    </tr>\n",
       "  </thead>\n",
       "  <tbody>\n",
       "    <tr>\n",
       "      <th>0</th>\n",
       "      <td>Mean</td>\n",
       "      <td>83.5</td>\n",
       "    </tr>\n",
       "    <tr>\n",
       "      <th>1</th>\n",
       "      <td>Median</td>\n",
       "      <td>85</td>\n",
       "    </tr>\n",
       "    <tr>\n",
       "      <th>2</th>\n",
       "      <td>Mode</td>\n",
       "      <td>85</td>\n",
       "    </tr>\n",
       "  </tbody>\n",
       "</table>\n",
       "</div>"
      ],
      "text/plain": [
       "  Statistic Value\n",
       "0      Mean  83.5\n",
       "1    Median    85\n",
       "2      Mode    85"
      ]
     },
     "execution_count": 12,
     "metadata": {},
     "output_type": "execute_result"
    }
   ],
   "source": [
    "import pandas as pd\n",
    "file_path = input(\"Enter the file path of the CSV file containing the student data: \")\n",
    "df = pd.read_csv(file_path)\n",
    "\n",
    "# Calculate mean, median, and mode\n",
    "mean = df['Test Score'].mean()\n",
    "median = df['Test Score'].median()\n",
    "mode =df['Test Score']. mode()\n",
    "data = {\n",
    "        'Statistic': ['Mean', 'Median', 'Mode'],\n",
    "        'Value': [mean, int(median), ', '.join(map(str, mode))]\n",
    "    }\n",
    "df = pd.DataFrame(data)\n",
    "df"
   ]
  },
  {
   "cell_type": "code",
   "execution_count": null,
   "id": "994bff15",
   "metadata": {},
   "outputs": [],
   "source": []
  }
 ],
 "metadata": {
  "kernelspec": {
   "display_name": "Python 3 (ipykernel)",
   "language": "python",
   "name": "python3"
  },
  "language_info": {
   "codemirror_mode": {
    "name": "ipython",
    "version": 3
   },
   "file_extension": ".py",
   "mimetype": "text/x-python",
   "name": "python",
   "nbconvert_exporter": "python",
   "pygments_lexer": "ipython3",
   "version": "3.9.2"
  }
 },
 "nbformat": 4,
 "nbformat_minor": 5
}
