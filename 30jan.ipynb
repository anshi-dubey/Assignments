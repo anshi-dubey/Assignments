{
 "cells": [
  {
   "cell_type": "markdown",
   "id": "b0b7f0bb",
   "metadata": {},
   "source": [
    "1. Write a program to accept percentage from the user and display the grade according to the following criteria:"
   ]
  },
  {
   "cell_type": "code",
   "execution_count": 1,
   "id": "2bae3e40",
   "metadata": {},
   "outputs": [
    {
     "name": "stdout",
     "output_type": "stream",
     "text": [
      "Enter Your Percentage To Know Your Grade: 78\n",
      "C\n"
     ]
    }
   ],
   "source": [
    "percent=int(input(\"Enter Your Percentage To Know Your Grade: \"))\n",
    "if percent>90:\n",
    "    print(\"A\")\n",
    "elif percent>80 and percent<=90:\n",
    "        print(\"B\")\n",
    "elif percent>60 and percent<=80:\n",
    "        print(\"C\")\n",
    "elif percent<60:\n",
    "        print(\"D\")"
   ]
  },
  {
   "cell_type": "markdown",
   "id": "d178c4e2",
   "metadata": {},
   "source": [
    "2. Write a program to accept the cost price of a bike and display the road tax to be paid according to the following criteria:"
   ]
  },
  {
   "cell_type": "code",
   "execution_count": 2,
   "id": "59ad0d5b",
   "metadata": {},
   "outputs": [
    {
     "name": "stdout",
     "output_type": "stream",
     "text": [
      "Enter Cost Prize Of Your Bike :46377\n",
      "Road tax to be paid is 5%\n"
     ]
    }
   ],
   "source": [
    "prize_of_bike=int(input(\"Enter Cost Prize Of Your Bike :\"))\n",
    "if prize_of_bike>100000:\n",
    "    print(\"Road tax to be paid is 15%\")\n",
    "elif prize_of_bike>50000 and prize_of_bike<=100000:\n",
    "    print(\"Road tax to be paid is 10%\")\n",
    "elif prize_of_bike<=50000:\n",
    "    print(\"Road tax to be paid is 5%\")"
   ]
  },
  {
   "cell_type": "markdown",
   "id": "f9d07f59",
   "metadata": {},
   "source": [
    "3. Accept any city from the user and display monuments of that city."
   ]
  },
  {
   "cell_type": "code",
   "execution_count": 3,
   "id": "cdb70d75",
   "metadata": {},
   "outputs": [
    {
     "name": "stdout",
     "output_type": "stream",
     "text": [
      "Enter Your City :delhi\n",
      "Red Fort\n"
     ]
    }
   ],
   "source": [
    "city=input(\"Enter Your City :\").lower()\n",
    "if city=='delhi':\n",
    "    print('Red Fort')\n",
    "elif city=='agra':\n",
    "    print('Taj Mahal')\n",
    "elif city=='jaipur':\n",
    "    print('Jal Mahal')"
   ]
  },
  {
   "cell_type": "markdown",
   "id": "8cd6b6de",
   "metadata": {},
   "source": [
    "4. Check how many times a given number can be divided by 3 before it is less than or equal to 10."
   ]
  },
  {
   "cell_type": "code",
   "execution_count": 4,
   "id": "cc82889f",
   "metadata": {},
   "outputs": [
    {
     "name": "stdout",
     "output_type": "stream",
     "text": [
      "ENTER NUMBER: 45\n",
      "2\n"
     ]
    }
   ],
   "source": [
    "num=int(input(\"ENTER NUMBER: \"))\n",
    "count=0\n",
    "while num>0:\n",
    "    num=num/3\n",
    "    count+=1\n",
    "    if num<=10:\n",
    "        break\n",
    "print(count)"
   ]
  },
  {
   "cell_type": "markdown",
   "id": "f07733d8",
   "metadata": {},
   "source": [
    "5. Why and When to Use while Loop in Python give a detailed description with example"
   ]
  },
  {
   "cell_type": "code",
   "execution_count": 7,
   "id": "1a8c1139",
   "metadata": {},
   "outputs": [
    {
     "name": "stdout",
     "output_type": "stream",
     "text": [
      "6\n",
      "5\n",
      "4\n",
      "3\n",
      "2\n",
      "1\n"
     ]
    }
   ],
   "source": [
    "'''Sol: we use while loop to execute a block of statements repeatedly until a given condition is satisfied\n",
    "We use while loop in following cases\n",
    "→ When we have to create an infinite iteration.\n",
    "→ When we have to iterate over a condition.\n",
    " Example: '''\n",
    "n=6\n",
    "while n>0:\n",
    "\tprint(n)\n",
    "\tn=n-1\n"
   ]
  },
  {
   "cell_type": "markdown",
   "id": "58a7b3bf",
   "metadata": {},
   "source": [
    "6. Use nested while loop to print 3 different pattern."
   ]
  },
  {
   "cell_type": "code",
   "execution_count": 8,
   "id": "a34c194a",
   "metadata": {},
   "outputs": [
    {
     "name": "stdout",
     "output_type": "stream",
     "text": [
      "\n",
      "patter1\n",
      "Enter number of rows : 4\n",
      "* \n",
      "* * \n",
      "* * * \n",
      "* * * * \n",
      "\n",
      "patter2\n",
      "* * * * \n",
      "* * * \n",
      "* * \n",
      "* \n",
      "\n",
      "patter3\n",
      "* \n",
      "* * \n",
      "* * * \n",
      "* * * * \n",
      "* * * * \n",
      "* * * \n",
      "* * \n",
      "* \n"
     ]
    }
   ],
   "source": [
    "print(\"\\npatter1\")\n",
    "n = int(input('Enter number of rows : '))\n",
    "\n",
    "\n",
    "i = 1\n",
    "while i <= n :\n",
    "    j = 1\n",
    "    while j <= i:\n",
    "        print(\"*\", end = \" \")\n",
    "        j += 1\n",
    "    print()\n",
    "    i += 1\n",
    "\n",
    "\n",
    "# pattern2\n",
    "print(\"\\npatter2\")\n",
    "p = 1\n",
    "while p <= n :\n",
    "    q = n\n",
    "    while q >= p:\n",
    "        print(\"*\", end = \" \")\n",
    "        q -= 1\n",
    "    print()\n",
    "    p += 1\n",
    "\n",
    "\n",
    "# patter3\n",
    "print(\"\\npatter3\")\n",
    "i = 1\n",
    "while i <= n :\n",
    "    j = 1\n",
    "    while j <= i:\n",
    "        print(\"*\", end = \" \")\n",
    "        j += 1\n",
    "    print()\n",
    "    i += 1\n",
    "p = 1\n",
    "while p <= n :\n",
    "    q = n\n",
    "    while q >= p:\n",
    "        print(\"*\", end = \" \")\n",
    "        q -= 1\n",
    "    print()\n",
    "    p += 1"
   ]
  },
  {
   "cell_type": "markdown",
   "id": "00c77a61",
   "metadata": {},
   "source": [
    "7. Reverse a while loop to display numbers from 10 to 1."
   ]
  },
  {
   "cell_type": "code",
   "execution_count": 9,
   "id": "7d16e333",
   "metadata": {},
   "outputs": [
    {
     "name": "stdout",
     "output_type": "stream",
     "text": [
      "10\n",
      "9\n",
      "8\n",
      "7\n",
      "6\n",
      "5\n",
      "4\n",
      "3\n",
      "2\n",
      "1\n"
     ]
    }
   ],
   "source": [
    "num=10\n",
    "while num>0:\n",
    "    print(num)\n",
    "    num=num-1"
   ]
  },
  {
   "cell_type": "raw",
   "id": "51d5e812",
   "metadata": {},
   "source": [
    "8. Reverse a for loop to display numbers from 10 to 1"
   ]
  },
  {
   "cell_type": "code",
   "execution_count": 10,
   "id": "76356693",
   "metadata": {},
   "outputs": [
    {
     "name": "stdout",
     "output_type": "stream",
     "text": [
      "10\n",
      "9\n",
      "8\n",
      "7\n",
      "6\n",
      "5\n",
      "4\n",
      "3\n",
      "2\n",
      "1\n"
     ]
    }
   ],
   "source": [
    "for i in range(10,0,-1):\n",
    "    print(i)\n"
   ]
  },
  {
   "cell_type": "code",
   "execution_count": null,
   "id": "f58cef58",
   "metadata": {},
   "outputs": [],
   "source": []
  }
 ],
 "metadata": {
  "kernelspec": {
   "display_name": "Python 3 (ipykernel)",
   "language": "python",
   "name": "python3"
  },
  "language_info": {
   "codemirror_mode": {
    "name": "ipython",
    "version": 3
   },
   "file_extension": ".py",
   "mimetype": "text/x-python",
   "name": "python",
   "nbconvert_exporter": "python",
   "pygments_lexer": "ipython3",
   "version": "3.9.2"
  }
 },
 "nbformat": 4,
 "nbformat_minor": 5
}
