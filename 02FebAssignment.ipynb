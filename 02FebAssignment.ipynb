{
 "cells": [
  {
   "cell_type": "markdown",
   "id": "10c13af4",
   "metadata": {},
   "source": [
    "# q1 Explain with an example each when to use a for loop and a while loop.\n"
   ]
  },
  {
   "cell_type": "code",
   "execution_count": null,
   "id": "b5e99e7a",
   "metadata": {},
   "outputs": [],
   "source": [
    "# We use while loop, where we have to iterate over a specific condition and if given condition is true then continue the loop else break\n",
    "#eg square root of all numbers which is less than user input number\n",
    "num=int(input(\"enter number: \"))\n",
    "while num>0:\n",
    "    print(num*num)\n",
    "    num=num-1\n"
   ]
  },
  {
   "cell_type": "code",
   "execution_count": null,
   "id": "e72185af",
   "metadata": {},
   "outputs": [],
   "source": [
    "# We use for loop, when we know the number of iteration to be done. eg table of a number\n",
    "num1=int(input(\"ENTER: \"))\n",
    "for i in range(1,11):\n",
    "    print(num1*i)\n"
   ]
  },
  {
   "cell_type": "markdown",
   "id": "199b48f7",
   "metadata": {},
   "source": [
    "# q2 WAP to print the sum and product of the first 10 natural numbers using for and while loop."
   ]
  },
  {
   "cell_type": "code",
   "execution_count": 3,
   "id": "44247384",
   "metadata": {},
   "outputs": [
    {
     "name": "stdout",
     "output_type": "stream",
     "text": [
      "ENTER NUMBER FOR SUM WITH FIRST 10 NATURAL NUMBER : 10\n",
      "Sum of first 10 natural number using for loop  55\n",
      "Sum of first 10 natural number using while loop  55\n",
      "ENTER NUMBER FOR PRODUCT WITH FIRST 10 NATURAL NUMBER : 10\n",
      "Sum of first 10 natural number using for loop:  3628800\n",
      "Sum of first 10 natural number using while loop:  3628800\n"
     ]
    }
   ],
   "source": [
    "#sum of the first 10 natural number using for loop\n",
    "num1=int(input(\"ENTER NUMBER FOR SUM WITH FIRST 10 NATURAL NUMBER : \"))\n",
    "f_sum=0\n",
    "for i in range(11):\n",
    "         f_sum=f_sum+i\n",
    "print(\"Sum of first 10 natural number using for loop \",f_sum)\n",
    "#sum of the first 10 natural number using while loop         \n",
    "j=1\n",
    "w_sum=0\n",
    "while j<=num1:\n",
    "         w_sum=w_sum+j\n",
    "         j+=1\n",
    "print(\"Sum of first 10 natural number using while loop \",w_sum)\n",
    "         \n",
    "#product of the first 10 natural number using for loop        \n",
    "num2=int(input(\"ENTER NUMBER FOR PRODUCT WITH FIRST 10 NATURAL NUMBER : \"))\n",
    "f_product=1\n",
    "for k in range(1,11):\n",
    "         f_product=f_product*k\n",
    "print(\"Sum of first 10 natural number using for loop: \",f_product) \n",
    "\n",
    "#product of the first 10 natural number using while loop        \n",
    "l=1\n",
    "w_product1=1\n",
    "while l<=num2:\n",
    "         w_product1=w_product1*l\n",
    "         l+=1\n",
    "print(\"Sum of first 10 natural number using while loop: \",w_product1)\n",
    "\n",
    "         "
   ]
  },
  {
   "cell_type": "markdown",
   "id": "4251e6bc",
   "metadata": {},
   "source": [
    "# '''\n",
    "Q3. WAP to compute the electricity bill for a household.\n",
    "The per-unit charges in rupees are as follows: For the first 100 units, the user will be charged Rs. 4.5 per \n",
    "unit, for the next 100 units, the user will be charged Rs. 6 per unit, and for the next 100 units, the user will \n",
    "be charged Rs. 10 per unit, After 300 units and above the user will be charged Rs. 20 per unit\n",
    "You are required to take the units of electricity consumed in a month from the user as input.\n",
    "Your program must pass this test case: when the unit of electricity consumed by the user in a month is \n",
    "310, the total electricity bill should be 2250 \n",
    "'''"
   ]
  },
  {
   "cell_type": "code",
   "execution_count": 8,
   "id": "cc4bcefb",
   "metadata": {},
   "outputs": [
    {
     "name": "stdout",
     "output_type": "stream",
     "text": [
      "ENTER UNIT: 310\n",
      "2250.0\n"
     ]
    }
   ],
   "source": [
    "unit=int(input(\"ENTER UNIT: \"))\n",
    "if unit<=100:\n",
    "    bill= 4.5 * unit\n",
    "    print(bill)\n",
    "elif unit<=200:\n",
    "    bill= (100*4.5) + (unit-100)*6\n",
    "    print(bill)\n",
    "elif unit <= 300:\n",
    "    bill= (100*4.5) + (100*6) + (unit-200)*10\n",
    "    print(bill)\n",
    "elif unit>300:\n",
    "    bill= (100*4.5) + (100*6) + (100*10)+(unit-300)*20\n",
    "    print(bill)\n",
    "else:\n",
    "    print(\"ENTER VALID INPUT\")\n"
   ]
  },
  {
   "cell_type": "markdown",
   "id": "e91368d3",
   "metadata": {},
   "source": [
    "# ''' \n",
    "Q4. Create a list of numbers from 1 to 100. Use for loop and while loop to calculate the cube of each \n",
    "number and if the cube of that number is divisible by 4 or 5 then append that number in a list and print \n",
    "that list\n",
    "'''"
   ]
  },
  {
   "cell_type": "code",
   "execution_count": 1,
   "id": "02b2af50",
   "metadata": {},
   "outputs": [
    {
     "name": "stdout",
     "output_type": "stream",
     "text": [
      "[8, 64, 125, 216, 512, 1000, 1728, 2744, 3375, 4096, 5832, 8000, 10648, 13824, 15625, 17576, 21952, 27000, 32768, 39304, 42875, 46656, 54872, 64000, 74088, 85184, 91125, 97336, 110592, 125000, 140608, 157464, 166375, 175616, 195112, 216000, 238328, 262144, 274625, 287496, 314432, 343000, 373248, 405224, 421875, 438976, 474552, 512000, 551368, 592704, 614125, 636056, 681472, 729000, 778688, 830584, 857375, 884736, 941192, 1000000]\n"
     ]
    }
   ],
   "source": [
    "givenList = [i for i in range(1,101)]\n",
    "cube=[i*i*i for i in givenList]\n",
    "print([j for j in cube if j%4==0 or j%5==0])"
   ]
  },
  {
   "cell_type": "markdown",
   "id": "1b87a21f",
   "metadata": {},
   "source": [
    "'''\n",
    "Q5.  WAP to filter count vowels in the below-given string.\n",
    " \n",
    "string = \"I want to become a data scientist\"\n",
    "\n",
    "'''"
   ]
  },
  {
   "cell_type": "code",
   "execution_count": 4,
   "id": "b62d1d5d",
   "metadata": {},
   "outputs": [
    {
     "name": "stdout",
     "output_type": "stream",
     "text": [
      "the number of vowels in sample string is:  12\n"
     ]
    }
   ],
   "source": [
    "string = \"I want to become a data scientist\"\n",
    "testStr=string.lower()\n",
    "vowel=['a','i','e','o','u']\n",
    "result=[i for i in testStr if i in vowel]\n",
    "print(\"the number of vowels in sample string is: \",len(result))"
   ]
  }
 ],
 "metadata": {
  "kernelspec": {
   "display_name": "Python 3 (ipykernel)",
   "language": "python",
   "name": "python3"
  },
  "language_info": {
   "codemirror_mode": {
    "name": "ipython",
    "version": 3
   },
   "file_extension": ".py",
   "mimetype": "text/x-python",
   "name": "python",
   "nbconvert_exporter": "python",
   "pygments_lexer": "ipython3",
   "version": "3.9.2"
  },
  "vscode": {
   "interpreter": {
    "hash": "2d8619c1739e816b8bc4d60e5f2801ecdaa1abe2906234ef0712c2f8e574fbfe"
   }
  }
 },
 "nbformat": 4,
 "nbformat_minor": 5
}
