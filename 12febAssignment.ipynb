{
 "cells": [
  {
   "cell_type": "markdown",
   "id": "8c2c96bc",
   "metadata": {},
   "source": [
    "Q1. What is in Exception in python? Write the difference between Exceptions and syntax errors"
   ]
  },
  {
   "cell_type": "code",
   "execution_count": 1,
   "id": "57b4a558",
   "metadata": {},
   "outputs": [
    {
     "data": {
      "text/plain": [
       "'Errors are the problems in a program due to which the program will stop \\nthe execution. Exceptions are raised when some internal events occur which\\nchanges the normal flow of the program\\nExceptions are logical errors in the program or errors in implementation of\\nlogic and When the proper syntax or rules of the language is not followed then a syntax\\nerror is thrown.'"
      ]
     },
     "execution_count": 1,
     "metadata": {},
     "output_type": "execute_result"
    }
   ],
   "source": [
    "'''Errors are the problems in a program due to which the program will stop \n",
    "the execution. Exceptions are raised when some internal events occur which\n",
    "changes the normal flow of the program\n",
    "Exceptions are logical errors in the program or errors in implementation of\n",
    "logic and When the proper syntax or rules of the language is not followed then a syntax\n",
    "error is thrown.'''"
   ]
  },
  {
   "cell_type": "markdown",
   "id": "cec96d59",
   "metadata": {},
   "source": [
    "Q2. What happens when an exception is not handled? Explain with an example"
   ]
  },
  {
   "cell_type": "code",
   "execution_count": 2,
   "id": "e048df82",
   "metadata": {},
   "outputs": [
    {
     "data": {
      "text/plain": [
       "\"When an exception occurred, if you don't handle it, the program terminates abruptly and\\nthe code past the line that caused the exception will not get executed or may alter the flow of programs\\nexample : accesssing a index out of range\\na=[1,2,3]\\na[6]\\n    \""
      ]
     },
     "execution_count": 2,
     "metadata": {},
     "output_type": "execute_result"
    }
   ],
   "source": [
    "'''When an exception occurred, if you don't handle it, the program terminates abruptly and\n",
    "the code past the line that caused the exception will not get executed or may alter the flow of programs\n",
    "example : accesssing a index out of range\n",
    "a=[1,2,3]\n",
    "a[6]\n",
    "    '''"
   ]
  },
  {
   "cell_type": "markdown",
   "id": "7d5229c7",
   "metadata": {},
   "source": [
    "Q3. Which Python statements are used to catch and handle exceptions? Explain with an example"
   ]
  },
  {
   "cell_type": "code",
   "execution_count": 3,
   "id": "93ad2c54",
   "metadata": {},
   "outputs": [
    {
     "name": "stdout",
     "output_type": "stream",
     "text": [
      "Error: Denominator cannot be 0.\n"
     ]
    }
   ],
   "source": [
    "'''to handle a exceptions we have to put the statement(the code that may raise error/exceptions ) in try and except block,Now when an\n",
    "exception occurs, the rest of the code inside the try block is skipped.The except block catches the exception and statements\n",
    "inside the except block are executed.'''\n",
    "try:\n",
    "    numerator = 10\n",
    "    denominator = 0\n",
    "\n",
    "    result = numerator/denominator\n",
    "\n",
    "    print(result)\n",
    "except:\n",
    "    print(\"Error: Denominator cannot be 0.\")\n",
    "\n",
    "# Output: Error: Denominator cannot be 0."
   ]
  },
  {
   "cell_type": "markdown",
   "id": "07a90dfe",
   "metadata": {},
   "source": [
    "Q4. Explain with an example:#\n",
    "try and else\n",
    "finally\n",
    "raise\n",
    "\n",
    "\n"
   ]
  },
  {
   "cell_type": "code",
   "execution_count": 17,
   "id": "3e367f6b",
   "metadata": {},
   "outputs": [
    {
     "name": "stdout",
     "output_type": "stream",
     "text": [
      "Error occurred, float division by zero\n",
      "proceed further\n"
     ]
    },
    {
     "ename": "Exception",
     "evalue": "Sorry, no numbers below zero",
     "output_type": "error",
     "traceback": [
      "\u001b[1;31m---------------------------------------------------------------------------\u001b[0m",
      "\u001b[1;31mException\u001b[0m                                 Traceback (most recent call last)",
      "Cell \u001b[1;32mIn [17], line 24\u001b[0m\n\u001b[0;32m     21\u001b[0m x \u001b[38;5;241m=\u001b[39m \u001b[38;5;241m-\u001b[39m\u001b[38;5;241m1\u001b[39m\n\u001b[0;32m     23\u001b[0m \u001b[38;5;28;01mif\u001b[39;00m x \u001b[38;5;241m<\u001b[39m \u001b[38;5;241m0\u001b[39m:\n\u001b[1;32m---> 24\u001b[0m     \u001b[38;5;28;01mraise\u001b[39;00m \u001b[38;5;167;01mException\u001b[39;00m(\u001b[38;5;124m\"\u001b[39m\u001b[38;5;124mSorry, no numbers below zero\u001b[39m\u001b[38;5;124m\"\u001b[39m)\n",
      "\u001b[1;31mException\u001b[0m: Sorry, no numbers below zero"
     ]
    }
   ],
   "source": [
    "'''\n",
    "Try: The code inside TRY block will test the excepted error to occur.\n",
    "Except: The Except block contain the codes or statement when the Expected Error get raise. Here you can handle the error.\n",
    "Else: If there is no exception arised in the code or statement inside TRY block then this block will be executed.\n",
    "Finally: The code or statement Finally block always gets executed either exception is generated or not.\n",
    "Raise : To throw (or raise) an exception, use the raise keyword.\n",
    "'''\n",
    "a=-5.5\n",
    "b=0\n",
    "try:\n",
    "    print(a/b)\n",
    "#     raise\n",
    "except Exception as e:\n",
    "    print(\"Error occurred,\",e)\n",
    "    \n",
    "else:\n",
    "    print('yahooo! no error occurred')\n",
    "finally:\n",
    "    print('proceed further')\n",
    "    \n",
    "x = -1\n",
    "\n",
    "if x < 0:\n",
    "    raise Exception(\"Sorry, no numbers below zero\")    \n",
    "  "
   ]
  },
  {
   "cell_type": "markdown",
   "id": "e49a83ce",
   "metadata": {},
   "source": [
    "Q5. What are Custom Exceptions in python? Why do we need Custom Exceptions? Explain with an example"
   ]
  },
  {
   "cell_type": "code",
   "execution_count": 19,
   "id": "a4eb9640",
   "metadata": {},
   "outputs": [
    {
     "name": "stdout",
     "output_type": "stream",
     "text": [
      "Enter a number: 12\n",
      "Exception occurred: Invalid Age\n"
     ]
    }
   ],
   "source": [
    "'''In Python, we can define custom exceptions by creating a new class that is derived from the built-in Exception class'''\n",
    "# define Python user-defined exceptions\n",
    "class InvalidAgeException(Exception):\n",
    "    \"Raised when the input value is less than 18\"\n",
    "    pass\n",
    "\n",
    "# you need to guess this number\n",
    "number = 18\n",
    "\n",
    "try:\n",
    "    input_num = int(input(\"Enter a number: \"))\n",
    "    if input_num < number:\n",
    "        raise InvalidAgeException\n",
    "    else:\n",
    "        print(\"Eligible to Vote\")\n",
    "        \n",
    "except InvalidAgeException:\n",
    "    print(\"Exception occurred: Invalid Age\")\n"
   ]
  },
  {
   "cell_type": "markdown",
   "id": "7c92ca45",
   "metadata": {},
   "source": [
    "Q6. Create a custom exception class. Use this class to handle an exception."
   ]
  },
  {
   "cell_type": "code",
   "execution_count": null,
   "id": "347a0602",
   "metadata": {},
   "outputs": [],
   "source": [
    "class InvalidAgeException(Exception):\n",
    "    \"Raised when the input value is less than 18\"\n",
    "    pass\n",
    "\n",
    "# you need to guess this number\n",
    "number = 18\n",
    "\n",
    "try:\n",
    "    input_num = int(input(\"Enter a number: \"))\n",
    "    if input_num < number:\n",
    "        raise InvalidAgeException\n",
    "    else:\n",
    "        print(\"Eligible to Vote\")\n",
    "        \n",
    "except InvalidAgeException:\n",
    "    print(\"Exception occurred: Invalid Age\")\n"
   ]
  }
 ],
 "metadata": {
  "kernelspec": {
   "display_name": "Python 3 (ipykernel)",
   "language": "python",
   "name": "python3"
  },
  "language_info": {
   "codemirror_mode": {
    "name": "ipython",
    "version": 3
   },
   "file_extension": ".py",
   "mimetype": "text/x-python",
   "name": "python",
   "nbconvert_exporter": "python",
   "pygments_lexer": "ipython3",
   "version": "3.9.2"
  }
 },
 "nbformat": 4,
 "nbformat_minor": 5
}
