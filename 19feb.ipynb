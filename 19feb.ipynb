{
 "cells": [
  {
   "cell_type": "markdown",
   "id": "a0ddd4f8-7427-47a7-8a94-04e869fbd84e",
   "metadata": {},
   "source": [
    "# POINT TO BE NOTED:"
   ]
  },
  {
   "cell_type": "markdown",
   "id": "d4c183a4-9770-4ee6-8277-f43826b2026f",
   "metadata": {},
   "source": [
    "# 1) install pip virtualenv in cmd or terminal using syntax:\n",
    "        #  pip install virtualenv\n",
    "\n",
    "# 2) create a virtual environment in the terminal using the syntax:\n",
    "        #  virtualenv env_name\n",
    "        # actiave the created virtual environment in cmd or terminal using the syntax:\n",
    "        # .\\env_name\\Scripts\\activate.ps1\n",
    "\n",
    "# 3) install the flask module in the created environment ie env_name in cmd or terminal using the syntax:\n",
    "        # pip install flask\n",
    "\n",
    "# 4) now, convert .ipynb into .py using the syntax: \n",
    "        # jupyter nbconvert --to script 19feb.ipynb \n",
    "\n",
    "# 5) run the programs given below in the terminal in the created virtual environment 'env_name' by using the syntax:\n",
    "        # python .\\19feb.py\n"
   ]
  },
  {
   "cell_type": "markdown",
   "id": "6a06f277",
   "metadata": {},
   "source": [
    "Q1. What is Flask Framework? What are the advantages of Flask Framework?\n",
    "ans:\n",
    "Flask is a lightweight and flexible web framework for Python. It is designed to be simple and easy to use, providing the essentials for building web applications without imposing too much structure or complexity. Flask follows the WSGI (Web Server Gateway Interface) standard and is often used with the Werkzeug WSGI toolkit.\n",
    "\n",
    "Advantages of Flask Framework:\n",
    "\n",
    "1) Simplicity:\n",
    "Flask is known for its simplicity. It comes with a small core and relies on extensions for added functionality. This simplicity makes it easy for developers to understand and work with, especially for small to medium-sized projects.\n",
    "\n",
    "2) Flexibility:\n",
    "Flask doesn't enforce a specific way of doing things, allowing developers to choose the tools and libraries they prefer. This flexibility is beneficial for customizing the development process based on project requirements.\n",
    "\n",
    "3) Lightweight:\n",
    "Being a micro-framework, Flask is lightweight and doesn't come with unnecessary components. This makes it fast and efficient, particularly for small to medium-sized applications.\n",
    "\n",
    "4) Modularity:\n",
    "Flask is designed with a modular structure, allowing developers to choose and use only the components they need. This modularity promotes code organization and makes it easier to maintain and scale applications.\n",
    "\n",
    "5) Extensibility:\n",
    "Flask can be easily extended using various extensions for tasks such as database integration, authentication, and more. These extensions provide additional features without bloating the core framework.\n",
    "\n",
    "6) Built-in Development Server:\n",
    "Flask comes with a built-in development server, making it easy to test and debug applications during the development process. While it's not recommended for production use, it's convenient for local development.\n",
    "\n",
    "7) Community and Documentation:\n",
    "Flask has a large and active community, which means there are plenty of resources, tutorials, and third-party extensions available. The well-maintained documentation is also a significant advantage for developers.\n",
    "\n",
    "8) Jinja2 Templating:\n",
    "Flask uses the Jinja2 template engine, which provides a powerful and expressive way to define templates. This separation of logic and presentation makes it easier to manage and maintain the codebase.\n",
    "\n",
    "9) RESTful Request Dispatching:\n",
    "Flask provides built-in support for RESTful request dispatching, making it easier to create RESTful APIs. This is beneficial when building web services or applications with a client-server architecture.\n",
    "\n",
    "10) Ease of Learning:\n",
    "Flask's simplicity makes it accessible to developers, including beginners. The learning curve is relatively shallow, allowing developers to get started quickly and gradually explore more advanced features as needed.\n"
   ]
  },
  {
   "cell_type": "markdown",
   "id": "e0e78754",
   "metadata": {},
   "source": [
    "Q2. Create a simple Flask application to display ‘Hello World!!’. Attach the screenshot of the output in\n",
    "Jupyter Notebook."
   ]
  },
  {
   "cell_type": "code",
   "execution_count": null,
   "id": "9f369454-3ebc-44f2-b2db-9f8837501089",
   "metadata": {},
   "outputs": [],
   "source": [
    "\n",
    "from flask import Flask\n",
    "app=Flask(__name__)\n",
    "@app.route('/')\n",
    "def hello():\n",
    "    return \"Hello World!!\"\n",
    "if __name__ == '__main__':\n",
    "    app.run(debug=True)\n"
   ]
  },
  {
   "cell_type": "markdown",
   "id": "246d1ea3",
   "metadata": {},
   "source": []
  },
  {
   "cell_type": "markdown",
   "id": "7a8ae1e9",
   "metadata": {},
   "source": [
    "Q3. What is App routing in Flask? Why do we use app routes?\n",
    "ans:\n",
    "App routing in Flask refers to the process of mapping URLs (Uniform Resource Locators) to specific functions in the Flask application. It is a fundamental concept that allows developers to define how the application responds to different HTTP requests at various endpoints.\n",
    "In Flask, routing is achieved using the @app.route decorator, which associates a function with a specific URL pattern. When a user makes a request to a particular URL, Flask uses the associated function to generate the response.\n",
    "\n",
    "we use App Routes:----\n",
    "1) Organizing Code:\n",
    "App routing helps in organizing the code by allowing developers to separate different functionalities into distinct functions or views. Each route corresponds to a specific feature or page of the application.\n",
    "\n",
    "2) Endpoint Handling:\n",
    "Different routes serve as endpoints for handling specific types of requests. For example, a route might handle GET requests for displaying information, while another route might handle POST requests for submitting data.\n",
    "\n",
    "3) Clean and Readable Code:\n",
    "By using app routes, code becomes cleaner and more readable. Each route function is responsible for a specific task, making it easier to understand and maintain the codebase.\n",
    "\n",
    "4) URL Structure:\n",
    "App routes allow developers to define a logical and intuitive URL structure for their applications. This structure makes it clear how different parts of the application are accessed through the web.\n",
    "\n",
    "5) Scalability:\n",
    "As applications grow, app routing becomes essential for managing the increasing complexity. It provides a scalable way to handle different features and functionalities without creating a monolithic code structure.\n",
    "\n",
    "6) RESTful APIs:\n",
    "In the case of building RESTful APIs, app routing is crucial for defining different endpoints that correspond to various CRUD (Create, Read, Update, Delete) operations.\n",
    "\n",
    "Overall, app routing is a key aspect of building web applications with Flask, allowing developers to create well-organized, modular, and maintainable code."
   ]
  },
  {
   "cell_type": "markdown",
   "id": "50908ce8",
   "metadata": {},
   "source": [
    "Q4. Create a “/welcome” route to display the welcome message “Welcome to ABC Corporation” and a “/”\n",
    "route to show the following details:\n",
    "Company Name: ABC Corporation\n",
    "Location: India\n",
    "Contact Detail: 999-999-9999\n",
    "Attach the screenshot of the output in Jupyter Notebook.\n"
   ]
  },
  {
   "cell_type": "code",
   "execution_count": null,
   "id": "7376617a-4794-4614-a583-6cb363f9b999",
   "metadata": {},
   "outputs": [],
   "source": [
    "\n",
    "from flask import Flask\n",
    "app=Flask(__name__)\n",
    "@app.route('/')\n",
    "def information():\n",
    "    return '''Company Name: ABC Corporation\n",
    "    Location: India\n",
    "    Contact Detail: 999-999-9999'''\n",
    "\n",
    "@app.route('/welcome')\n",
    "def hello():\n",
    "    return \"Welcome to ABC Corporation\"\n",
    "if __name__ == '__main__':\n",
    "    app.run(debug=True)"
   ]
  },
  {
   "cell_type": "markdown",
   "id": "faa370a6",
   "metadata": {},
   "source": [
    "Q5. What function is used in Flask for URL Building? Write a Python code to demonstrate the working of the\n",
    "url_for() function.\n",
    "ans:\n",
    "In Flask, the url_for function is used for URL building. It is a convenient way to generate URLs for a specific endpoint (route) based on the endpoint's function name. This function is particularly useful because it allows you to avoid hardcoding URLs in your templates or code, making it easier to update your application's URLs."
   ]
  },
  {
   "cell_type": "code",
   "execution_count": null,
   "id": "ec56c42e",
   "metadata": {},
   "outputs": [],
   "source": [
    "from flask import Flask, render_template, url_for\n",
    "\n",
    "app = Flask(__name__)\n",
    "\n",
    "# Define two routes\n",
    "@app.route('/')\n",
    "def home():\n",
    "    return 'This is the home page'\n",
    "\n",
    "@app.route('/about')\n",
    "def about():\n",
    "    return 'This is the about page'\n",
    "\n",
    "if __name__ == '__main__':\n",
    "    with app.test_request_context():\n",
    "        # Use url_for to generate URLs for the specified routes\n",
    "        home_url = url_for('home')\n",
    "        about_url = url_for('about')\n",
    "\n",
    "        # Print the generated URLs\n",
    "        print(f'Home URL: {home_url}')\n",
    "        print(f'About URL: {about_url}')\n",
    "    app.run(debug=True)\n"
   ]
  },
  {
   "cell_type": "code",
   "execution_count": null,
   "id": "24267a9c",
   "metadata": {},
   "outputs": [],
   "source": []
  }
 ],
 "metadata": {
  "kernelspec": {
   "display_name": "Python 3 (ipykernel)",
   "language": "python",
   "name": "python3"
  },
  "language_info": {
   "codemirror_mode": {
    "name": "ipython",
    "version": 3
   },
   "file_extension": ".py",
   "mimetype": "text/x-python",
   "name": "python",
   "nbconvert_exporter": "python",
   "pygments_lexer": "ipython3",
   "version": "3.9.2"
  }
 },
 "nbformat": 4,
 "nbformat_minor": 5
}
