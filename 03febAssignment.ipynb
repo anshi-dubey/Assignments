{
 "cells": [
  {
   "cell_type": "raw",
   "id": "111533a2",
   "metadata": {},
   "source": [
    "# Q1. Which keyword is used to create a function? Create a function to return a list of odd numbers in the\n",
    "range of 1 to 25.\n",
    "\n"
   ]
  },
  {
   "cell_type": "code",
   "execution_count": 1,
   "id": "67cfcfd6",
   "metadata": {},
   "outputs": [
    {
     "name": "stdout",
     "output_type": "stream",
     "text": [
      "[1, 3, 5, 7, 9, 11, 13, 15, 17, 19, 21, 23, 25]\n"
     ]
    }
   ],
   "source": [
    "'''\n",
    "'def' keywords is used to create a function.\n",
    "syntax:\n",
    "def func_name(para1,para2,para2,...):\n",
    "    #code\n",
    "'''\n",
    "#example:\n",
    "def odd_out():\n",
    "    odd=[i for i in range(1,26)]\n",
    "    print([j for j in odd if j%2!=0])\n",
    "odd_out()"
   ]
  },
  {
   "cell_type": "raw",
   "id": "b3bd9df1",
   "metadata": {},
   "source": [
    "#Q2. Why *args and **kwargs is used in some functions? Create a function each for *args and **kwargs\n",
    "to demonstrate their use.\n",
    "\n"
   ]
  },
  {
   "cell_type": "code",
   "execution_count": 4,
   "id": "920a57b1",
   "metadata": {},
   "outputs": [
    {
     "name": "stdout",
     "output_type": "stream",
     "text": [
      "89\n",
      "{'banana': 5, 'mango': 7, 'apple': 8} <class 'dict'>\n"
     ]
    }
   ],
   "source": [
    "'''\n",
    "*args allows us to pass a variable number of non-keyword arguments to a Python function,use an asterisk (*) before the parameter name to pass a variable number of arguments.it's used for input the parameter in the form of int,str,list,tuple,like sequence \n",
    "**kwargs allows us to pass a variable number of keyword arguments to a Python function, use the double-asterisk (**) before the parameter name to denote this type of argument.it's used for input the parameter in the form of dictionary ie key value-pair.\n",
    "'''\n",
    "# example\n",
    "def add(*number):\n",
    "    result=0\n",
    "    for i in number:\n",
    "        result+=i\n",
    "    print(result)\n",
    "add(12,12,12,13,13,13,14)\n",
    "\n",
    "def fruits(**kwargs):\n",
    "    print(kwargs, type(kwargs))\n",
    "fruits(banana=5, mango=7, apple=8)"
   ]
  },
  {
   "cell_type": "raw",
   "id": "b7144af8",
   "metadata": {},
   "source": [
    "#Q3. What is an iterator in python? Name the method used to initialise the iterator object and the method used for iteration. Use these methods to print the first five elements of the given list [2, 4, 6, 8, 10, 12, 14,16, 18, 20].\n",
    "\n"
   ]
  },
  {
   "cell_type": "code",
   "execution_count": 1,
   "id": "53b2344e",
   "metadata": {},
   "outputs": [
    {
     "name": "stdout",
     "output_type": "stream",
     "text": [
      "2\n",
      "4\n",
      "6\n",
      "8\n",
      "10\n"
     ]
    }
   ],
   "source": [
    "'''\n",
    "An iterator is an object that can be iterated that is which can be traverse through all the values and which implements the iterator protocol, which consist of the methods iter() and next() where iter() is used to initialise the iterator object and the method used for iteration.\n",
    "Lists, tuples, dictionaries, and sets are all iterable objects.\n",
    "\n",
    "'''\n",
    "# example\n",
    "givenlist=[2, 4, 6, 8, 10, 12, 14,16, 18, 20]\n",
    "iterlist=iter(givenlist)\n",
    "print(next(iterlist))\n",
    "print(next(iterlist))\n",
    "print(next(iterlist))\n",
    "print(next(iterlist))\n",
    "print(next(iterlist))"
   ]
  },
  {
   "cell_type": "raw",
   "id": "e91b3621",
   "metadata": {},
   "source": [
    "#Q4. What is a generator function in python? Why yield keyword is used? Give an example of a generator\n",
    "function."
   ]
  },
  {
   "cell_type": "code",
   "execution_count": 27,
   "id": "24a696ae",
   "metadata": {},
   "outputs": [
    {
     "name": "stdout",
     "output_type": "stream",
     "text": [
      "0\n",
      "1\n",
      "2\n",
      "3\n",
      "4\n"
     ]
    }
   ],
   "source": [
    "'''\n",
    "Generator functions are a special kind of function that return a lazy iterator called a generator iterator.A generator iterator generates and returns a value on each call of its next() method. When the object runs out of values to return, it raises a StopIteration exception.\n",
    "The yield keyword in Python controls the flow of a generator function. This is similar to a return statement used for returning values\n",
    "'''\n",
    "# example\n",
    "def num(para1):\n",
    "    for i in range(para1):\n",
    "        yield i\n",
    "iter_var=num(10)\n",
    "for i in range(5):\n",
    "    print(next(iter_var))"
   ]
  },
  {
   "cell_type": "raw",
   "id": "b13c6ab6",
   "metadata": {},
   "source": [
    "#Q5. Create a generator function for prime numbers less than 1000. Use the next() method to print the\n",
    "first 20 prime numbers."
   ]
  },
  {
   "cell_type": "code",
   "execution_count": 18,
   "id": "3325f868",
   "metadata": {},
   "outputs": [
    {
     "data": {
      "text/plain": [
       "[0, 2, 4, 6, 8, 10, 12, 14, 16, 18, 20, 22, 24, 26, 28, 30, 32, 34, 36, 38, 40]"
      ]
     },
     "execution_count": 18,
     "metadata": {},
     "output_type": "execute_result"
    }
   ],
   "source": [
    "def prime():\n",
    "    for i in range(1001):\n",
    "        if i%2==0:\n",
    "            yield i\n",
    "iter_object=prime()\n",
    "[next(iter_object) for j in range(21)]"
   ]
  },
  {
   "cell_type": "raw",
   "id": "006a6215",
   "metadata": {},
   "source": [
    "#Q6. Write a python program to print the first 10 Fibonacci numbers using a while loop."
   ]
  },
  {
   "cell_type": "code",
   "execution_count": 19,
   "id": "3a271bcc",
   "metadata": {},
   "outputs": [
    {
     "name": "stdout",
     "output_type": "stream",
     "text": [
      "0\n",
      "1\n",
      "1\n",
      "2\n",
      "3\n",
      "5\n",
      "8\n",
      "13\n",
      "21\n",
      "34\n"
     ]
    }
   ],
   "source": [
    "num=10\n",
    "a=0\n",
    "b=1\n",
    "count=0\n",
    "while count<num:\n",
    "    print(a)\n",
    "    c=a+b\n",
    "    a=b\n",
    "    b=c\n",
    "    count=count+1"
   ]
  },
  {
   "cell_type": "raw",
   "id": "e4b6889f",
   "metadata": {},
   "source": [
    "#Q7. Write a List Comprehension to iterate through the given string: ‘pwskills’.\n",
    "Expected output: ['p', 'w', 's', 'k', 'i', 'l', 'l', 's']"
   ]
  },
  {
   "cell_type": "code",
   "execution_count": 10,
   "id": "4f3d2589",
   "metadata": {},
   "outputs": [
    {
     "data": {
      "text/plain": [
       "['p', 'w', 's', 'k', 'i', 'l', 'l', 's']"
      ]
     },
     "execution_count": 10,
     "metadata": {},
     "output_type": "execute_result"
    }
   ],
   "source": [
    " string='pwskills'\n",
    "[i for i in string]"
   ]
  },
  {
   "cell_type": "raw",
   "id": "77a66c08",
   "metadata": {},
   "source": [
    "#Q8. Write a python program to check whether a given number is Palindrome or not using a while loop."
   ]
  },
  {
   "cell_type": "code",
   "execution_count": 8,
   "id": "f52cd6e1",
   "metadata": {},
   "outputs": [
    {
     "name": "stdout",
     "output_type": "stream",
     "text": [
      "ENTER NUMBER TO CHECK WHETHER THE NUMBER IS PALINDROME: 1234321\n",
      "1234321\n",
      "NUMBER IS PALINDROME\n"
     ]
    }
   ],
   "source": [
    "num=int(input(\"ENTER NUMBER TO CHECK WHETHER THE NUMBER IS PALINDROME: \"))\n",
    "reverse=0\n",
    "num_copy=num\n",
    "while num>0:\n",
    "    last_digit=num%10\n",
    "    reverse=(reverse*10)+last_digit\n",
    "    num=num//10\n",
    "print(reverse)\n",
    "if num_copy==reverse:\n",
    "    print(\"NUMBER IS PALINDROME\")\n",
    "else:\n",
    "    print(\"NUMBER IS NOT PALINDROME\")\n",
    "    "
   ]
  },
  {
   "cell_type": "raw",
   "id": "73a82c89",
   "metadata": {},
   "source": [
    "#Q9. Write a code to print odd numbers from 1 to 100 using list comprehension."
   ]
  },
  {
   "cell_type": "code",
   "execution_count": 3,
   "id": "f5f2f65f",
   "metadata": {},
   "outputs": [
    {
     "name": "stdout",
     "output_type": "stream",
     "text": [
      "[1, 2, 3, 4, 5, 6, 7, 8, 9, 10, 11, 12, 13, 14, 15, 16, 17, 18, 19, 20, 21, 22, 23, 24, 25, 26, 27, 28, 29, 30, 31, 32, 33, 34, 35, 36, 37, 38, 39, 40, 41, 42, 43, 44, 45, 46, 47, 48, 49, 50, 51, 52, 53, 54, 55, 56, 57, 58, 59, 60, 61, 62, 63, 64, 65, 66, 67, 68, 69, 70, 71, 72, 73, 74, 75, 76, 77, 78, 79, 80, 81, 82, 83, 84, 85, 86, 87, 88, 89, 90, 91, 92, 93, 94, 95, 96, 97, 98, 99, 100]\n"
     ]
    }
   ],
   "source": [
    "print([i for i in range(1,101)])"
   ]
  }
 ],
 "metadata": {
  "kernelspec": {
   "display_name": "Python 3 (ipykernel)",
   "language": "python",
   "name": "python3"
  },
  "language_info": {
   "codemirror_mode": {
    "name": "ipython",
    "version": 3
   },
   "file_extension": ".py",
   "mimetype": "text/x-python",
   "name": "python",
   "nbconvert_exporter": "python",
   "pygments_lexer": "ipython3",
   "version": "3.9.2"
  }
 },
 "nbformat": 4,
 "nbformat_minor": 5
}
