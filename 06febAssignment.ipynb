{
 "cells": [
  {
   "cell_type": "raw",
   "id": "600b6658",
   "metadata": {},
   "source": [
    "Q1. Create a function which will take a list as an argument and return the product of all the numbers after creating a flat list.\n",
    "\n",
    "Use the below-given list as an argument for your function.\n",
    "\n",
    "\n",
    "list1 = [1,2,3,4, [44,55,66, True], False, (34,56,78,89,34), {1,2,3,3,2,1},\n",
    "{1:34, \"key2\": [55, 67, 78, 89], 4: (45,22, 61, 34)},\n",
    "[56, 'data science'], 'Machine Learning']\n",
    "\n",
    "\n",
    "Note: you must extract numeric keys and values of the dictionary also.\n"
   ]
  },
  {
   "cell_type": "code",
   "execution_count": 55,
   "id": "6c67dd28",
   "metadata": {},
   "outputs": [
    {
     "name": "stdout",
     "output_type": "stream",
     "text": [
      "Total elements in flattened list: 32\n",
      "Flattened list: [1, 2, 3, 4, 44, 55, 66, True, False, 34, 56, 78, 89, 34, 1, 2, 3, 34, 55, 67, 78, 89, 45, 22, 61, 34, 1, 'key2', 4, 56, 'data science', 'Machine Learning']\n",
      "[1, 2, 3, 4, 44, 55, 66, 34, 56, 78, 89, 34, 1, 2, 3, 34, 55, 67, 78, 89, 45, 22, 61, 34, 1, 4, 56]\n",
      "The product of given number is: [4134711838987085478833841242112000]\n"
     ]
    }
   ],
   "source": [
    "from functools import reduce\n",
    "list1 = [1, 2, 3, 4, [44, 55, 66, True], False, (34, 56, 78, 89, 34), {1, 2, 3, 3, 2, 1},\n",
    "         {1: 34, \"key2\": [55, 67, 78, 89], 4: (45, 22, 61, 34)}, [56, 'data science'], 'Machine Learning']\n",
    "\n",
    "def flatten(lst):\n",
    "    flat_list = []\n",
    "    for elem in lst:\n",
    "        if type(elem) in [list, tuple, set]:\n",
    "            flat_list.extend(flatten(elem))\n",
    "        elif type(elem) is dict:\n",
    "            flat_list.extend(flatten(list(elem.values())))\n",
    "            flat_list.extend(flatten(list(elem.keys())))\n",
    "        else:\n",
    "            flat_list.append(elem)\n",
    "    return flat_list\n",
    "\n",
    "flattened_list = flatten(list1)\n",
    "print(f\"Total elements in flattened list: {len(flattened_list)}\")\n",
    "print(f\"Flattened list: {flattened_list}\")\n",
    "flattened_num=[i for i in flattened_list if isinstance(i, (int, float)) and type(i)!= bool]\n",
    "print(flattened_num)\n",
    "product=[reduce(lambda x,y:x*y,num_flattend)]\n",
    "print(\"The product of given number is:\",product)"
   ]
  },
  {
   "cell_type": "raw",
   "id": "95591a71",
   "metadata": {},
   "source": [
    "Q2. Write a python program for encrypting a message sent to you by your friend. The logic of encryption should be such that, for a the output should be z. For b, the output should be y. For c, the output should be x respectively. Also, the whitespace should be replaced with a dollar sign. Keep the punctuation marks unchanged.\n",
    "\n",
    "\n",
    "Input Sentence: I want to become a Data Scientist.\n",
    "Encrypt the above input sentence using the program you just created.\n",
    "\n",
    "\n",
    "Note: Convert the given input sentence into lowercase before encrypting. The final output should be lowercase."
   ]
  },
  {
   "cell_type": "code",
   "execution_count": 2,
   "id": "e0398120",
   "metadata": {},
   "outputs": [
    {
     "name": "stdout",
     "output_type": "stream",
     "text": [
      "input the string: I want to become a Data Scientist.\n",
      "Resulting string is:  r$dzmg$gl$yvxlnv$z$wzgz$hxrvmgrhg.\n"
     ]
    }
   ],
   "source": [
    "def encry(string):\n",
    "    output = []\n",
    "    for i in string.lower():\n",
    "        if  ord(i)>=97 and ord(i)<=122:\n",
    "            output.append(chr(122-ord(i)+ 97))\n",
    "            res=\"\".join(output) \n",
    "        elif ord(i)==32:\n",
    "            output.append(chr(36))\n",
    "            res=\"\".join(output)\n",
    "        else:\n",
    "            output.append(i)\n",
    "            res=\"\".join(output)\n",
    "    return res\n",
    "user_input = input(\"input the string: \")\n",
    "print(\"Resulting string is: \",encry(user_input) )"
   ]
  }
 ],
 "metadata": {
  "kernelspec": {
   "display_name": "Python 3 (ipykernel)",
   "language": "python",
   "name": "python3"
  },
  "language_info": {
   "codemirror_mode": {
    "name": "ipython",
    "version": 3
   },
   "file_extension": ".py",
   "mimetype": "text/x-python",
   "name": "python",
   "nbconvert_exporter": "python",
   "pygments_lexer": "ipython3",
   "version": "3.9.2"
  }
 },
 "nbformat": 4,
 "nbformat_minor": 5
}
