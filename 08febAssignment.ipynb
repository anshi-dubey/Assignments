{
 "cells": [
  {
   "cell_type": "raw",
   "id": "61344f79",
   "metadata": {},
   "source": [
    "#Q1. What is Abstraction in OOps? Explain with an example."
   ]
  },
  {
   "cell_type": "code",
   "execution_count": 6,
   "id": "4300c8c4",
   "metadata": {},
   "outputs": [
    {
     "name": "stdout",
     "output_type": "stream",
     "text": [
      "speed is:100km/hr\n",
      "a123 model\n",
      "speed is:50km/hr\n",
      "speed is:80km/hr\n",
      "aw23 model\n"
     ]
    }
   ],
   "source": [
    "'''\n",
    "Abstraction in OOps is a process of handling complexity of a program by hiding the background data\n",
    "so that user can utilise the fuction of the program with ease.Abstraction provides a programmer to\n",
    "hide all the irrelevant data/process of an application in order to reduce complexity and increase \n",
    "the efficiency of the program.\n",
    "In python abstraction can be achieved by using abc module defining as Abstract Base classes (abc)\n",
    "\n",
    "example \n",
    "'''\n",
    "import abc\n",
    "# from abc import ABC\n",
    "class Cars:\n",
    "    @abc.abstractmethod\n",
    "    def speed(self):\n",
    "        pass\n",
    "    @abc.abstractmethod\n",
    "    def model(self):\n",
    "        pass\n",
    "    \n",
    "class tesla(Cars):\n",
    "    def speed(self):\n",
    "        print(\"speed is:100km/hr\")\n",
    "    def model(self):\n",
    "        print(\"a123 model\")\n",
    "        \n",
    "class suzuki(Cars):\n",
    "    def speed(self):\n",
    "        print(\"speed is:50km/hr\")\n",
    "    \n",
    "class renault(Cars):\n",
    "    def speed(self):\n",
    "        print(\"speed is:80km/hr\")\n",
    "    def model(self):\n",
    "        print(\"aw23 model\")\n",
    "    \n",
    "car1=tesla()\n",
    "car1.speed()\n",
    "car1.model()\n",
    "\n",
    "car2=suzuki()\n",
    "car2.speed()\n",
    "\n",
    "car3=renault()\n",
    "car3.speed()\n",
    "car3.model()"
   ]
  },
  {
   "cell_type": "raw",
   "id": "d3592cfa",
   "metadata": {},
   "source": [
    "Q2. Differentiate between Abstraction and Encapsulation. Explain with an example."
   ]
  },
  {
   "cell_type": "code",
   "execution_count": null,
   "id": "42811b73",
   "metadata": {},
   "outputs": [],
   "source": [
    "'''Abstraction hides the unnecessary detail but shows the essential information.\n",
    "--> It solves an issue at the design level.\n",
    "--> It focuses on the external lookout.\n",
    "--> It can be implemented using abstract classes and interfaces.\n",
    "--> this is a process of gaining information.\n",
    "        \n",
    "Encapsulation hides the code and data into a single entity or unit so that the data can be\n",
    "protected from the outside world.\n",
    "--> Encapsulation solves an issue at implementation level.\n",
    "--> It focuses on internal working.It can be implemented by using the access modifiers \n",
    "(private, public, protected).\n",
    "--> It is the process of containing the information.\n",
    "--> We use the getters and setters methods to hide the data.'''"
   ]
  },
  {
   "cell_type": "raw",
   "id": "b45e0ee9",
   "metadata": {},
   "source": [
    "Q3. What is abc module in python? Why is it used?"
   ]
  },
  {
   "cell_type": "code",
   "execution_count": null,
   "id": "de87e4d7",
   "metadata": {},
   "outputs": [],
   "source": [
    "'''In python abstraction can be achieved by using abc module defining as Abstract Base\n",
    "classes (abc) and by using @abc.abstractionmethod(when we dont inherit the ABC class from the abc module in Python in the base class) or \n",
    "@abstractionmethod(inherit the ABC class from the abc module in Python.) before every function or methode define in base class or skeletan class\n",
    "'''"
   ]
  },
  {
   "cell_type": "raw",
   "id": "e00bc8d2",
   "metadata": {},
   "source": [
    "Q4. How can we achieve data abstraction?"
   ]
  },
  {
   "cell_type": "code",
   "execution_count": null,
   "id": "2d09a611",
   "metadata": {},
   "outputs": [],
   "source": [
    "'''In Python, abstraction can be achieved by having/using abstract classes and methods in our \n",
    "programs.\n",
    "An abstract method is a method that is declared, but does not contain implementation.An abstract \n",
    "method in a base class identifies the functionality that should be implemented by all its subclasses.\n",
    "However, since the implementation of an abstract method would differ from one subclass to another,\n",
    "often the method body comprises just a pass statement. Every subclass of the base class will ride\n",
    "this method with its implementation. A class containing abstract methods is called abstract class.\n",
    "'''"
   ]
  },
  {
   "cell_type": "raw",
   "id": "da28cb8f",
   "metadata": {},
   "source": [
    "Q5. Can we create an instance of an abstract class? Explain your answer"
   ]
  },
  {
   "cell_type": "code",
   "execution_count": 6,
   "id": "281615d4",
   "metadata": {},
   "outputs": [
    {
     "data": {
      "text/plain": [
       "'we cannot create an instance or object of an abstract class in Python.A class containing\\nabstract methods is called abstract class,Since the implementation of an abstract method would\\ndiffer from one subclass to another,often the method body comprises just a pass statement.\\nEvery subclass of the base class will ride this method with its implementation.\\n'"
      ]
     },
     "execution_count": 6,
     "metadata": {},
     "output_type": "execute_result"
    }
   ],
   "source": [
    "'''we cannot create an instance or object of an abstract class in Python.A class containing\n",
    "abstract methods is called abstract class,Since the implementation of an abstract method would\n",
    "differ from one subclass to another,often the method body comprises just a pass statement.\n",
    "Every subclass of the base class will ride this method with its implementation.\n",
    "'''"
   ]
  },
  {
   "cell_type": "code",
   "execution_count": null,
   "id": "1632bd92",
   "metadata": {},
   "outputs": [],
   "source": []
  }
 ],
 "metadata": {
  "kernelspec": {
   "display_name": "Python 3 (ipykernel)",
   "language": "python",
   "name": "python3"
  },
  "language_info": {
   "codemirror_mode": {
    "name": "ipython",
    "version": 3
   },
   "file_extension": ".py",
   "mimetype": "text/x-python",
   "name": "python",
   "nbconvert_exporter": "python",
   "pygments_lexer": "ipython3",
   "version": "3.9.2"
  }
 },
 "nbformat": 4,
 "nbformat_minor": 5
}
