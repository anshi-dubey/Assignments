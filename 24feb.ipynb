{
 "cells": [
  {
   "cell_type": "markdown",
   "id": "44934250",
   "metadata": {},
   "source": [
    "'''\n",
    "Q1. List any five functions of the pandas library with execution.\n",
    "\n",
    "Q2. Given a Pandas DataFrame df with columns 'A', 'B', and 'C', write a Python function to re-index the \n",
    "DataFrame with a new index that starts from 1 and increments by 2 for each row.\n",
    "\n",
    "Q3. You have a Pandas DataFrame df with a column named 'Values'. Write a Python function that \n",
    "iterates over the DataFrame and calculates the sum of the first three values in the 'Values' column. The \n",
    "function should print the sum to the console.\n",
    "\n",
    "For example, if the 'Values' column of df contains the values [10, 20, 30, 40, 50], your function should \n",
    "calculate and print the sum of the first three values, which is 60.\n",
    "\n",
    "\n",
    "Q4. Given a Pandas DataFrame df with a column 'Text', write a Python function to create a new column \n",
    "'Word_Count' that contains the number of words in each row of the 'Text' column.\n",
    "\n",
    "Q5. How are DataFrame.size() and DataFrame.shape() different?\n",
    " \n",
    "Q6. Which function of pandas do we use to read an excel file?\n",
    "\n",
    "Q7. You have a Pandas DataFrame df that contains a column named 'Email' that contains email \n",
    "addresses in the format 'username@domain.com'. Write a Python function that creates a new column \n",
    "'Username' in df that contains only the username part of each email address.\n",
    "\n",
    "The username is the part of the email address that appears before the '@' symbol. For example, if the \n",
    "email address is 'john.doe@example.com', the 'Username' column should contain 'john.doe'. Your \n",
    "function should extract the username from each email address and store it in the new 'Username' \n",
    "column.\n",
    "\n",
    "\n",
    "Q8. You have a Pandas DataFrame df with columns 'A', 'B', and 'C'. Write a Python function that selects \n",
    "all rows where the value in column 'A' is greater than 5 and the value in column 'B' is less than 10. The \n",
    "function should return a new DataFrame that contains only the selected rows.\n",
    "\n",
    "For example, if df contains the following values:\n",
    " \n",
    "   A   B   C\n",
    "\n",
    "0  3   5   1\n",
    " \n",
    "1  8   2   7\n",
    " \n",
    "2  6   9   4\n",
    " \n",
    "3  2   3   5\n",
    " \n",
    "4  9   1   2\n",
    "\n",
    "Your function should select the following rows:   A   B   C\n",
    " \n",
    "1  8   2   7\n",
    "\n",
    "4  9   1   2\n",
    "\n",
    "The function should return a new DataFrame that contains only the selected rows.\n",
    "\n",
    "\n",
    "Q9. Given a Pandas DataFrame df with a column 'Values', write a Python function to calculate the mean, \n",
    "median, and standard deviation of the values in the 'Values' column.\n",
    "\n",
    "Q10. Given a Pandas DataFrame df with a column 'Sales' and a column 'Date', write a Python function to \n",
    "create a new column 'MovingAverage' that contains the moving average of the sales for the past 7 days \n",
    "for each row in the DataFrame. The moving average should be calculated using a window of size 7 and \n",
    "should include the current day.\n",
    "\n",
    "Q11. You have a Pandas DataFrame df with a column 'Date'. Write a Python function that creates a new \n",
    "column 'Weekday' in the DataFrame. The 'Weekday' column should contain the weekday name (e.g. \n",
    "Monday, Tuesday) corresponding to each date in the 'Date' column.\n",
    "\n",
    "For example, if df contains the following values:\n",
    " \n",
    "         Date\n",
    "\n",
    "0  2023-01-01\n",
    " \n",
    "1  2023-01-02\n",
    " \n",
    "2  2023-01-03\n",
    " \n",
    "3  2023-01-04\n",
    " \n",
    "4  2023-01-05\n",
    "\n",
    "Your function should create the following DataFrame:\n",
    "\n",
    " \n",
    "         Date               Weekday\n",
    "\n",
    "0  2023-01-01     Sunday\n",
    " \n",
    "1  2023-01-02     Monday\n",
    " \n",
    "2  2023-01-03    Tuesday\n",
    " \n",
    "3  2023-01-04    Wednesday\n",
    " \n",
    "4  2023-01-05    Thursday\n",
    "\n",
    "The function should return the modified DataFrame.\n",
    "\n",
    "Q12. Given a Pandas DataFrame df with a column 'Date' that contains timestamps, write a Python \n",
    "function to select all rows where the date is between '2023-01-01' and '2023-01-31'.\n",
    "\n",
    "Q13. To use the basic functions of pandas, what is the first and foremost necessary library that needs to \n",
    "be imported?\n",
    "\n",
    "'''"
   ]
  },
  {
   "cell_type": "code",
   "execution_count": 1,
   "id": "22562c87",
   "metadata": {},
   "outputs": [
    {
     "data": {
      "text/html": [
       "<div>\n",
       "<style scoped>\n",
       "    .dataframe tbody tr th:only-of-type {\n",
       "        vertical-align: middle;\n",
       "    }\n",
       "\n",
       "    .dataframe tbody tr th {\n",
       "        vertical-align: top;\n",
       "    }\n",
       "\n",
       "    .dataframe thead th {\n",
       "        text-align: right;\n",
       "    }\n",
       "</style>\n",
       "<table border=\"1\" class=\"dataframe\">\n",
       "  <thead>\n",
       "    <tr style=\"text-align: right;\">\n",
       "      <th></th>\n",
       "      <th>Name</th>\n",
       "      <th>Age</th>\n",
       "    </tr>\n",
       "  </thead>\n",
       "  <tbody>\n",
       "    <tr>\n",
       "      <th>0</th>\n",
       "      <td>Axel</td>\n",
       "      <td>32</td>\n",
       "    </tr>\n",
       "    <tr>\n",
       "      <th>1</th>\n",
       "      <td>Alice</td>\n",
       "      <td>26</td>\n",
       "    </tr>\n",
       "  </tbody>\n",
       "</table>\n",
       "</div>"
      ],
      "text/plain": [
       "    Name  Age\n",
       "0   Axel   32\n",
       "1  Alice   26"
      ]
     },
     "execution_count": 1,
     "metadata": {},
     "output_type": "execute_result"
    }
   ],
   "source": [
    "# q1  List any five functions of the pandas library with execution.\n",
    "\n",
    "# 1 ḥead(n)\n",
    "import pandas as pd\n",
    "data = [['Axel',32], ['Alice', 26], ['Alex', 45]]\n",
    "df = pd.DataFrame(data,columns=['Name','Age'])\n",
    "df.head(2)"
   ]
  },
  {
   "cell_type": "code",
   "execution_count": 2,
   "id": "88a9e48a",
   "metadata": {},
   "outputs": [
    {
     "data": {
      "text/html": [
       "<div>\n",
       "<style scoped>\n",
       "    .dataframe tbody tr th:only-of-type {\n",
       "        vertical-align: middle;\n",
       "    }\n",
       "\n",
       "    .dataframe tbody tr th {\n",
       "        vertical-align: top;\n",
       "    }\n",
       "\n",
       "    .dataframe thead th {\n",
       "        text-align: right;\n",
       "    }\n",
       "</style>\n",
       "<table border=\"1\" class=\"dataframe\">\n",
       "  <thead>\n",
       "    <tr style=\"text-align: right;\">\n",
       "      <th></th>\n",
       "      <th>Name</th>\n",
       "      <th>Age</th>\n",
       "    </tr>\n",
       "  </thead>\n",
       "  <tbody>\n",
       "    <tr>\n",
       "      <th>1</th>\n",
       "      <td>Alice</td>\n",
       "      <td>26</td>\n",
       "    </tr>\n",
       "    <tr>\n",
       "      <th>2</th>\n",
       "      <td>Alex</td>\n",
       "      <td>45</td>\n",
       "    </tr>\n",
       "  </tbody>\n",
       "</table>\n",
       "</div>"
      ],
      "text/plain": [
       "    Name  Age\n",
       "1  Alice   26\n",
       "2   Alex   45"
      ]
     },
     "execution_count": 2,
     "metadata": {},
     "output_type": "execute_result"
    }
   ],
   "source": [
    "# 2 tail\n",
    "df.tail(2)"
   ]
  },
  {
   "cell_type": "code",
   "execution_count": 3,
   "id": "51cd9e15",
   "metadata": {},
   "outputs": [
    {
     "data": {
      "text/html": [
       "<div>\n",
       "<style scoped>\n",
       "    .dataframe tbody tr th:only-of-type {\n",
       "        vertical-align: middle;\n",
       "    }\n",
       "\n",
       "    .dataframe tbody tr th {\n",
       "        vertical-align: top;\n",
       "    }\n",
       "\n",
       "    .dataframe thead th {\n",
       "        text-align: right;\n",
       "    }\n",
       "</style>\n",
       "<table border=\"1\" class=\"dataframe\">\n",
       "  <thead>\n",
       "    <tr style=\"text-align: right;\">\n",
       "      <th></th>\n",
       "      <th>Name</th>\n",
       "      <th>Age</th>\n",
       "      <th>Gender</th>\n",
       "    </tr>\n",
       "  </thead>\n",
       "  <tbody>\n",
       "    <tr>\n",
       "      <th>0</th>\n",
       "      <td>Axel</td>\n",
       "      <td>32</td>\n",
       "      <td>M</td>\n",
       "    </tr>\n",
       "    <tr>\n",
       "      <th>1</th>\n",
       "      <td>Alice</td>\n",
       "      <td>26</td>\n",
       "      <td>F</td>\n",
       "    </tr>\n",
       "    <tr>\n",
       "      <th>2</th>\n",
       "      <td>Alex</td>\n",
       "      <td>45</td>\n",
       "      <td>M</td>\n",
       "    </tr>\n",
       "  </tbody>\n",
       "</table>\n",
       "</div>"
      ],
      "text/plain": [
       "    Name  Age Gender\n",
       "0   Axel   32      M\n",
       "1  Alice   26      F\n",
       "2   Alex   45      M"
      ]
     },
     "execution_count": 3,
     "metadata": {},
     "output_type": "execute_result"
    }
   ],
   "source": [
    "# 3 concat\n",
    "new_entry=pd.DataFrame(['M','F','M'],columns=['Gender'],index=[0,1,2])\n",
    "df=pd.concat([df,new_entry],axis=1)\n",
    "df"
   ]
  },
  {
   "cell_type": "code",
   "execution_count": 4,
   "id": "289ed036",
   "metadata": {},
   "outputs": [
    {
     "name": "stdout",
     "output_type": "stream",
     "text": [
      "0     NaN\n",
      "1    88.0\n",
      "2     NaN\n",
      "Name: amount, dtype: float64\n"
     ]
    }
   ],
   "source": [
    "# 4 .fillna\n",
    "df['amount']=pd.Series({1:88})\n",
    "print(df.amount)\n",
    "df.amount.fillna('None',inplace=True)"
   ]
  },
  {
   "cell_type": "code",
   "execution_count": 5,
   "id": "3fa3b59a",
   "metadata": {},
   "outputs": [
    {
     "name": "stdout",
     "output_type": "stream",
     "text": [
      "    Name  Age Gender amount    Sum  median  mode  CumSum  Product  cumpro\n",
      "0   Axel   32      M   None  103.0    32.0    26      32  37440.0      32\n",
      "1  Alice   26      F   88.0    NaN     NaN    32      58      NaN     832\n",
      "2   Alex   45      M   None    NaN     NaN    45     103      NaN   37440\n"
     ]
    }
   ],
   "source": [
    "# 5 mean(),mode(),median(),sum(),cumsum(),product(),cumprod()\n",
    "df['Sum']=pd.Series(df.Age.mean())\n",
    "df['median']=pd.Series(df.Age.median())\n",
    "df['mode']=pd.Series(df.Age.mode())\n",
    "df['Sum']=pd.Series(df.Age.sum())\n",
    "df['CumSum']=pd.Series(df.Age.cumsum())\n",
    "df['Product']=pd.Series(df.Age.product())\n",
    "df['cumpro']=pd.Series(df.Age.cumprod())\n",
    "print(df)\n"
   ]
  },
  {
   "cell_type": "code",
   "execution_count": 6,
   "id": "a16b4413",
   "metadata": {},
   "outputs": [
    {
     "name": "stdout",
     "output_type": "stream",
     "text": [
      "         A   B   C\n",
      "0   Martha  87  83\n",
      "1      Tim  91  99\n",
      "2      Rob  97  84\n",
      "3  Georgia  95  76\n"
     ]
    },
    {
     "data": {
      "text/html": [
       "<div>\n",
       "<style scoped>\n",
       "    .dataframe tbody tr th:only-of-type {\n",
       "        vertical-align: middle;\n",
       "    }\n",
       "\n",
       "    .dataframe tbody tr th {\n",
       "        vertical-align: top;\n",
       "    }\n",
       "\n",
       "    .dataframe thead th {\n",
       "        text-align: right;\n",
       "    }\n",
       "</style>\n",
       "<table border=\"1\" class=\"dataframe\">\n",
       "  <thead>\n",
       "    <tr style=\"text-align: right;\">\n",
       "      <th></th>\n",
       "      <th>A</th>\n",
       "      <th>B</th>\n",
       "      <th>C</th>\n",
       "    </tr>\n",
       "  </thead>\n",
       "  <tbody>\n",
       "    <tr>\n",
       "      <th>1</th>\n",
       "      <td>Tim</td>\n",
       "      <td>91.0</td>\n",
       "      <td>99.0</td>\n",
       "    </tr>\n",
       "    <tr>\n",
       "      <th>3</th>\n",
       "      <td>Georgia</td>\n",
       "      <td>95.0</td>\n",
       "      <td>76.0</td>\n",
       "    </tr>\n",
       "    <tr>\n",
       "      <th>5</th>\n",
       "      <td>NaN</td>\n",
       "      <td>NaN</td>\n",
       "      <td>NaN</td>\n",
       "    </tr>\n",
       "  </tbody>\n",
       "</table>\n",
       "</div>"
      ],
      "text/plain": [
       "         A     B     C\n",
       "1      Tim  91.0  99.0\n",
       "3  Georgia  95.0  76.0\n",
       "5      NaN   NaN   NaN"
      ]
     },
     "execution_count": 6,
     "metadata": {},
     "output_type": "execute_result"
    }
   ],
   "source": [
    "# Q2. Given a Pandas DataFrame df with columns 'A', 'B', and 'C', write a Python function to re-index the DataFrame with a new index that starts from 1 and increments by 2 for each row.\n",
    "data={'A':['Martha', 'Tim', 'Rob', 'Georgia'],\n",
    "      'B':[87, 91, 97, 95],\n",
    "    'C':[83, 99, 84, 76]\n",
    "       }\n",
    "df3=pd.DataFrame(data)\n",
    "print(df3)\n",
    "df3=df3.reindex(index=[1,3,5])\n",
    "df3"
   ]
  },
  {
   "cell_type": "code",
   "execution_count": 7,
   "id": "b2022c93",
   "metadata": {},
   "outputs": [
    {
     "name": "stdout",
     "output_type": "stream",
     "text": [
      " The Original DataFrame:\n",
      "    0\n",
      "0  10\n",
      "1  20\n",
      "2  30\n",
      "3  40\n",
      "4  50\n",
      "The first three elements of DataFrame:\n",
      "    0\n",
      "0  10\n",
      "1  20\n",
      "2  30\n",
      "The Sum is :  60\n",
      "A function that iterates over the DataFrame \n"
     ]
    }
   ],
   "source": [
    "# Q3. You have a Pandas DataFrame df with a column named 'Values'. Write a Python function that iterates over the DataFrame and calculates the sum of the first three values in the 'Values' column. The function should print the sum to the console.\n",
    "# For example, if the 'Values' column of df contains the values [10, 20, 30, 40, 50], your function should calculate and print the sum of the first three values, which is 60.\n",
    "values=[10, 20, 30, 40, 50]\n",
    "def sum(i):\n",
    "    return i.sum(axis=0,skipna=True)\n",
    "    \n",
    "df3=pd.DataFrame(values)\n",
    "print(\" The Original DataFrame:\")\n",
    "print(df3)\n",
    "# print(df3.sum(axis=0))\n",
    "def iterate_and_sum(df3):\n",
    "    '''A function that iterates over the DataFrame '''\n",
    "    df3=df3.iloc[0:3,:]\n",
    "    print(\"The first three elements of DataFrame:\")\n",
    "    print(df3)\n",
    "    for index,values in df3.iteritems():\n",
    "        sum3=0\n",
    "    #     print(type(index))\n",
    "    #     print(type(values))\n",
    "        for i in values:\n",
    "    #         print(i)\n",
    "            \n",
    "            sum3+=i\n",
    "    return sum3\n",
    "print(\"The Sum is : \",iterate_and_sum(df3))\n",
    "\n",
    "print(iterate_and_sum.__doc__)"
   ]
  },
  {
   "cell_type": "code",
   "execution_count": 8,
   "id": "2a8465d9",
   "metadata": {
    "scrolled": true
   },
   "outputs": [
    {
     "name": "stdout",
     "output_type": "stream",
     "text": [
      "           Text\n",
      "0           Tom\n",
      "1  William Rick\n",
      "2          John\n",
      "3       Alber@t\n",
      "4           NaN\n",
      "5          1234\n",
      "6    SteveSmith\n",
      "Text    object\n",
      "dtype: object\n",
      "           Text Word_Count\n",
      "0           Tom          3\n",
      "1  William Rick         12\n",
      "2          John          4\n",
      "3       Alber@t          7\n",
      "4           NaN       <NA>\n",
      "5          1234          4\n",
      "6    SteveSmith         10\n"
     ]
    }
   ],
   "source": [
    "# Q4. Given a Pandas DataFrame df with a column 'Text', write a Python function to create a new column 'Word_Count' that contains the number of words in each row of the 'Text' column.\n",
    "import numpy as np\n",
    "\n",
    "df4= pd.DataFrame(['Tom', 'William Rick', 'John', 'Alber@t', np.nan, '1234','SteveSmith'],columns=['Text'])\n",
    "print(df4)\n",
    "print(df4.dtypes)\n",
    "# df4=df4.astype('string')\n",
    "# print(df4.dtypes)\n",
    "def Word_Count(df4):\n",
    "    for clm,values in df4.iteritems():\n",
    "    #     print(values)\n",
    "    #     print(type(values))\n",
    "        s=values.astype('string')\n",
    "        Word_Data=s.str.len()\n",
    "        df4['Word_Count']=pd.DataFrame(Word_Data)\n",
    "        \n",
    "\n",
    "Word_Count(df4)\n",
    "print(df4)\n"
   ]
  },
  {
   "cell_type": "code",
   "execution_count": 9,
   "id": "62ceab75",
   "metadata": {},
   "outputs": [],
   "source": [
    "# Q5. How are DataFrame.size() and DataFrame.shape() different?\n"
   ]
  },
  {
   "cell_type": "code",
   "execution_count": 10,
   "id": "ff2e7ca7",
   "metadata": {},
   "outputs": [],
   "source": [
    "# Q6. Which function of pandas do we use to read an excel file?\n"
   ]
  },
  {
   "cell_type": "code",
   "execution_count": 11,
   "id": "533e870b",
   "metadata": {},
   "outputs": [
    {
     "name": "stdout",
     "output_type": "stream",
     "text": [
      "                       Email         username\n",
      "0       john.doe@example.com         john.doe\n",
      "1  albertofrancoaf@gmail.com  albertofrancoaf\n",
      "2    ginomcneillgm@yahoo.com    ginomcneillgm\n",
      "3       ryanparkesrp@abc.com     ryanparkesrp\n",
      "4     eeshahintonef@mail.com    eeshahintonef\n",
      "5   ginomcneillgm@github.com    ginomcneillgm\n"
     ]
    }
   ],
   "source": [
    "# Q7. You have a Pandas DataFrame df that contains a column named 'Email' that contains email addresses in the format 'username@domain.com'. Write a Python function that creates a new column 'Username' in df that contains only the username part of each email address.\n",
    "# The username is the part of the email address that appears before the '@' symbol. For example, if the email address is 'john.doe@example.com', the 'Username' column should contain 'john.doe'.\n",
    "# Your function should extract the username from each email address and store it in the new 'Username' column\n",
    "df7 = pd.DataFrame({\n",
    "    'Email': ['john.doe@example.com','albertofrancoaf@gmail.com','ginomcneillgm@yahoo.com','ryanparkesrp@abc.com', 'eeshahintonef@mail.com', 'ginomcneillgm@github.com']})\n",
    "def username_from_email(dataframe):\n",
    "    for col,values in dataframe.iteritems():\n",
    "        s7=values.astype('string')\n",
    "        data=list(s7.str.split('@'))\n",
    "        data=s7.str.split('@')\n",
    "    #     print(data)\n",
    "        username=[]\n",
    "        for i,j in data.iteritems():\n",
    "    #         print(j,i)\n",
    "            username=username+[j[0]]\n",
    "        dataframe['username']=pd.Series(username)           \n",
    "        \n",
    "username_from_email(df7)\n",
    "print(df7)"
   ]
  },
  {
   "cell_type": "code",
   "execution_count": 12,
   "id": "510e14e8",
   "metadata": {
    "scrolled": true
   },
   "outputs": [
    {
     "name": "stdout",
     "output_type": "stream",
     "text": [
      "   A  B  C\n",
      "0  3  5  1\n",
      "1  8  2  7\n",
      "2  6  9  4\n",
      "3  2  3  5\n",
      "4  9  1  2\n",
      "\n",
      "\n",
      "   A  B  C\n",
      "1  8  2  7\n",
      "4  9  1  2\n"
     ]
    }
   ],
   "source": [
    "'''Q8. You have a Pandas DataFrame df with columns 'A', 'B', and 'C'.Write a Python function that selects all rows where\n",
    "the value in column 'A' is greater than 5 and the value in column 'B' is less than 5. The function should return a new\n",
    "DataFrame that contains only the selected rows.For example, if df contains the following values:\n",
    "\n",
    "  A B C\n",
    "\n",
    "0 3 5 1\n",
    "\n",
    "1 8 2 7\n",
    "\n",
    "2 6 9 4\n",
    "\n",
    "3 2 3 5\n",
    "\n",
    "4 9 1 2\n",
    "\n",
    "Your function should select the following rows: A B C\n",
    "\n",
    "1 8 2 7\n",
    "\n",
    "4 9 1 2\n",
    "\n",
    "The function should return a new DataFrame that contains only the selected rows.'''\n",
    "df8=pd.DataFrame({'A':[3,8,6,2,9],\n",
    "                  'B':[5,2,9,3,1],\n",
    "                  'C':[1,7,4,5,2]})\n",
    "print(df8)\n",
    "print(\"\\n\")\n",
    "print(df8[(df8.loc[:,'A'] >5) & (df8.loc[:,'B']<5)])"
   ]
  },
  {
   "cell_type": "code",
   "execution_count": 13,
   "id": "a5068ecd",
   "metadata": {},
   "outputs": [
    {
     "name": "stdout",
     "output_type": "stream",
     "text": [
      "mean : Values    3.8\n",
      "dtype: float64\n",
      "median : Values    4.0\n",
      "dtype: float64\n",
      "mode :    Values\n",
      "0       1\n",
      "1       2\n",
      "2       4\n",
      "3       5\n",
      "4       7\n",
      "standard deviation : Values    2.387467\n",
      "dtype: float64\n"
     ]
    }
   ],
   "source": [
    "'''Q9. Given a Pandas DataFrame df with a column 'Values', write a Python function to calculate the mean, median, and standard deviation of the values in the 'Values' column.\n",
    "'''\n",
    "df=pd.DataFrame({'Values':[1,7,4,5,2]})\n",
    "print(\"mean :\",df.mean())\n",
    "print(\"median :\",df.median())\n",
    "print(\"mode :\",df.mode())\n",
    "print(\"standard deviation :\",df.std())"
   ]
  },
  {
   "cell_type": "code",
   "execution_count": 14,
   "id": "af6e1975",
   "metadata": {},
   "outputs": [
    {
     "name": "stdout",
     "output_type": "stream",
     "text": [
      "       Dates    Weekday\n",
      "0 2023-01-01     Sunday\n",
      "1 2023-01-02     Monday\n",
      "2 2023-01-03    Tuesday\n",
      "3 2023-01-04  Wednesday\n",
      "4 2023-01-05   Thursday\n"
     ]
    }
   ],
   "source": [
    "'''\n",
    "Q11. You have a Pandas DataFrame df with a column 'Date'. Write a Python function that creates a new column 'Weekday' in the DataFrame. The 'Weekday' column should contain the weekday name (e.g. Monday, Tuesday) corresponding to each date in the 'Date' column.\n",
    "\n",
    "For example, if df contains the following values:\n",
    "\n",
    "     Date\n",
    "0 2023-01-01\n",
    "\n",
    "1 2023-01-02\n",
    "\n",
    "2 2023-01-03\n",
    "\n",
    "3 2023-01-04\n",
    "\n",
    "4 2023-01-05\n",
    "\n",
    "Your function should create the following DataFrame:\n",
    "\n",
    "     Date               Weekday\n",
    "0 2023-01-01 Sunday\n",
    "\n",
    "1 2023-01-02 Monday\n",
    "\n",
    "2 2023-01-03 Tuesday\n",
    "\n",
    "3 2023-01-04 Wednesday\n",
    "\n",
    "4 2023-01-05 Thursday\n",
    "\n",
    "The function should return the modified DataFrame.\n",
    "'''\n",
    "# df['day_of_week'] = df['my_dates'].dt.day_name()\n",
    "dates=[\"2023-01-01\",\"2023-01-02\",\"2023-01-03\",\"2023-01-04\",\"2023-01-05\"]\n",
    "df11=pd.DataFrame(dates, columns=['Dates'])\n",
    "df11['Dates']=pd.to_datetime(df11['Dates'])\n",
    "df11['Weekday'] = df11['Dates'].dt.day_name()\n",
    "print(df11)"
   ]
  },
  {
   "cell_type": "code",
   "execution_count": 3,
   "id": "5518859d",
   "metadata": {},
   "outputs": [
    {
     "name": "stdout",
     "output_type": "stream",
     "text": [
      "Original DataFrame:\n",
      "         Date  Value\n",
      "0  2023-01-05     10\n",
      "1  2023-01-15     20\n",
      "2  2023-01-25     30\n",
      "3  2023-02-05     40\n",
      "4  2023-02-15     50\n",
      "\n",
      "Selected Rows:\n",
      "        Date  Value\n",
      "0 2023-01-05     10\n",
      "1 2023-01-15     20\n",
      "2 2023-01-25     30\n"
     ]
    }
   ],
   "source": [
    "'''\n",
    "Q12. Given a Pandas DataFrame df with a column 'Date' that contains timestamps, write a Python function to select all rows where the date is between '2023-01-01' and '2023-01-31'.\n",
    "'''\n",
    "\n",
    "import pandas as pd\n",
    "\n",
    "# Creating a sample DataFrame\n",
    "data = {'Date': ['2023-01-05', '2023-01-15', '2023-01-25', '2023-02-05', '2023-02-15'],\n",
    "        'Value': [10, 20, 30, 40, 50]}\n",
    "\n",
    "df = pd.DataFrame(data)\n",
    "\n",
    "# Display the original DataFrame\n",
    "print(\"Original DataFrame:\")\n",
    "print(df)\n",
    "\n",
    "# Function to select rows between '2023-01-01' and '2023-01-31'\n",
    "def select_rows_between_dates(df):\n",
    "    df['Date'] = pd.to_datetime(df['Date'])\n",
    "    start_date = '2023-01-01'\n",
    "    end_date = '2023-01-31'\n",
    "    selected_rows = df[(df['Date'] >= start_date) & (df['Date'] <= end_date)]\n",
    "    return selected_rows\n",
    "\n",
    "# Use the function to select rows within the specified date range\n",
    "selected_rows = select_rows_between_dates(df)\n",
    "\n",
    "# Display the selected rows\n",
    "print(\"\\nSelected Rows:\")\n",
    "print(selected_rows)\n",
    "\n"
   ]
  },
  {
   "cell_type": "code",
   "execution_count": null,
   "id": "94086fcd",
   "metadata": {},
   "outputs": [],
   "source": [
    "'''\n",
    "\n",
    "Q13. To use the basic functions of pandas, what is the first and foremost necessary library that needs to be imported?\n",
    "\n",
    "'''\n",
    "import pandas as pd \n",
    "# pd is the alias name"
   ]
  },
  {
   "cell_type": "code",
   "execution_count": null,
   "id": "ebf11572",
   "metadata": {},
   "outputs": [],
   "source": []
  }
 ],
 "metadata": {
  "kernelspec": {
   "display_name": "Python 3 (ipykernel)",
   "language": "python",
   "name": "python3"
  },
  "language_info": {
   "codemirror_mode": {
    "name": "ipython",
    "version": 3
   },
   "file_extension": ".py",
   "mimetype": "text/x-python",
   "name": "python",
   "nbconvert_exporter": "python",
   "pygments_lexer": "ipython3",
   "version": "3.9.2"
  }
 },
 "nbformat": 4,
 "nbformat_minor": 5
}
