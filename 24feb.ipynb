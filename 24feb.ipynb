{
 "cells": [
  {
   "cell_type": "code",
   "execution_count": 1,
   "id": "22562c87",
   "metadata": {},
   "outputs": [
    {
     "name": "stdout",
     "output_type": "stream",
     "text": [
      "    Name  Age\n",
      "0   Axel   32\n",
      "1  Alice   26\n"
     ]
    }
   ],
   "source": [
    "# Q1. List any five functions of the pandas library with execution.\n",
    "\n",
    "\n",
    "# 1 ḥead(n)\n",
    "import pandas as pd\n",
    "data = [['Axel',32], ['Alice', 26], ['Alex', 45]]\n",
    "df = pd.DataFrame(data,columns=['Name','Age'])\n",
    "print(df.head(2))\n"
   ]
  },
  {
   "cell_type": "code",
   "execution_count": 2,
   "id": "88a9e48a",
   "metadata": {},
   "outputs": [
    {
     "name": "stdout",
     "output_type": "stream",
     "text": [
      "    Name  Age\n",
      "1  Alice   26\n",
      "2   Alex   45\n"
     ]
    }
   ],
   "source": [
    "# 2 tail\n",
    "print(df.tail(2))"
   ]
  },
  {
   "cell_type": "code",
   "execution_count": 3,
   "id": "51cd9e15",
   "metadata": {},
   "outputs": [
    {
     "name": "stdout",
     "output_type": "stream",
     "text": [
      "    Name  Age Gender\n",
      "0   Axel   32      M\n",
      "1  Alice   26      F\n",
      "2   Alex   45      M\n"
     ]
    }
   ],
   "source": [
    "# 3 concat\n",
    "new_entry=pd.DataFrame(['M','F','M'],columns=['Gender'],index=[0,1,2])\n",
    "df=pd.concat([df,new_entry],axis=1)\n",
    "print(df)"
   ]
  },
  {
   "cell_type": "code",
   "execution_count": 4,
   "id": "289ed036",
   "metadata": {},
   "outputs": [
    {
     "name": "stdout",
     "output_type": "stream",
     "text": [
      "     A    B\n",
      "0  1.0  0.0\n",
      "1  2.0  5.0\n",
      "2  0.0  6.0\n",
      "3  4.0  0.0\n"
     ]
    }
   ],
   "source": [
    "#4 fillna\n",
    "import pandas as pd\n",
    "\n",
    "# Example DataFrame with NaN values\n",
    "data = {'A': [1, 2, None, 4],\n",
    "        'B': [None, 5, 6, None]}\n",
    "df2 = pd.DataFrame(data)\n",
    "\n",
    "# Fill NaN values with a scalar (e.g., 0)\n",
    "df_filled = df2.fillna(0)\n",
    "print(df_filled)\n"
   ]
  },
  {
   "cell_type": "code",
   "execution_count": 5,
   "id": "3fa3b59a",
   "metadata": {},
   "outputs": [
    {
     "name": "stdout",
     "output_type": "stream",
     "text": [
      "    Name  Age Gender    Sum  median  mode  CumSum  Product  cumpro\n",
      "0   Axel   32      M  103.0    32.0    26      32  37440.0      32\n",
      "1  Alice   26      F    NaN     NaN    32      58      NaN     832\n",
      "2   Alex   45      M    NaN     NaN    45     103      NaN   37440\n"
     ]
    }
   ],
   "source": [
    "# 5 mean(),mode(),median(),sum(),cumsum(),product(),cumprod()\n",
    "df['Sum']=pd.Series(df.Age.mean())\n",
    "df['median']=pd.Series(df.Age.median())\n",
    "df['mode']=pd.Series(df.Age.mode())\n",
    "df['Sum']=pd.Series(df.Age.sum())\n",
    "df['CumSum']=pd.Series(df.Age.cumsum())\n",
    "df['Product']=pd.Series(df.Age.product())\n",
    "df['cumpro']=pd.Series(df.Age.cumprod())\n",
    "print(df)\n"
   ]
  },
  {
   "cell_type": "markdown",
   "id": "06db1934",
   "metadata": {},
   "source": [
    "Q2. Given a Pandas DataFrame df with columns 'A', 'B', and 'C', write a Python function to re-index the \n",
    "DataFrame with a new index that starts from 1 and increments by 2 for each row."
   ]
  },
  {
   "cell_type": "code",
   "execution_count": 6,
   "id": "a16b4413",
   "metadata": {},
   "outputs": [
    {
     "name": "stdout",
     "output_type": "stream",
     "text": [
      "         A   B   C\n",
      "0   Martha  87  83\n",
      "1      Tim  91  99\n",
      "2      Rob  97  84\n",
      "3  Georgia  95  76\n"
     ]
    },
    {
     "data": {
      "text/html": [
       "<div>\n",
       "<style scoped>\n",
       "    .dataframe tbody tr th:only-of-type {\n",
       "        vertical-align: middle;\n",
       "    }\n",
       "\n",
       "    .dataframe tbody tr th {\n",
       "        vertical-align: top;\n",
       "    }\n",
       "\n",
       "    .dataframe thead th {\n",
       "        text-align: right;\n",
       "    }\n",
       "</style>\n",
       "<table border=\"1\" class=\"dataframe\">\n",
       "  <thead>\n",
       "    <tr style=\"text-align: right;\">\n",
       "      <th></th>\n",
       "      <th>A</th>\n",
       "      <th>B</th>\n",
       "      <th>C</th>\n",
       "    </tr>\n",
       "  </thead>\n",
       "  <tbody>\n",
       "    <tr>\n",
       "      <th>1</th>\n",
       "      <td>Tim</td>\n",
       "      <td>91.0</td>\n",
       "      <td>99.0</td>\n",
       "    </tr>\n",
       "    <tr>\n",
       "      <th>3</th>\n",
       "      <td>Georgia</td>\n",
       "      <td>95.0</td>\n",
       "      <td>76.0</td>\n",
       "    </tr>\n",
       "    <tr>\n",
       "      <th>5</th>\n",
       "      <td>NaN</td>\n",
       "      <td>NaN</td>\n",
       "      <td>NaN</td>\n",
       "    </tr>\n",
       "  </tbody>\n",
       "</table>\n",
       "</div>"
      ],
      "text/plain": [
       "         A     B     C\n",
       "1      Tim  91.0  99.0\n",
       "3  Georgia  95.0  76.0\n",
       "5      NaN   NaN   NaN"
      ]
     },
     "execution_count": 6,
     "metadata": {},
     "output_type": "execute_result"
    }
   ],
   "source": [
    "\n",
    "data={'A':['Martha', 'Tim', 'Rob', 'Georgia'],\n",
    "      'B':[87, 91, 97, 95],\n",
    "    'C':[83, 99, 84, 76]\n",
    "       }\n",
    "df3=pd.DataFrame(data)\n",
    "print(df3)\n",
    "df3=df3.reindex(index=[1,3,5])\n",
    "df3"
   ]
  },
  {
   "cell_type": "markdown",
   "id": "47e02b77",
   "metadata": {},
   "source": [
    "Q3. You have a Pandas DataFrame df with a column named 'Values'. Write a Python function that \n",
    "iterates over the DataFrame and calculates the sum of the first three values in the 'Values' column. The \n",
    "function should print the sum to the console.\n",
    "For example, if the 'Values' column of df contains the values [10, 20, 30, 40, 50], your function should \n",
    "calculate and print the sum of the first three values, which is 60.\n",
    "\n"
   ]
  },
  {
   "cell_type": "code",
   "execution_count": 7,
   "id": "b2022c93",
   "metadata": {},
   "outputs": [
    {
     "name": "stdout",
     "output_type": "stream",
     "text": [
      " The Original DataFrame:\n",
      "    0\n",
      "0  10\n",
      "1  20\n",
      "2  30\n",
      "3  40\n",
      "4  50\n",
      "The first three elements of DataFrame:\n",
      "    0\n",
      "0  10\n",
      "1  20\n",
      "2  30\n",
      "The Sum is :  60\n",
      "A function that iterates over the DataFrame \n"
     ]
    }
   ],
   "source": [
    "\n",
    "values=[10, 20, 30, 40, 50]\n",
    "def sum(i):\n",
    "    return i.sum(axis=0,skipna=True)\n",
    "    \n",
    "df3=pd.DataFrame(values)\n",
    "print(\" The Original DataFrame:\")\n",
    "print(df3)\n",
    "# print(df3.sum(axis=0))\n",
    "def iterate_and_sum(df3):\n",
    "    '''A function that iterates over the DataFrame '''\n",
    "    df3=df3.iloc[0:3,:]\n",
    "    print(\"The first three elements of DataFrame:\")\n",
    "    print(df3)\n",
    "    for index,values in df3.iteritems():\n",
    "        sum3=0\n",
    "    #     print(type(index))\n",
    "    #     print(type(values))\n",
    "        for i in values:\n",
    "    #         print(i)\n",
    "            \n",
    "            sum3+=i\n",
    "    return sum3\n",
    "print(\"The Sum is : \",iterate_and_sum(df3))\n",
    "\n",
    "print(iterate_and_sum.__doc__)"
   ]
  },
  {
   "cell_type": "markdown",
   "id": "07a9e286",
   "metadata": {},
   "source": [
    " Q4. Given a Pandas DataFrame df with a column 'Text', write a Python function to create a new column 'Word_Count' that contains the number of words in each row of the 'Text' column.\n",
    " "
   ]
  },
  {
   "cell_type": "code",
   "execution_count": 8,
   "id": "2a8465d9",
   "metadata": {
    "scrolled": true
   },
   "outputs": [
    {
     "name": "stdout",
     "output_type": "stream",
     "text": [
      "           Text\n",
      "0           Tom\n",
      "1  William Rick\n",
      "2          John\n",
      "3       Alber@t\n",
      "4           NaN\n",
      "5          1234\n",
      "6    SteveSmith\n",
      "Text    object\n",
      "dtype: object\n",
      "           Text Word_Count\n",
      "0           Tom          3\n",
      "1  William Rick         12\n",
      "2          John          4\n",
      "3       Alber@t          7\n",
      "4           NaN       <NA>\n",
      "5          1234          4\n",
      "6    SteveSmith         10\n"
     ]
    }
   ],
   "source": [
    "\n",
    "import numpy as np\n",
    "\n",
    "df4= pd.DataFrame(['Tom', 'William Rick', 'John', 'Alber@t', np.nan, '1234','SteveSmith'],columns=['Text'])\n",
    "print(df4)\n",
    "print(df4.dtypes)\n",
    "# df4=df4.astype('string')\n",
    "# print(df4.dtypes)\n",
    "def Word_Count(df4):\n",
    "    for clm,values in df4.iteritems():\n",
    "    #     print(values)\n",
    "    #     print(type(values))\n",
    "        s=values.astype('string')\n",
    "        Word_Data=s.str.len()\n",
    "        df4['Word_Count']=pd.DataFrame(Word_Data)\n",
    "        \n",
    "\n",
    "Word_Count(df4)\n",
    "print(df4)\n"
   ]
  },
  {
   "cell_type": "markdown",
   "id": "22393a76",
   "metadata": {},
   "source": [
    "Q5. How are DataFrame.size() and DataFrame.shape() different?\n",
    "ans\n",
    "Both DataFrame.size() and DataFrame.shape() are attributes of a Pandas DataFrame that provide information about its dimensions, but they serve different purposes:\n",
    "\n",
    "DataFrame.size():\n",
    "\n",
    "--> DataFrame.size returns the total number of elements in the DataFrame, i.e., the number of cells.\n",
    "\n",
    "-->It is calculated by multiplying the number of rows by the number of columns.\n",
    "\n",
    "-->This attribute returns a single integer value representing the total size of the DataFrame.\n",
    "\n",
    "-->It is often used to check the total number of elements in the DataFrame, regardless of its dimensions.\n",
    "\n",
    "DataFrame.shape(): \n",
    "\n",
    "-->DataFrame.shape returns a tuple representing the dimensions of the DataFrame, i.e., the number of rows and columns.\n",
    "\n",
    "-->It returns a tuple with two elements: the number of rows (axis 0) and the number of columns (axis 1).\n",
    "\n",
    "-->This attribute is commonly used to understand the structure of the DataFrame, including its number of rows and columns"
   ]
  },
  {
   "cell_type": "code",
   "execution_count": 9,
   "id": "4001ad21",
   "metadata": {},
   "outputs": [
    {
     "name": "stdout",
     "output_type": "stream",
     "text": [
      "6\n",
      "(3, 2)\n"
     ]
    }
   ],
   "source": [
    "import pandas as pd\n",
    "\n",
    "data = {'A': [1, 2, 3],\n",
    "        'B': [4, 5, 6]}\n",
    "df = pd.DataFrame(data)  # Output: 6 (2 rows * 3 columns = 6)\n",
    "\n",
    "#size\n",
    "print(df.size) \n",
    "\n",
    "#shape\n",
    "print(df.shape)  # Output: (3, 2) (3 rows, 2 columns)\n"
   ]
  },
  {
   "cell_type": "markdown",
   "id": "51f7ccb9",
   "metadata": {},
   "source": [
    "Q6. Which function of pandas do we use to read an excel file?\n",
    "ans:\n",
    "\n",
    "use the read_excel() function to read data from an Excel file into a DataFrame. This function provides flexibility in reading various types of Excel files, including .xls and .xlsx formats. \n",
    "eg:\n"
   ]
  },
  {
   "cell_type": "code",
   "execution_count": 11,
   "id": "1b3a36e5",
   "metadata": {},
   "outputs": [
    {
     "ename": "SyntaxError",
     "evalue": "EOF while scanning triple-quoted string literal (1141637768.py, line 28)",
     "output_type": "error",
     "traceback": [
      "\u001b[1;36m  Cell \u001b[1;32mIn [11], line 28\u001b[1;36m\u001b[0m\n\u001b[1;33m    print(df)\u001b[0m\n\u001b[1;37m             \n^\u001b[0m\n\u001b[1;31mSyntaxError\u001b[0m\u001b[1;31m:\u001b[0m EOF while scanning triple-quoted string literal\n"
     ]
    }
   ],
   "source": [
    "'''\n",
    "import pandas as pd\n",
    "\n",
    "# Syntax:\n",
    "# pd.read_excel(io, sheet_name=0, header=0, index_col=None, ...)\n",
    "\n",
    "# Parameters:\n",
    "# io: str, path object or file-like object (e.g., file handle or StringIO)\n",
    "#     The filepath or URL to the Excel file, or the file-like object containing the Excel data.\n",
    "# sheet_name: str, int, list, or None, default 0\n",
    "#     Specifies the sheet(s) to read. It can be a string (sheet name), an integer (sheet index), a list of strings/integers, or None (which reads all sheets).\n",
    "# header: int, list of int, default 0\n",
    "#     Specifies which row(s) to use as the column names. If None, no header will be used.\n",
    "# index_col: int, str, sequence of int/str, or False, default None\n",
    "#     Specifies the column(s) to use as the index (row labels) of the DataFrame. If a sequence is given, multi-level indexing is used.\n",
    "\n",
    "# Example:\n",
    "# Read data from an Excel file named 'data.xlsx' located in the current directory\n",
    "df = pd.read_excel('data.xlsx')\n",
    "\n",
    "# Read data from the second sheet of the Excel file\n",
    "# df = pd.read_excel('data.xlsx', sheet_name='Sheet2')\n",
    "\n",
    "# Read data with specific columns as index and header\n",
    "# df = pd.read_excel('data.xlsx', index_col='ID', header=0)\n",
    "\n",
    "# Display the DataFrame\n",
    "print(df)\n"
   ]
  },
  {
   "cell_type": "markdown",
   "id": "f97de771",
   "metadata": {},
   "source": [
    "Q7. You have a Pandas DataFrame df that contains a column named 'Email' that contains email addresses in the format 'username@domain.com'. Write a Python function that creates a new column 'Username' in df that contains only the username part of each email address.\n",
    "The username is the part of the email address that appears before the '@' symbol. For example, if the email address is 'john.doe@example.com', the 'Username' column should contain 'john.doe'.\n",
    "Your function should extract the username from each email address and store it in the new 'Username' column"
   ]
  },
  {
   "cell_type": "code",
   "execution_count": null,
   "id": "533e870b",
   "metadata": {},
   "outputs": [],
   "source": [
    "\n",
    "df7 = pd.DataFrame({\n",
    "    'Email': ['john.doe@example.com','albertofrancoaf@gmail.com','ginomcneillgm@yahoo.com','ryanparkesrp@abc.com', 'eeshahintonef@mail.com', 'ginomcneillgm@github.com']})\n",
    "def username_from_email(dataframe):\n",
    "    for col,values in dataframe.iteritems():\n",
    "        s7=values.astype('string')\n",
    "        data=list(s7.str.split('@'))\n",
    "        data=s7.str.split('@')\n",
    "    #     print(data)\n",
    "        username=[]\n",
    "        for i,j in data.iteritems():\n",
    "    #         print(j,i)\n",
    "            username=username+[j[0]]\n",
    "        dataframe['username']=pd.Series(username)           \n",
    "        \n",
    "username_from_email(df7)\n",
    "print(df7)"
   ]
  },
  {
   "cell_type": "markdown",
   "id": "ac59c79a",
   "metadata": {},
   "source": [
    "'Q8. You have a Pandas DataFrame df with columns 'A', 'B', and 'C'.Write a Python function that selects all rows where\n",
    "the value in column 'A' is greater than 5 and the value in column 'B' is less than 5. The function should return a new\n",
    "DataFrame that contains only the selected rows.For example, if df contains the following values:\n",
    "\n",
    "  A B C\n",
    "\n",
    "0 3 5 1\n",
    "\n",
    "1 8 2 7\n",
    "\n",
    "2 6 9 4\n",
    "\n",
    "3 2 3 5\n",
    "\n",
    "4 9 1 2\n",
    "\n",
    "Your function should select the following rows: A B C\n",
    "\n",
    "1 8 2 7\n",
    "\n",
    "4 9 1 2\n",
    "\n",
    "The function should return a new DataFrame that contains only the selected rows.'''"
   ]
  },
  {
   "cell_type": "code",
   "execution_count": null,
   "id": "510e14e8",
   "metadata": {
    "scrolled": true
   },
   "outputs": [],
   "source": [
    "\n",
    "df8=pd.DataFrame({'A':[3,8,6,2,9],\n",
    "                  'B':[5,2,9,3,1],\n",
    "                  'C':[1,7,4,5,2]})\n",
    "print(df8)\n",
    "print(\"\\n\")\n",
    "print(df8[(df8.loc[:,'A'] >5) & (df8.loc[:,'B']<5)])"
   ]
  },
  {
   "cell_type": "markdown",
   "id": "ef599f90",
   "metadata": {},
   "source": [
    "Q9. Given a Pandas DataFrame df with a column 'Values', write a Python function to calculate the mean, median, and standard deviation of the values in the 'Values' column.\n"
   ]
  },
  {
   "cell_type": "code",
   "execution_count": null,
   "id": "a5068ecd",
   "metadata": {},
   "outputs": [],
   "source": [
    "\n",
    "df=pd.DataFrame({'Values':[1,7,4,5,2]})\n",
    "print(\"mean :\",df.mean())\n",
    "print(\"median :\",df.median())\n",
    "print(\"mode :\",df.mode())\n",
    "print(\"standard deviation :\",df.std())"
   ]
  },
  {
   "cell_type": "code",
   "execution_count": null,
   "id": "af6e1975",
   "metadata": {},
   "outputs": [],
   "source": [
    "'''\n",
    "Q11. You have a Pandas DataFrame df with a column 'Date'. Write a Python function that creates a new column 'Weekday' in the DataFrame. The 'Weekday' column should contain the weekday name (e.g. Monday, Tuesday) corresponding to each date in the 'Date' column.\n",
    "\n",
    "For example, if df contains the following values:\n",
    "\n",
    "     Date\n",
    "0 2023-01-01\n",
    "\n",
    "1 2023-01-02\n",
    "\n",
    "2 2023-01-03\n",
    "\n",
    "3 2023-01-04\n",
    "\n",
    "4 2023-01-05\n",
    "\n",
    "Your function should create the following DataFrame:\n",
    "\n",
    "     Date               Weekday\n",
    "0 2023-01-01 Sunday\n",
    "\n",
    "1 2023-01-02 Monday\n",
    "\n",
    "2 2023-01-03 Tuesday\n",
    "\n",
    "3 2023-01-04 Wednesday\n",
    "\n",
    "4 2023-01-05 Thursday\n",
    "\n",
    "The function should return the modified DataFrame.\n",
    "'''\n"
   ]
  },
  {
   "cell_type": "code",
   "execution_count": null,
   "id": "93f4acdb",
   "metadata": {},
   "outputs": [],
   "source": [
    "# df['day_of_week'] = df['my_dates'].dt.day_name()\n",
    "dates=[\"2023-01-01\",\"2023-01-02\",\"2023-01-03\",\"2023-01-04\",\"2023-01-05\"]\n",
    "df11=pd.DataFrame(dates, columns=['Dates'])\n",
    "df11['Dates']=pd.to_datetime(df11['Dates'])\n",
    "df11['Weekday'] = df11['Dates'].dt.day_name()\n",
    "print(df11)"
   ]
  },
  {
   "cell_type": "markdown",
   "id": "49e2455a",
   "metadata": {},
   "source": [
    "Q12. Given a Pandas DataFrame df with a column 'Date' that contains timestamps, write a Python function to select all rows where the date is between '2023-01-01' and '2023-01-31'.\n"
   ]
  },
  {
   "cell_type": "code",
   "execution_count": null,
   "id": "5518859d",
   "metadata": {},
   "outputs": [],
   "source": [
    "\n",
    "\n",
    "\n",
    "import pandas as pd\n",
    "\n",
    "# Creating a sample DataFrame\n",
    "data = {'Date': ['2023-01-05', '2023-01-15', '2023-01-25', '2023-02-05', '2023-02-15'],\n",
    "        'Value': [10, 20, 30, 40, 50]}\n",
    "\n",
    "df = pd.DataFrame(data)\n",
    "\n",
    "# Display the original DataFrame\n",
    "print(\"Original DataFrame:\")\n",
    "print(df)\n",
    "\n",
    "# Function to select rows between '2023-01-01' and '2023-01-31'\n",
    "def select_rows_between_dates(df):\n",
    "    df['Date'] = pd.to_datetime(df['Date'])\n",
    "    start_date = '2023-01-01'\n",
    "    end_date = '2023-01-31'\n",
    "    selected_rows = df[(df['Date'] >= start_date) & (df['Date'] <= end_date)]\n",
    "    return selected_rows\n",
    "\n",
    "# Use the function to select rows within the specified date range\n",
    "selected_rows = select_rows_between_dates(df)\n",
    "\n",
    "# Display the selected rows\n",
    "print(\"\\nSelected Rows:\")\n",
    "print(selected_rows)\n",
    "\n"
   ]
  },
  {
   "cell_type": "code",
   "execution_count": null,
   "id": "94086fcd",
   "metadata": {},
   "outputs": [],
   "source": [
    "'''\n",
    "\n",
    "Q13. To use the basic functions of pandas, what is the first and foremost necessary library that needs to be imported?\n",
    "\n",
    "'''\n",
    "import pandas as pd \n",
    "# pd is the alias name"
   ]
  },
  {
   "cell_type": "code",
   "execution_count": null,
   "id": "ebf11572",
   "metadata": {},
   "outputs": [],
   "source": []
  }
 ],
 "metadata": {
  "kernelspec": {
   "display_name": "Python 3 (ipykernel)",
   "language": "python",
   "name": "python3"
  },
  "language_info": {
   "codemirror_mode": {
    "name": "ipython",
    "version": 3
   },
   "file_extension": ".py",
   "mimetype": "text/x-python",
   "name": "python",
   "nbconvert_exporter": "python",
   "pygments_lexer": "ipython3",
   "version": "3.9.2"
  }
 },
 "nbformat": 4,
 "nbformat_minor": 5
}
