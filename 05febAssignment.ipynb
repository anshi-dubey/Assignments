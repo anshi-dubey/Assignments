{
 "cells": [
  {
   "cell_type": "raw",
   "id": "eb61f2b0",
   "metadata": {},
   "source": [
    "Q1. Explain Class and Object with respect to Object-Oriented Programming. Give a suitable example."
   ]
  },
  {
   "cell_type": "code",
   "execution_count": 1,
   "id": "cfd13cc8",
   "metadata": {},
   "outputs": [
    {
     "name": "stdout",
     "output_type": "stream",
     "text": [
      "('Anshika dubey', 382, 198345)\n"
     ]
    }
   ],
   "source": [
    "'''\n",
    "A class contains the blueprints or the prototype from which the objects are being created.It is a\n",
    " logical entity that contains some attributes and methods.Classes are created by keyword class.\n",
    "\n",
    "The object is an entity that has a state and behavior associated with it. It may be any real-world \n",
    "object\n",
    "'''\n",
    "# example\n",
    "class Students:\n",
    "    def __init__(self,name,roll_no,admission_no):\n",
    "        self.nme=name\n",
    "        self.rlno=roll_no\n",
    "        self.adm=admission_no\n",
    "    def details(self):\n",
    "        return self.nme,self.rlno,self.adm\n",
    "Anshika=Students(\"Anshika dubey\",382,198345)\n",
    "print(Anshika.details())"
   ]
  },
  {
   "cell_type": "raw",
   "id": "0ec89554",
   "metadata": {},
   "source": [
    " Q2. Name the four pillars of OOPs."
   ]
  },
  {
   "cell_type": "code",
   "execution_count": 2,
   "id": "0374a13d",
   "metadata": {},
   "outputs": [
    {
     "data": {
      "text/plain": [
       "'\\nThe Four Pillars of OOPs are\\n1) Polymorphism\\n2) Encapsulation\\n3) Inheritance\\n4) Abstraction\\n\\n'"
      ]
     },
     "execution_count": 2,
     "metadata": {},
     "output_type": "execute_result"
    }
   ],
   "source": [
    "'''\n",
    "The Four Pillars of OOPs are\n",
    "1) Polymorphism\n",
    "2) Encapsulation\n",
    "3) Inheritance\n",
    "4) Abstraction\n",
    "\n",
    "'''"
   ]
  },
  {
   "cell_type": "raw",
   "id": "a10f44c0",
   "metadata": {},
   "source": [
    "Q3. Explain why the __init__() function is used. Give a suitable example."
   ]
  },
  {
   "cell_type": "code",
   "execution_count": 3,
   "id": "dee8b4f7",
   "metadata": {},
   "outputs": [
    {
     "name": "stdout",
     "output_type": "stream",
     "text": [
      "('Abc', 5343, 'XYZ')\n"
     ]
    }
   ],
   "source": [
    "'''\n",
    "The __init__ method is similar to constructors.\n",
    "it's is useful to do any initialization you want to do with your object. \n",
    "'''\n",
    "# example\n",
    "class Workers:\n",
    "    def __init__(self,name,serial_no,manager_name):\n",
    "        self.nme=name\n",
    "        self.sno=serial_no\n",
    "        self.manager=manager_name\n",
    "    def details(self):\n",
    "        return self.nme,self.sno,self.manager\n",
    "worker1=Workers(\"Abc\",5343,\"XYZ\")\n",
    "print(worker1.details())"
   ]
  },
  {
   "cell_type": "raw",
   "id": "56d8f197",
   "metadata": {},
   "source": [
    "Q4. Why self is used in OOPs?"
   ]
  },
  {
   "cell_type": "code",
   "execution_count": 4,
   "id": "4b069b3a",
   "metadata": {},
   "outputs": [
    {
     "data": {
      "text/plain": [
       "'\\nself is an first parameter that is declared \\nit is use as referance which refer the methode or function to class and act as a pointer which indicate that this\\nfunction belongs to a specific class.It binds the attributes with the given arguments.\\n'"
      ]
     },
     "execution_count": 4,
     "metadata": {},
     "output_type": "execute_result"
    }
   ],
   "source": [
    "'''\n",
    "self is an first parameter that is declared \n",
    "it is use as referance which refer the methode or function to class and act as a pointer which indicate that this\n",
    "function belongs to a specific class.It binds the attributes with the given arguments.\n",
    "'''\n"
   ]
  },
  {
   "cell_type": "raw",
   "id": "a6b8f187",
   "metadata": {},
   "source": [
    "Q5. What is inheritance? Give an example for each type of inheritance."
   ]
  },
  {
   "cell_type": "code",
   "execution_count": 36,
   "id": "6964e137",
   "metadata": {},
   "outputs": [
    {
     "name": "stdout",
     "output_type": "stream",
     "text": [
      "Anshika\n"
     ]
    }
   ],
   "source": [
    "'''\n",
    "Inheritance is the capability of one class to derive or inherit the properties from another class. \n",
    "The class that derives properties is called the derived class or child class and the class from which\n",
    "the properties are being derived is called the base class or parent class. The benefits of inheritance are:\n",
    "--> It represents real-world relationships well.\n",
    "-->It provides the reusability of a code. We don’t have to write the same code again and again.\n",
    "Also, it allows us to add more features to a class without modifying it.\n",
    "-->It is transitive in nature, which means that if class B inherits from another class A,\n",
    "then all the subclasses of B would automatically inherit from class A. \n",
    "\n",
    "Types of Inheritance – \n",
    "-->Single Inheritance:\n",
    "When a child class inherits from only one parent class, it is called single inheritance\n",
    "'''\n",
    "# example\n",
    "class A:\n",
    "    def __init__(self,name):\n",
    "        self.nme=name\n",
    "class B(A):\n",
    "    def __init__(self,rollno):\n",
    "        self.rno=rollno\n",
    "obj1=A(\"Anshika\")\n",
    "print(obj1.nme)"
   ]
  },
  {
   "cell_type": "code",
   "execution_count": 60,
   "id": "ea6ae845",
   "metadata": {},
   "outputs": [
    {
     "name": "stdout",
     "output_type": "stream",
     "text": [
      "('RAJESH', 'Mamta')\n"
     ]
    }
   ],
   "source": [
    "'''-->Multiple Inheritance:\n",
    "Multiple level inheritance enables one derived class to inherit properties from more than one base class.\n",
    "'''\n",
    "class Father:\n",
    "    fname=\"Akhil\"\n",
    "        \n",
    "class Mother:\n",
    "    def m_name(self):\n",
    "        self.mname='Mamta'\n",
    "        return self.mname\n",
    "    \n",
    "class Son(Father, Mother):\n",
    "    def __init__(self,name):\n",
    "        self.nme=name\n",
    "    def details(self):\n",
    "        return self.nme,self.m_name()\n",
    "object=Son('RAJESH')\n",
    "print(object.details())\n"
   ]
  },
  {
   "cell_type": "code",
   "execution_count": 6,
   "id": "84b7d016",
   "metadata": {},
   "outputs": [
    {
     "name": "stdout",
     "output_type": "stream",
     "text": [
      "20 Father SON\n"
     ]
    }
   ],
   "source": [
    "'''-->Multilevel Inheritance:\n",
    "When we have a child and grandchild relationship. \n",
    "'''\n",
    "# example\n",
    "class Father:\n",
    "    def __init__(self):\n",
    "        self.str1=\"Father\"\n",
    "        self.age=80\n",
    "    def who(self):\n",
    "        return self.str2\n",
    "    \n",
    "class Son(Father):\n",
    "    def __init__(self):\n",
    "        Father.__init__(self)\n",
    "        self.str2=\"SON\"\n",
    "        self.age=40\n",
    "    def getAge(self):\n",
    "        return self.age\n",
    "    \n",
    "class Grandson(Son):\n",
    "    def __init__(self):\n",
    "        Son.__init__(self)\n",
    "        self.str3=\"Grandson\"\n",
    "        self.age=20\n",
    "    def getadd(self):\n",
    "        return self.str1\n",
    "\n",
    "ob1=Grandson()\n",
    "print(ob1.getAge(),ob1.getadd(),ob1.who())"
   ]
  },
  {
   "cell_type": "code",
   "execution_count": 30,
   "id": "02a93aa1",
   "metadata": {
    "scrolled": true
   },
   "outputs": [
    {
     "name": "stdout",
     "output_type": "stream",
     "text": [
      "('12April', 'base')\n"
     ]
    }
   ],
   "source": [
    "'''-->Hierarchical Inheritance:\n",
    "Hierarchical level inheritance enables more than one derived class to inherit properties from a parent class.\n",
    "'''\n",
    "# example\n",
    "class Base:\n",
    "    def name(self):\n",
    "        self.name='base'\n",
    "        return self.name\n",
    "    \n",
    "class Derived1(Base):\n",
    "    \n",
    "    def year(self,a=1990):\n",
    "        return self.a\n",
    "    \n",
    "class Derived2(Base):\n",
    "    def date(self):\n",
    "        self.date='12April'\n",
    "        return self.date,self.name()\n",
    "obj3=Derived2()\n",
    "print(obj3.date())"
   ]
  }
 ],
 "metadata": {
  "kernelspec": {
   "display_name": "Python 3 (ipykernel)",
   "language": "python",
   "name": "python3"
  },
  "language_info": {
   "codemirror_mode": {
    "name": "ipython",
    "version": 3
   },
   "file_extension": ".py",
   "mimetype": "text/x-python",
   "name": "python",
   "nbconvert_exporter": "python",
   "pygments_lexer": "ipython3",
   "version": "3.9.2"
  }
 },
 "nbformat": 4,
 "nbformat_minor": 5
}
